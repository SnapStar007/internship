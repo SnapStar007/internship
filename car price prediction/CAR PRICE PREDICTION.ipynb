{
 "cells": [
  {
   "cell_type": "code",
   "execution_count": 1,
   "metadata": {},
   "outputs": [],
   "source": [
    "import pandas as pd \n",
    "import numpy as np\n",
    "import matplotlib.pyplot as plt\n",
    "import seaborn as sns\n",
    "from sklearn.model_selection import train_test_split\n",
    "from sklearn.decomposition import PCA\n",
    "from sklearn.linear_model import LinearRegression\n",
    "from sklearn.model_selection import GridSearchCV\n",
    "from sklearn.neighbors import KNeighborsClassifier\n",
    "from sklearn.neighbors import KNeighborsRegressor\n",
    "from sklearn.preprocessing import StandardScaler\n",
    "from sklearn.preprocessing import LabelEncoder\n",
    "from sklearn.model_selection import cross_val_score\n",
    "from sklearn.neighbors import KNeighborsClassifier\n",
    "from sklearn.tree import DecisionTreeClassifier\n",
    "from sklearn.ensemble import RandomForestClassifier\n",
    "from sklearn.svm import SVC\n",
    "from sklearn.svm import SVR\n",
    "from sklearn.metrics import confusion_matrix\n",
    "from sklearn.metrics import classification_report,accuracy_score\n",
    "from sklearn.metrics import roc_auc_score\n",
    "from sklearn.naive_bayes import MultinomialNB\n",
    "from sklearn.ensemble import GradientBoostingClassifier\n",
    "from sklearn.ensemble import ExtraTreesClassifier\n",
    "from sklearn.ensemble import ExtraTreesRegressor\n",
    "from sklearn.ensemble import GradientBoostingRegressor\n",
    "from sklearn.ensemble import AdaBoostClassifier\n",
    "from sklearn.ensemble import AdaBoostRegressor\n",
    "from sklearn.ensemble import BaggingRegressor\n",
    "from sklearn.ensemble import RandomForestRegressor\n",
    "from sklearn.tree import DecisionTreeRegressor\n",
    "from sklearn.metrics import r2_score\n",
    "from sklearn.linear_model import RidgeClassifier\n",
    "from sklearn.ensemble import BaggingClassifier\n",
    "from sklearn.linear_model import LogisticRegression \n",
    "from sklearn.linear_model import Lasso\n",
    "from sklearn.linear_model import Ridge\n",
    "from sklearn.linear_model import ElasticNet\n",
    "from sklearn.linear_model import LassoLars\n",
    "from sklearn.linear_model import BayesianRidge\n",
    "from sklearn.linear_model import SGDClassifier\n",
    "from sklearn.linear_model import SGDRegressor\n",
    "from mlxtend.regressor import StackingCVRegressor\n",
    "from sklearn.metrics import roc_auc_score,roc_curve\n",
    "from sklearn.metrics import mean_absolute_error\n",
    "import joblib\n",
    "import warnings\n",
    "warnings.filterwarnings('ignore')\n",
    "from statsmodels.stats.outliers_influence import variance_inflation_factor"
   ]
  },
  {
   "cell_type": "code",
   "execution_count": 2,
   "metadata": {
    "scrolled": false
   },
   "outputs": [
    {
     "data": {
      "text/html": [
       "<div>\n",
       "<style scoped>\n",
       "    .dataframe tbody tr th:only-of-type {\n",
       "        vertical-align: middle;\n",
       "    }\n",
       "\n",
       "    .dataframe tbody tr th {\n",
       "        vertical-align: top;\n",
       "    }\n",
       "\n",
       "    .dataframe thead th {\n",
       "        text-align: right;\n",
       "    }\n",
       "</style>\n",
       "<table border=\"1\" class=\"dataframe\">\n",
       "  <thead>\n",
       "    <tr style=\"text-align: right;\">\n",
       "      <th></th>\n",
       "      <th>Unnamed: 0</th>\n",
       "      <th>year and brand</th>\n",
       "      <th>model</th>\n",
       "      <th>fuel</th>\n",
       "      <th>variant</th>\n",
       "      <th>kms</th>\n",
       "      <th>Price</th>\n",
       "    </tr>\n",
       "  </thead>\n",
       "  <tbody>\n",
       "    <tr>\n",
       "      <th>0</th>\n",
       "      <td>0</td>\n",
       "      <td>2016 Maruti Baleno</td>\n",
       "      <td>1.2 CVT Delta</td>\n",
       "      <td>Petrol</td>\n",
       "      <td>Automatic</td>\n",
       "      <td>25,735 kms</td>\n",
       "      <td>5.74 Lakh</td>\n",
       "    </tr>\n",
       "    <tr>\n",
       "      <th>1</th>\n",
       "      <td>1</td>\n",
       "      <td>2015 Hyundai Grand i10</td>\n",
       "      <td>Sportz</td>\n",
       "      <td>Petrol</td>\n",
       "      <td>Manual</td>\n",
       "      <td>18,174 kms</td>\n",
       "      <td>4.5 Lakh</td>\n",
       "    </tr>\n",
       "    <tr>\n",
       "      <th>2</th>\n",
       "      <td>2</td>\n",
       "      <td>2014 Hyundai i10</td>\n",
       "      <td>Sportz 1.1L</td>\n",
       "      <td>Petrol</td>\n",
       "      <td>Manual</td>\n",
       "      <td>45,195 kms</td>\n",
       "      <td>3.31 Lakh</td>\n",
       "    </tr>\n",
       "    <tr>\n",
       "      <th>3</th>\n",
       "      <td>3</td>\n",
       "      <td>2017 Maruti Alto K10</td>\n",
       "      <td>VXI Optional</td>\n",
       "      <td>Petrol</td>\n",
       "      <td>Manual</td>\n",
       "      <td>22,761 kms</td>\n",
       "      <td>3.34 Lakh</td>\n",
       "    </tr>\n",
       "    <tr>\n",
       "      <th>4</th>\n",
       "      <td>4</td>\n",
       "      <td>2015 Hyundai Grand i10</td>\n",
       "      <td>Asta Option</td>\n",
       "      <td>Petrol</td>\n",
       "      <td>Manual</td>\n",
       "      <td>22,819 kms</td>\n",
       "      <td>4.25 Lakh</td>\n",
       "    </tr>\n",
       "    <tr>\n",
       "      <th>...</th>\n",
       "      <td>...</td>\n",
       "      <td>...</td>\n",
       "      <td>...</td>\n",
       "      <td>...</td>\n",
       "      <td>...</td>\n",
       "      <td>...</td>\n",
       "      <td>...</td>\n",
       "    </tr>\n",
       "    <tr>\n",
       "      <th>5665</th>\n",
       "      <td>5665</td>\n",
       "      <td>2012 Maruti Eeco</td>\n",
       "      <td>5 Seater AC BSIV</td>\n",
       "      <td>Petrol</td>\n",
       "      <td>Manual</td>\n",
       "      <td>30,000 kms</td>\n",
       "      <td>2.25 Lakh</td>\n",
       "    </tr>\n",
       "    <tr>\n",
       "      <th>5666</th>\n",
       "      <td>5666</td>\n",
       "      <td>2018 Ford Figo</td>\n",
       "      <td>1.2P Titanium MT</td>\n",
       "      <td>Petrol</td>\n",
       "      <td>Manual</td>\n",
       "      <td>27,003 kms</td>\n",
       "      <td>4.9 Lakh</td>\n",
       "    </tr>\n",
       "    <tr>\n",
       "      <th>5667</th>\n",
       "      <td>5667</td>\n",
       "      <td>2019 Hyundai Creta</td>\n",
       "      <td>1.6 SX Option</td>\n",
       "      <td>Petrol</td>\n",
       "      <td>Manual</td>\n",
       "      <td>19,000 kms</td>\n",
       "      <td>13 Lakh</td>\n",
       "    </tr>\n",
       "    <tr>\n",
       "      <th>5668</th>\n",
       "      <td>5668</td>\n",
       "      <td>2018 Maruti Ignis</td>\n",
       "      <td>Alpha</td>\n",
       "      <td>Petrol</td>\n",
       "      <td>Manual</td>\n",
       "      <td>14,002 kms</td>\n",
       "      <td>4.75 Lakh</td>\n",
       "    </tr>\n",
       "    <tr>\n",
       "      <th>5669</th>\n",
       "      <td>5669</td>\n",
       "      <td>2018 Toyota Innova Crysta</td>\n",
       "      <td>2.8 GX AT BSIV</td>\n",
       "      <td>Diesel</td>\n",
       "      <td>Automatic</td>\n",
       "      <td>1,12,000 kms</td>\n",
       "      <td>16.5 Lakh</td>\n",
       "    </tr>\n",
       "  </tbody>\n",
       "</table>\n",
       "<p>5670 rows × 7 columns</p>\n",
       "</div>"
      ],
      "text/plain": [
       "      Unnamed: 0             year and brand             model    fuel  \\\n",
       "0              0         2016 Maruti Baleno     1.2 CVT Delta  Petrol   \n",
       "1              1     2015 Hyundai Grand i10            Sportz  Petrol   \n",
       "2              2           2014 Hyundai i10       Sportz 1.1L  Petrol   \n",
       "3              3       2017 Maruti Alto K10      VXI Optional  Petrol   \n",
       "4              4     2015 Hyundai Grand i10       Asta Option  Petrol   \n",
       "...          ...                        ...               ...     ...   \n",
       "5665        5665           2012 Maruti Eeco  5 Seater AC BSIV  Petrol   \n",
       "5666        5666             2018 Ford Figo  1.2P Titanium MT  Petrol   \n",
       "5667        5667         2019 Hyundai Creta     1.6 SX Option  Petrol   \n",
       "5668        5668          2018 Maruti Ignis             Alpha  Petrol   \n",
       "5669        5669  2018 Toyota Innova Crysta    2.8 GX AT BSIV  Diesel   \n",
       "\n",
       "        variant           kms      Price  \n",
       "0     Automatic    25,735 kms  5.74 Lakh  \n",
       "1        Manual    18,174 kms   4.5 Lakh  \n",
       "2        Manual    45,195 kms  3.31 Lakh  \n",
       "3        Manual    22,761 kms  3.34 Lakh  \n",
       "4        Manual    22,819 kms  4.25 Lakh  \n",
       "...         ...           ...        ...  \n",
       "5665     Manual    30,000 kms  2.25 Lakh  \n",
       "5666     Manual    27,003 kms   4.9 Lakh  \n",
       "5667     Manual    19,000 kms    13 Lakh  \n",
       "5668     Manual    14,002 kms  4.75 Lakh  \n",
       "5669  Automatic  1,12,000 kms  16.5 Lakh  \n",
       "\n",
       "[5670 rows x 7 columns]"
      ]
     },
     "execution_count": 2,
     "metadata": {},
     "output_type": "execute_result"
    }
   ],
   "source": [
    "df=pd.read_excel('cardekho_scr.xlsx')\n",
    "df"
   ]
  },
  {
   "cell_type": "markdown",
   "metadata": {},
   "source": [
    "# With the covid 19 impact in the market, we have seen lot of changes in the car market. \n",
    "# Now some cars are in demand hence making them costly and some are not in demand hence cheaper. One of our clients works with small traders, who sell used cars. With the change in market due to covid 19 impact, our client is facing problems with their previous car price valuation machine learning models. So, they are looking for new machine learning models from new data. We have to make car price valuation model."
   ]
  },
  {
   "cell_type": "markdown",
   "metadata": {},
   "source": [
    "# year & brand name = shows us the details of the model year and its brand name.\n",
    "\n",
    "# Model = model name of the car.\n",
    "\n",
    "# Fuel = fuel used by the car engine.\n",
    "\n",
    "# Variant = variant of the car whether its automatic or manual.\n",
    "\n",
    "# Kms = shows us the details of how much km the car has covered.\n",
    "\n",
    "# Price = price of the car.\n"
   ]
  },
  {
   "cell_type": "code",
   "execution_count": 3,
   "metadata": {
    "scrolled": true
   },
   "outputs": [
    {
     "data": {
      "text/plain": [
       "Unnamed: 0         int64\n",
       "year and brand    object\n",
       "model             object\n",
       "fuel              object\n",
       "variant           object\n",
       "kms               object\n",
       "Price             object\n",
       "dtype: object"
      ]
     },
     "execution_count": 3,
     "metadata": {},
     "output_type": "execute_result"
    }
   ],
   "source": [
    "df.dtypes"
   ]
  },
  {
   "cell_type": "markdown",
   "metadata": {},
   "source": [
    "# we can see that all the data is in object type data which we need to convert into numeric format to build evaluation models"
   ]
  },
  {
   "cell_type": "markdown",
   "metadata": {},
   "source": [
    "# DATA CLEANING"
   ]
  },
  {
   "cell_type": "code",
   "execution_count": 4,
   "metadata": {},
   "outputs": [
    {
     "data": {
      "text/html": [
       "<div>\n",
       "<style scoped>\n",
       "    .dataframe tbody tr th:only-of-type {\n",
       "        vertical-align: middle;\n",
       "    }\n",
       "\n",
       "    .dataframe tbody tr th {\n",
       "        vertical-align: top;\n",
       "    }\n",
       "\n",
       "    .dataframe thead th {\n",
       "        text-align: right;\n",
       "    }\n",
       "</style>\n",
       "<table border=\"1\" class=\"dataframe\">\n",
       "  <thead>\n",
       "    <tr style=\"text-align: right;\">\n",
       "      <th></th>\n",
       "      <th>0</th>\n",
       "      <th>1</th>\n",
       "    </tr>\n",
       "  </thead>\n",
       "  <tbody>\n",
       "    <tr>\n",
       "      <th>0</th>\n",
       "      <td>2016</td>\n",
       "      <td>Maruti Baleno</td>\n",
       "    </tr>\n",
       "    <tr>\n",
       "      <th>1</th>\n",
       "      <td>2015</td>\n",
       "      <td>Hyundai Grand i10</td>\n",
       "    </tr>\n",
       "    <tr>\n",
       "      <th>2</th>\n",
       "      <td>2014</td>\n",
       "      <td>Hyundai i10</td>\n",
       "    </tr>\n",
       "    <tr>\n",
       "      <th>3</th>\n",
       "      <td>2017</td>\n",
       "      <td>Maruti Alto K10</td>\n",
       "    </tr>\n",
       "    <tr>\n",
       "      <th>4</th>\n",
       "      <td>2015</td>\n",
       "      <td>Hyundai Grand i10</td>\n",
       "    </tr>\n",
       "    <tr>\n",
       "      <th>...</th>\n",
       "      <td>...</td>\n",
       "      <td>...</td>\n",
       "    </tr>\n",
       "    <tr>\n",
       "      <th>5665</th>\n",
       "      <td>2012</td>\n",
       "      <td>Maruti Eeco</td>\n",
       "    </tr>\n",
       "    <tr>\n",
       "      <th>5666</th>\n",
       "      <td>2018</td>\n",
       "      <td>Ford Figo</td>\n",
       "    </tr>\n",
       "    <tr>\n",
       "      <th>5667</th>\n",
       "      <td>2019</td>\n",
       "      <td>Hyundai Creta</td>\n",
       "    </tr>\n",
       "    <tr>\n",
       "      <th>5668</th>\n",
       "      <td>2018</td>\n",
       "      <td>Maruti Ignis</td>\n",
       "    </tr>\n",
       "    <tr>\n",
       "      <th>5669</th>\n",
       "      <td>2018</td>\n",
       "      <td>Toyota Innova Crysta</td>\n",
       "    </tr>\n",
       "  </tbody>\n",
       "</table>\n",
       "<p>5670 rows × 2 columns</p>\n",
       "</div>"
      ],
      "text/plain": [
       "         0                     1\n",
       "0     2016         Maruti Baleno\n",
       "1     2015     Hyundai Grand i10\n",
       "2     2014           Hyundai i10\n",
       "3     2017       Maruti Alto K10\n",
       "4     2015     Hyundai Grand i10\n",
       "...    ...                   ...\n",
       "5665  2012           Maruti Eeco\n",
       "5666  2018             Ford Figo\n",
       "5667  2019         Hyundai Creta\n",
       "5668  2018          Maruti Ignis\n",
       "5669  2018  Toyota Innova Crysta\n",
       "\n",
       "[5670 rows x 2 columns]"
      ]
     },
     "execution_count": 4,
     "metadata": {},
     "output_type": "execute_result"
    }
   ],
   "source": [
    "#spliting the year and brand name into two different columns\n",
    "df1 = df[\"year and brand\"].str.split(\" \", n = 1, expand = True)\n",
    "df1"
   ]
  },
  {
   "cell_type": "code",
   "execution_count": 5,
   "metadata": {},
   "outputs": [],
   "source": [
    "#assinging the values \n",
    "df['year']=df1[0]\n",
    "df['brand']=df1[1]"
   ]
  },
  {
   "cell_type": "code",
   "execution_count": 6,
   "metadata": {
    "scrolled": false
   },
   "outputs": [
    {
     "data": {
      "text/html": [
       "<div>\n",
       "<style scoped>\n",
       "    .dataframe tbody tr th:only-of-type {\n",
       "        vertical-align: middle;\n",
       "    }\n",
       "\n",
       "    .dataframe tbody tr th {\n",
       "        vertical-align: top;\n",
       "    }\n",
       "\n",
       "    .dataframe thead th {\n",
       "        text-align: right;\n",
       "    }\n",
       "</style>\n",
       "<table border=\"1\" class=\"dataframe\">\n",
       "  <thead>\n",
       "    <tr style=\"text-align: right;\">\n",
       "      <th></th>\n",
       "      <th>Unnamed: 0</th>\n",
       "      <th>year and brand</th>\n",
       "      <th>model</th>\n",
       "      <th>fuel</th>\n",
       "      <th>variant</th>\n",
       "      <th>kms</th>\n",
       "      <th>Price</th>\n",
       "      <th>year</th>\n",
       "      <th>brand</th>\n",
       "    </tr>\n",
       "  </thead>\n",
       "  <tbody>\n",
       "    <tr>\n",
       "      <th>0</th>\n",
       "      <td>0</td>\n",
       "      <td>2016 Maruti Baleno</td>\n",
       "      <td>1.2 CVT Delta</td>\n",
       "      <td>Petrol</td>\n",
       "      <td>Automatic</td>\n",
       "      <td>25,735 kms</td>\n",
       "      <td>5.74</td>\n",
       "      <td>2016</td>\n",
       "      <td>Maruti Baleno</td>\n",
       "    </tr>\n",
       "    <tr>\n",
       "      <th>1</th>\n",
       "      <td>1</td>\n",
       "      <td>2015 Hyundai Grand i10</td>\n",
       "      <td>Sportz</td>\n",
       "      <td>Petrol</td>\n",
       "      <td>Manual</td>\n",
       "      <td>18,174 kms</td>\n",
       "      <td>4.5</td>\n",
       "      <td>2015</td>\n",
       "      <td>Hyundai Grand i10</td>\n",
       "    </tr>\n",
       "    <tr>\n",
       "      <th>2</th>\n",
       "      <td>2</td>\n",
       "      <td>2014 Hyundai i10</td>\n",
       "      <td>Sportz 1.1L</td>\n",
       "      <td>Petrol</td>\n",
       "      <td>Manual</td>\n",
       "      <td>45,195 kms</td>\n",
       "      <td>3.31</td>\n",
       "      <td>2014</td>\n",
       "      <td>Hyundai i10</td>\n",
       "    </tr>\n",
       "    <tr>\n",
       "      <th>3</th>\n",
       "      <td>3</td>\n",
       "      <td>2017 Maruti Alto K10</td>\n",
       "      <td>VXI Optional</td>\n",
       "      <td>Petrol</td>\n",
       "      <td>Manual</td>\n",
       "      <td>22,761 kms</td>\n",
       "      <td>3.34</td>\n",
       "      <td>2017</td>\n",
       "      <td>Maruti Alto K10</td>\n",
       "    </tr>\n",
       "    <tr>\n",
       "      <th>4</th>\n",
       "      <td>4</td>\n",
       "      <td>2015 Hyundai Grand i10</td>\n",
       "      <td>Asta Option</td>\n",
       "      <td>Petrol</td>\n",
       "      <td>Manual</td>\n",
       "      <td>22,819 kms</td>\n",
       "      <td>4.25</td>\n",
       "      <td>2015</td>\n",
       "      <td>Hyundai Grand i10</td>\n",
       "    </tr>\n",
       "    <tr>\n",
       "      <th>...</th>\n",
       "      <td>...</td>\n",
       "      <td>...</td>\n",
       "      <td>...</td>\n",
       "      <td>...</td>\n",
       "      <td>...</td>\n",
       "      <td>...</td>\n",
       "      <td>...</td>\n",
       "      <td>...</td>\n",
       "      <td>...</td>\n",
       "    </tr>\n",
       "    <tr>\n",
       "      <th>5665</th>\n",
       "      <td>5665</td>\n",
       "      <td>2012 Maruti Eeco</td>\n",
       "      <td>5 Seater AC BSIV</td>\n",
       "      <td>Petrol</td>\n",
       "      <td>Manual</td>\n",
       "      <td>30,000 kms</td>\n",
       "      <td>2.25</td>\n",
       "      <td>2012</td>\n",
       "      <td>Maruti Eeco</td>\n",
       "    </tr>\n",
       "    <tr>\n",
       "      <th>5666</th>\n",
       "      <td>5666</td>\n",
       "      <td>2018 Ford Figo</td>\n",
       "      <td>1.2P Titanium MT</td>\n",
       "      <td>Petrol</td>\n",
       "      <td>Manual</td>\n",
       "      <td>27,003 kms</td>\n",
       "      <td>4.9</td>\n",
       "      <td>2018</td>\n",
       "      <td>Ford Figo</td>\n",
       "    </tr>\n",
       "    <tr>\n",
       "      <th>5667</th>\n",
       "      <td>5667</td>\n",
       "      <td>2019 Hyundai Creta</td>\n",
       "      <td>1.6 SX Option</td>\n",
       "      <td>Petrol</td>\n",
       "      <td>Manual</td>\n",
       "      <td>19,000 kms</td>\n",
       "      <td>13</td>\n",
       "      <td>2019</td>\n",
       "      <td>Hyundai Creta</td>\n",
       "    </tr>\n",
       "    <tr>\n",
       "      <th>5668</th>\n",
       "      <td>5668</td>\n",
       "      <td>2018 Maruti Ignis</td>\n",
       "      <td>Alpha</td>\n",
       "      <td>Petrol</td>\n",
       "      <td>Manual</td>\n",
       "      <td>14,002 kms</td>\n",
       "      <td>4.75</td>\n",
       "      <td>2018</td>\n",
       "      <td>Maruti Ignis</td>\n",
       "    </tr>\n",
       "    <tr>\n",
       "      <th>5669</th>\n",
       "      <td>5669</td>\n",
       "      <td>2018 Toyota Innova Crysta</td>\n",
       "      <td>2.8 GX AT BSIV</td>\n",
       "      <td>Diesel</td>\n",
       "      <td>Automatic</td>\n",
       "      <td>1,12,000 kms</td>\n",
       "      <td>16.5</td>\n",
       "      <td>2018</td>\n",
       "      <td>Toyota Innova Crysta</td>\n",
       "    </tr>\n",
       "  </tbody>\n",
       "</table>\n",
       "<p>5670 rows × 9 columns</p>\n",
       "</div>"
      ],
      "text/plain": [
       "      Unnamed: 0             year and brand             model    fuel  \\\n",
       "0              0         2016 Maruti Baleno     1.2 CVT Delta  Petrol   \n",
       "1              1     2015 Hyundai Grand i10            Sportz  Petrol   \n",
       "2              2           2014 Hyundai i10       Sportz 1.1L  Petrol   \n",
       "3              3       2017 Maruti Alto K10      VXI Optional  Petrol   \n",
       "4              4     2015 Hyundai Grand i10       Asta Option  Petrol   \n",
       "...          ...                        ...               ...     ...   \n",
       "5665        5665           2012 Maruti Eeco  5 Seater AC BSIV  Petrol   \n",
       "5666        5666             2018 Ford Figo  1.2P Titanium MT  Petrol   \n",
       "5667        5667         2019 Hyundai Creta     1.6 SX Option  Petrol   \n",
       "5668        5668          2018 Maruti Ignis             Alpha  Petrol   \n",
       "5669        5669  2018 Toyota Innova Crysta    2.8 GX AT BSIV  Diesel   \n",
       "\n",
       "        variant           kms  Price  year                 brand  \n",
       "0     Automatic    25,735 kms  5.74   2016         Maruti Baleno  \n",
       "1        Manual    18,174 kms   4.5   2015     Hyundai Grand i10  \n",
       "2        Manual    45,195 kms  3.31   2014           Hyundai i10  \n",
       "3        Manual    22,761 kms  3.34   2017       Maruti Alto K10  \n",
       "4        Manual    22,819 kms  4.25   2015     Hyundai Grand i10  \n",
       "...         ...           ...    ...   ...                   ...  \n",
       "5665     Manual    30,000 kms  2.25   2012           Maruti Eeco  \n",
       "5666     Manual    27,003 kms   4.9   2018             Ford Figo  \n",
       "5667     Manual    19,000 kms    13   2019         Hyundai Creta  \n",
       "5668     Manual    14,002 kms  4.75   2018          Maruti Ignis  \n",
       "5669  Automatic  1,12,000 kms  16.5   2018  Toyota Innova Crysta  \n",
       "\n",
       "[5670 rows x 9 columns]"
      ]
     },
     "execution_count": 6,
     "metadata": {},
     "output_type": "execute_result"
    }
   ],
   "source": [
    "#we removed the word lakhs in price column as it is our output column\n",
    "df['Price'] = df['Price'].map(lambda x: x.lstrip('+-').rstrip('Lakh,,'))\n",
    "df"
   ]
  },
  {
   "cell_type": "code",
   "execution_count": 7,
   "metadata": {},
   "outputs": [],
   "source": [
    "#convering the price column into numeric and then to float\n",
    "df['Price'] = pd.to_numeric(df['Price'],errors='coerce')"
   ]
  },
  {
   "cell_type": "code",
   "execution_count": 8,
   "metadata": {
    "scrolled": false
   },
   "outputs": [],
   "source": [
    "df['Price']=df['Price'].astype('float64')"
   ]
  },
  {
   "cell_type": "code",
   "execution_count": 9,
   "metadata": {
    "scrolled": false
   },
   "outputs": [
    {
     "data": {
      "text/plain": [
       "0        5.74\n",
       "1        4.50\n",
       "2        3.31\n",
       "3        3.34\n",
       "4        4.25\n",
       "        ...  \n",
       "5665     2.25\n",
       "5666     4.90\n",
       "5667    13.00\n",
       "5668     4.75\n",
       "5669    16.50\n",
       "Name: Price, Length: 5670, dtype: float64"
      ]
     },
     "execution_count": 9,
     "metadata": {},
     "output_type": "execute_result"
    }
   ],
   "source": [
    "df['Price']"
   ]
  },
  {
   "cell_type": "code",
   "execution_count": 10,
   "metadata": {},
   "outputs": [
    {
     "name": "stdout",
     "output_type": "stream",
     "text": [
      "<class 'pandas.core.frame.DataFrame'>\n",
      "RangeIndex: 5670 entries, 0 to 5669\n",
      "Data columns (total 9 columns):\n",
      " #   Column          Non-Null Count  Dtype  \n",
      "---  ------          --------------  -----  \n",
      " 0   Unnamed: 0      5670 non-null   int64  \n",
      " 1   year and brand  5670 non-null   object \n",
      " 2   model           5670 non-null   object \n",
      " 3   fuel            5670 non-null   object \n",
      " 4   variant         5670 non-null   object \n",
      " 5   kms             5670 non-null   object \n",
      " 6   Price           5641 non-null   float64\n",
      " 7   year            5670 non-null   object \n",
      " 8   brand           5670 non-null   object \n",
      "dtypes: float64(1), int64(1), object(7)\n",
      "memory usage: 398.8+ KB\n"
     ]
    }
   ],
   "source": [
    "df.info()"
   ]
  },
  {
   "cell_type": "code",
   "execution_count": 11,
   "metadata": {},
   "outputs": [],
   "source": [
    "df['kms'] = df['kms'].map(lambda x: x.lstrip('+-').rstrip('kms'))"
   ]
  },
  {
   "cell_type": "code",
   "execution_count": 12,
   "metadata": {},
   "outputs": [],
   "source": [
    "for i in range(len(df.kms.values)):\n",
    "    df['kms'].iloc[i]=df.kms.values[i].split()[0]\n",
    "    if ''.join(df.kms.values[i].split(',')).isdigit():\n",
    "        df['kms'].iloc[i]=int(''.join(df.kms.values[i].split(',')))"
   ]
  },
  {
   "cell_type": "code",
   "execution_count": 13,
   "metadata": {},
   "outputs": [],
   "source": [
    "df['kms']=df['kms'].astype('int')"
   ]
  },
  {
   "cell_type": "code",
   "execution_count": 14,
   "metadata": {},
   "outputs": [
    {
     "name": "stdout",
     "output_type": "stream",
     "text": [
      "<class 'pandas.core.frame.DataFrame'>\n",
      "RangeIndex: 5670 entries, 0 to 5669\n",
      "Data columns (total 9 columns):\n",
      " #   Column          Non-Null Count  Dtype  \n",
      "---  ------          --------------  -----  \n",
      " 0   Unnamed: 0      5670 non-null   int64  \n",
      " 1   year and brand  5670 non-null   object \n",
      " 2   model           5670 non-null   object \n",
      " 3   fuel            5670 non-null   object \n",
      " 4   variant         5670 non-null   object \n",
      " 5   kms             5670 non-null   int32  \n",
      " 6   Price           5641 non-null   float64\n",
      " 7   year            5670 non-null   object \n",
      " 8   brand           5670 non-null   object \n",
      "dtypes: float64(1), int32(1), int64(1), object(6)\n",
      "memory usage: 376.6+ KB\n"
     ]
    }
   ],
   "source": [
    "df.info()"
   ]
  },
  {
   "cell_type": "code",
   "execution_count": 15,
   "metadata": {},
   "outputs": [
    {
     "data": {
      "text/plain": [
       "Unnamed: 0         0\n",
       "year and brand     0\n",
       "model              0\n",
       "fuel               0\n",
       "variant            0\n",
       "kms                0\n",
       "Price             29\n",
       "year               0\n",
       "brand              0\n",
       "dtype: int64"
      ]
     },
     "execution_count": 15,
     "metadata": {},
     "output_type": "execute_result"
    }
   ],
   "source": [
    "df.isnull().sum()"
   ]
  },
  {
   "cell_type": "markdown",
   "metadata": {},
   "source": [
    "# we can see that there are some null values present in the price column so we will be removing the null values"
   ]
  },
  {
   "cell_type": "code",
   "execution_count": 16,
   "metadata": {},
   "outputs": [],
   "source": [
    "#dropping the null values\n",
    "df.dropna(inplace=True)"
   ]
  },
  {
   "cell_type": "code",
   "execution_count": 17,
   "metadata": {},
   "outputs": [
    {
     "data": {
      "text/html": [
       "<div>\n",
       "<style scoped>\n",
       "    .dataframe tbody tr th:only-of-type {\n",
       "        vertical-align: middle;\n",
       "    }\n",
       "\n",
       "    .dataframe tbody tr th {\n",
       "        vertical-align: top;\n",
       "    }\n",
       "\n",
       "    .dataframe thead th {\n",
       "        text-align: right;\n",
       "    }\n",
       "</style>\n",
       "<table border=\"1\" class=\"dataframe\">\n",
       "  <thead>\n",
       "    <tr style=\"text-align: right;\">\n",
       "      <th></th>\n",
       "      <th>Unnamed: 0</th>\n",
       "      <th>year and brand</th>\n",
       "      <th>model</th>\n",
       "      <th>fuel</th>\n",
       "      <th>variant</th>\n",
       "      <th>kms</th>\n",
       "      <th>Price</th>\n",
       "      <th>year</th>\n",
       "      <th>brand</th>\n",
       "    </tr>\n",
       "  </thead>\n",
       "  <tbody>\n",
       "    <tr>\n",
       "      <th>0</th>\n",
       "      <td>0</td>\n",
       "      <td>2016 Maruti Baleno</td>\n",
       "      <td>1.2 CVT Delta</td>\n",
       "      <td>Petrol</td>\n",
       "      <td>Automatic</td>\n",
       "      <td>25735</td>\n",
       "      <td>5.74</td>\n",
       "      <td>2016</td>\n",
       "      <td>Maruti Baleno</td>\n",
       "    </tr>\n",
       "    <tr>\n",
       "      <th>1</th>\n",
       "      <td>1</td>\n",
       "      <td>2015 Hyundai Grand i10</td>\n",
       "      <td>Sportz</td>\n",
       "      <td>Petrol</td>\n",
       "      <td>Manual</td>\n",
       "      <td>18174</td>\n",
       "      <td>4.50</td>\n",
       "      <td>2015</td>\n",
       "      <td>Hyundai Grand i10</td>\n",
       "    </tr>\n",
       "    <tr>\n",
       "      <th>2</th>\n",
       "      <td>2</td>\n",
       "      <td>2014 Hyundai i10</td>\n",
       "      <td>Sportz 1.1L</td>\n",
       "      <td>Petrol</td>\n",
       "      <td>Manual</td>\n",
       "      <td>45195</td>\n",
       "      <td>3.31</td>\n",
       "      <td>2014</td>\n",
       "      <td>Hyundai i10</td>\n",
       "    </tr>\n",
       "    <tr>\n",
       "      <th>3</th>\n",
       "      <td>3</td>\n",
       "      <td>2017 Maruti Alto K10</td>\n",
       "      <td>VXI Optional</td>\n",
       "      <td>Petrol</td>\n",
       "      <td>Manual</td>\n",
       "      <td>22761</td>\n",
       "      <td>3.34</td>\n",
       "      <td>2017</td>\n",
       "      <td>Maruti Alto K10</td>\n",
       "    </tr>\n",
       "    <tr>\n",
       "      <th>4</th>\n",
       "      <td>4</td>\n",
       "      <td>2015 Hyundai Grand i10</td>\n",
       "      <td>Asta Option</td>\n",
       "      <td>Petrol</td>\n",
       "      <td>Manual</td>\n",
       "      <td>22819</td>\n",
       "      <td>4.25</td>\n",
       "      <td>2015</td>\n",
       "      <td>Hyundai Grand i10</td>\n",
       "    </tr>\n",
       "    <tr>\n",
       "      <th>...</th>\n",
       "      <td>...</td>\n",
       "      <td>...</td>\n",
       "      <td>...</td>\n",
       "      <td>...</td>\n",
       "      <td>...</td>\n",
       "      <td>...</td>\n",
       "      <td>...</td>\n",
       "      <td>...</td>\n",
       "      <td>...</td>\n",
       "    </tr>\n",
       "    <tr>\n",
       "      <th>5665</th>\n",
       "      <td>5665</td>\n",
       "      <td>2012 Maruti Eeco</td>\n",
       "      <td>5 Seater AC BSIV</td>\n",
       "      <td>Petrol</td>\n",
       "      <td>Manual</td>\n",
       "      <td>30000</td>\n",
       "      <td>2.25</td>\n",
       "      <td>2012</td>\n",
       "      <td>Maruti Eeco</td>\n",
       "    </tr>\n",
       "    <tr>\n",
       "      <th>5666</th>\n",
       "      <td>5666</td>\n",
       "      <td>2018 Ford Figo</td>\n",
       "      <td>1.2P Titanium MT</td>\n",
       "      <td>Petrol</td>\n",
       "      <td>Manual</td>\n",
       "      <td>27003</td>\n",
       "      <td>4.90</td>\n",
       "      <td>2018</td>\n",
       "      <td>Ford Figo</td>\n",
       "    </tr>\n",
       "    <tr>\n",
       "      <th>5667</th>\n",
       "      <td>5667</td>\n",
       "      <td>2019 Hyundai Creta</td>\n",
       "      <td>1.6 SX Option</td>\n",
       "      <td>Petrol</td>\n",
       "      <td>Manual</td>\n",
       "      <td>19000</td>\n",
       "      <td>13.00</td>\n",
       "      <td>2019</td>\n",
       "      <td>Hyundai Creta</td>\n",
       "    </tr>\n",
       "    <tr>\n",
       "      <th>5668</th>\n",
       "      <td>5668</td>\n",
       "      <td>2018 Maruti Ignis</td>\n",
       "      <td>Alpha</td>\n",
       "      <td>Petrol</td>\n",
       "      <td>Manual</td>\n",
       "      <td>14002</td>\n",
       "      <td>4.75</td>\n",
       "      <td>2018</td>\n",
       "      <td>Maruti Ignis</td>\n",
       "    </tr>\n",
       "    <tr>\n",
       "      <th>5669</th>\n",
       "      <td>5669</td>\n",
       "      <td>2018 Toyota Innova Crysta</td>\n",
       "      <td>2.8 GX AT BSIV</td>\n",
       "      <td>Diesel</td>\n",
       "      <td>Automatic</td>\n",
       "      <td>112000</td>\n",
       "      <td>16.50</td>\n",
       "      <td>2018</td>\n",
       "      <td>Toyota Innova Crysta</td>\n",
       "    </tr>\n",
       "  </tbody>\n",
       "</table>\n",
       "<p>5641 rows × 9 columns</p>\n",
       "</div>"
      ],
      "text/plain": [
       "      Unnamed: 0             year and brand             model    fuel  \\\n",
       "0              0         2016 Maruti Baleno     1.2 CVT Delta  Petrol   \n",
       "1              1     2015 Hyundai Grand i10            Sportz  Petrol   \n",
       "2              2           2014 Hyundai i10       Sportz 1.1L  Petrol   \n",
       "3              3       2017 Maruti Alto K10      VXI Optional  Petrol   \n",
       "4              4     2015 Hyundai Grand i10       Asta Option  Petrol   \n",
       "...          ...                        ...               ...     ...   \n",
       "5665        5665           2012 Maruti Eeco  5 Seater AC BSIV  Petrol   \n",
       "5666        5666             2018 Ford Figo  1.2P Titanium MT  Petrol   \n",
       "5667        5667         2019 Hyundai Creta     1.6 SX Option  Petrol   \n",
       "5668        5668          2018 Maruti Ignis             Alpha  Petrol   \n",
       "5669        5669  2018 Toyota Innova Crysta    2.8 GX AT BSIV  Diesel   \n",
       "\n",
       "        variant     kms  Price  year                 brand  \n",
       "0     Automatic   25735   5.74  2016         Maruti Baleno  \n",
       "1        Manual   18174   4.50  2015     Hyundai Grand i10  \n",
       "2        Manual   45195   3.31  2014           Hyundai i10  \n",
       "3        Manual   22761   3.34  2017       Maruti Alto K10  \n",
       "4        Manual   22819   4.25  2015     Hyundai Grand i10  \n",
       "...         ...     ...    ...   ...                   ...  \n",
       "5665     Manual   30000   2.25  2012           Maruti Eeco  \n",
       "5666     Manual   27003   4.90  2018             Ford Figo  \n",
       "5667     Manual   19000  13.00  2019         Hyundai Creta  \n",
       "5668     Manual   14002   4.75  2018          Maruti Ignis  \n",
       "5669  Automatic  112000  16.50  2018  Toyota Innova Crysta  \n",
       "\n",
       "[5641 rows x 9 columns]"
      ]
     },
     "execution_count": 17,
     "metadata": {},
     "output_type": "execute_result"
    }
   ],
   "source": [
    "df"
   ]
  },
  {
   "cell_type": "markdown",
   "metadata": {},
   "source": [
    "# we will drop the columns unnamed and year and brand \n",
    "\n",
    "# unnamed is nothing but a serial number to the entry \n",
    "\n",
    "# we already split the year and brand into two differnt columns"
   ]
  },
  {
   "cell_type": "code",
   "execution_count": 18,
   "metadata": {},
   "outputs": [
    {
     "data": {
      "text/html": [
       "<div>\n",
       "<style scoped>\n",
       "    .dataframe tbody tr th:only-of-type {\n",
       "        vertical-align: middle;\n",
       "    }\n",
       "\n",
       "    .dataframe tbody tr th {\n",
       "        vertical-align: top;\n",
       "    }\n",
       "\n",
       "    .dataframe thead th {\n",
       "        text-align: right;\n",
       "    }\n",
       "</style>\n",
       "<table border=\"1\" class=\"dataframe\">\n",
       "  <thead>\n",
       "    <tr style=\"text-align: right;\">\n",
       "      <th></th>\n",
       "      <th>model</th>\n",
       "      <th>fuel</th>\n",
       "      <th>variant</th>\n",
       "      <th>kms</th>\n",
       "      <th>Price</th>\n",
       "      <th>year</th>\n",
       "      <th>brand</th>\n",
       "    </tr>\n",
       "  </thead>\n",
       "  <tbody>\n",
       "    <tr>\n",
       "      <th>0</th>\n",
       "      <td>1.2 CVT Delta</td>\n",
       "      <td>Petrol</td>\n",
       "      <td>Automatic</td>\n",
       "      <td>25735</td>\n",
       "      <td>5.74</td>\n",
       "      <td>2016</td>\n",
       "      <td>Maruti Baleno</td>\n",
       "    </tr>\n",
       "    <tr>\n",
       "      <th>1</th>\n",
       "      <td>Sportz</td>\n",
       "      <td>Petrol</td>\n",
       "      <td>Manual</td>\n",
       "      <td>18174</td>\n",
       "      <td>4.50</td>\n",
       "      <td>2015</td>\n",
       "      <td>Hyundai Grand i10</td>\n",
       "    </tr>\n",
       "    <tr>\n",
       "      <th>2</th>\n",
       "      <td>Sportz 1.1L</td>\n",
       "      <td>Petrol</td>\n",
       "      <td>Manual</td>\n",
       "      <td>45195</td>\n",
       "      <td>3.31</td>\n",
       "      <td>2014</td>\n",
       "      <td>Hyundai i10</td>\n",
       "    </tr>\n",
       "    <tr>\n",
       "      <th>3</th>\n",
       "      <td>VXI Optional</td>\n",
       "      <td>Petrol</td>\n",
       "      <td>Manual</td>\n",
       "      <td>22761</td>\n",
       "      <td>3.34</td>\n",
       "      <td>2017</td>\n",
       "      <td>Maruti Alto K10</td>\n",
       "    </tr>\n",
       "    <tr>\n",
       "      <th>4</th>\n",
       "      <td>Asta Option</td>\n",
       "      <td>Petrol</td>\n",
       "      <td>Manual</td>\n",
       "      <td>22819</td>\n",
       "      <td>4.25</td>\n",
       "      <td>2015</td>\n",
       "      <td>Hyundai Grand i10</td>\n",
       "    </tr>\n",
       "    <tr>\n",
       "      <th>...</th>\n",
       "      <td>...</td>\n",
       "      <td>...</td>\n",
       "      <td>...</td>\n",
       "      <td>...</td>\n",
       "      <td>...</td>\n",
       "      <td>...</td>\n",
       "      <td>...</td>\n",
       "    </tr>\n",
       "    <tr>\n",
       "      <th>5665</th>\n",
       "      <td>5 Seater AC BSIV</td>\n",
       "      <td>Petrol</td>\n",
       "      <td>Manual</td>\n",
       "      <td>30000</td>\n",
       "      <td>2.25</td>\n",
       "      <td>2012</td>\n",
       "      <td>Maruti Eeco</td>\n",
       "    </tr>\n",
       "    <tr>\n",
       "      <th>5666</th>\n",
       "      <td>1.2P Titanium MT</td>\n",
       "      <td>Petrol</td>\n",
       "      <td>Manual</td>\n",
       "      <td>27003</td>\n",
       "      <td>4.90</td>\n",
       "      <td>2018</td>\n",
       "      <td>Ford Figo</td>\n",
       "    </tr>\n",
       "    <tr>\n",
       "      <th>5667</th>\n",
       "      <td>1.6 SX Option</td>\n",
       "      <td>Petrol</td>\n",
       "      <td>Manual</td>\n",
       "      <td>19000</td>\n",
       "      <td>13.00</td>\n",
       "      <td>2019</td>\n",
       "      <td>Hyundai Creta</td>\n",
       "    </tr>\n",
       "    <tr>\n",
       "      <th>5668</th>\n",
       "      <td>Alpha</td>\n",
       "      <td>Petrol</td>\n",
       "      <td>Manual</td>\n",
       "      <td>14002</td>\n",
       "      <td>4.75</td>\n",
       "      <td>2018</td>\n",
       "      <td>Maruti Ignis</td>\n",
       "    </tr>\n",
       "    <tr>\n",
       "      <th>5669</th>\n",
       "      <td>2.8 GX AT BSIV</td>\n",
       "      <td>Diesel</td>\n",
       "      <td>Automatic</td>\n",
       "      <td>112000</td>\n",
       "      <td>16.50</td>\n",
       "      <td>2018</td>\n",
       "      <td>Toyota Innova Crysta</td>\n",
       "    </tr>\n",
       "  </tbody>\n",
       "</table>\n",
       "<p>5641 rows × 7 columns</p>\n",
       "</div>"
      ],
      "text/plain": [
       "                 model    fuel    variant     kms  Price  year  \\\n",
       "0        1.2 CVT Delta  Petrol  Automatic   25735   5.74  2016   \n",
       "1               Sportz  Petrol     Manual   18174   4.50  2015   \n",
       "2          Sportz 1.1L  Petrol     Manual   45195   3.31  2014   \n",
       "3         VXI Optional  Petrol     Manual   22761   3.34  2017   \n",
       "4          Asta Option  Petrol     Manual   22819   4.25  2015   \n",
       "...                ...     ...        ...     ...    ...   ...   \n",
       "5665  5 Seater AC BSIV  Petrol     Manual   30000   2.25  2012   \n",
       "5666  1.2P Titanium MT  Petrol     Manual   27003   4.90  2018   \n",
       "5667     1.6 SX Option  Petrol     Manual   19000  13.00  2019   \n",
       "5668             Alpha  Petrol     Manual   14002   4.75  2018   \n",
       "5669    2.8 GX AT BSIV  Diesel  Automatic  112000  16.50  2018   \n",
       "\n",
       "                     brand  \n",
       "0            Maruti Baleno  \n",
       "1        Hyundai Grand i10  \n",
       "2              Hyundai i10  \n",
       "3          Maruti Alto K10  \n",
       "4        Hyundai Grand i10  \n",
       "...                    ...  \n",
       "5665           Maruti Eeco  \n",
       "5666             Ford Figo  \n",
       "5667         Hyundai Creta  \n",
       "5668          Maruti Ignis  \n",
       "5669  Toyota Innova Crysta  \n",
       "\n",
       "[5641 rows x 7 columns]"
      ]
     },
     "execution_count": 18,
     "metadata": {},
     "output_type": "execute_result"
    }
   ],
   "source": [
    "df=df.drop(['year and brand','Unnamed: 0'],axis=1)\n",
    "df"
   ]
  },
  {
   "cell_type": "markdown",
   "metadata": {},
   "source": [
    "# EDA"
   ]
  },
  {
   "cell_type": "code",
   "execution_count": 19,
   "metadata": {},
   "outputs": [
    {
     "data": {
      "text/plain": [
       "Index(['model', 'fuel', 'variant', 'kms', 'Price', 'year', 'brand'], dtype='object')"
      ]
     },
     "execution_count": 19,
     "metadata": {},
     "output_type": "execute_result"
    }
   ],
   "source": [
    "df.columns"
   ]
  },
  {
   "cell_type": "code",
   "execution_count": 20,
   "metadata": {},
   "outputs": [],
   "source": [
    "column=['fuel', 'variant','year']"
   ]
  },
  {
   "cell_type": "code",
   "execution_count": 21,
   "metadata": {},
   "outputs": [
    {
     "data": {
      "image/png": "[encoded data removed]",
      "text/plain": [
       "<Figure size 432x288 with 1 Axes>"
      ]
     },
     "metadata": {
      "needs_background": "light"
     },
     "output_type": "display_data"
    },
    {
     "data": {
      "image/png": "[encoded data removed]",
      "text/plain": [
       "<Figure size 432x288 with 1 Axes>"
      ]
     },
     "metadata": {
      "needs_background": "light"
     },
     "output_type": "display_data"
    },
    {
     "data": {
      "image/png": "[encoded data removed]",
      "text/plain": [
       "<Figure size 432x288 with 1 Axes>"
      ]
     },
     "metadata": {
      "needs_background": "light"
     },
     "output_type": "display_data"
    }
   ],
   "source": [
    "# object type data countplots\n",
    "for i in column:\n",
    "    sns.countplot(df[i])\n",
    "    plt.show()"
   ]
  },
  {
   "cell_type": "code",
   "execution_count": 22,
   "metadata": {},
   "outputs": [
    {
     "data": {
      "text/plain": [
       "<AxesSubplot:xlabel='year', ylabel='count'>"
      ]
     },
     "execution_count": 22,
     "metadata": {},
     "output_type": "execute_result"
    },
    {
     "data": {
      "image/png": "[encoded data removed]",
      "text/plain": [
       "<Figure size 1080x360 with 1 Axes>"
      ]
     },
     "metadata": {
      "needs_background": "light"
     },
     "output_type": "display_data"
    }
   ],
   "source": [
    "plt.figure(figsize=(15,5))\n",
    "sns.countplot(df['year'])"
   ]
  },
  {
   "cell_type": "markdown",
   "metadata": {},
   "source": [
    "# observations:\n",
    "    \n",
    "# Most of the used cars are in petrol and then diesel. we can also see some of the cars with cng fuel, as the market is growing for electric vehicles we dont see a lot of electric cars being sold as used cars.\n",
    "\n",
    "# manual cars are what cost low when it comes to used cars and it is more likely to be sold in used cars compared to automatic.\n",
    "\n",
    "# most of the used cars for sale comes from the year 2016, 2017, 2018 \n"
   ]
  },
  {
   "cell_type": "code",
   "execution_count": 23,
   "metadata": {},
   "outputs": [
    {
     "data": {
      "image/png": "[encoded data removed]",
      "text/plain": [
       "<Figure size 1440x2160 with 3 Axes>"
      ]
     },
     "metadata": {
      "needs_background": "light"
     },
     "output_type": "display_data"
    }
   ],
   "source": [
    "categorical_columns=['fuel', 'variant', 'year']\n",
    "plt.figure(figsize=(20,30))\n",
    "for i in range(len(categorical_columns)):\n",
    "    plt.subplot(4,2,i+1)\n",
    "    sns.barplot(y=df['Price'],x=df[categorical_columns[i]])\n",
    "    plt.title(f\"Price VS {categorical_columns[i]}\",fontsize=40)\n",
    "    plt.xticks(rotation=90,fontsize=25)  \n",
    "    plt.yticks(rotation=0,fontsize=25)\n",
    "    plt.xlabel(categorical_columns[i],fontsize = 30)\n",
    "    plt.ylabel('Price',fontsize = 30)\n",
    "    plt.tight_layout()"
   ]
  },
  {
   "cell_type": "markdown",
   "metadata": {},
   "source": [
    "# observation from the above graphs:\n",
    "\n",
    "# Whhat we saw from price vs fuel graph is that lpg used cars have the lowest price compared to all other cars as there are very less lpg pumps and demand for them is less\n",
    "# Price for diesel engine cars is more as diesel is less expensive than petrol and widely avialable \n",
    "# Price for petrol cars is moderate\n",
    "# Price for electric cars is the highest as they are newly introduced in the market and it cost very less compared to other fuels.\n",
    "\n",
    "# Price for automatic cars is more compared to manual cars as automatic cars provide ease in driving and have high demand compared to manual cars.\n",
    "\n",
    "# When we checked price vs year graph we found that cars are expensive if the model year is from 2015-2021\n",
    "# Older the car, less is the price of the car an vica-versa.\n"
   ]
  },
  {
   "cell_type": "code",
   "execution_count": null,
   "metadata": {},
   "outputs": [],
   "source": []
  },
  {
   "cell_type": "markdown",
   "metadata": {},
   "source": [
    "# Label encoder to convert the categorical data into numeric form."
   ]
  },
  {
   "cell_type": "code",
   "execution_count": 24,
   "metadata": {},
   "outputs": [],
   "source": [
    "df['year']=df['year'].astype('int64')"
   ]
  },
  {
   "cell_type": "code",
   "execution_count": 25,
   "metadata": {},
   "outputs": [],
   "source": [
    "from sklearn.preprocessing import LabelEncoder\n",
    "lis=['fuel','variant','model','brand']\n",
    "le=LabelEncoder()\n",
    "for i in lis:\n",
    "    df[i]=le.fit_transform(df[i])"
   ]
  },
  {
   "cell_type": "code",
   "execution_count": 26,
   "metadata": {},
   "outputs": [
    {
     "data": {
      "image/png": "[encoded data removed]",
      "text/plain": [
       "<Figure size 2088x14400 with 4 Axes>"
      ]
     },
     "metadata": {
      "needs_background": "light"
     },
     "output_type": "display_data"
    }
   ],
   "source": [
    "plt.figure(figsize=(29,200))\n",
    "plotnumber=1\n",
    "for column in lis:\n",
    "    if plotnumber<=len(lis):\n",
    "        ax=plt.subplot(40,4,plotnumber)\n",
    "        sns.distplot(df[column])\n",
    "        plt.xlabel(column,fontsize=20)\n",
    "    plotnumber+=1\n",
    "plt.show()"
   ]
  },
  {
   "cell_type": "markdown",
   "metadata": {},
   "source": [
    "# we can see biomodal distribution in the graphs"
   ]
  },
  {
   "cell_type": "code",
   "execution_count": 27,
   "metadata": {},
   "outputs": [
    {
     "data": {
      "text/plain": [
       "model        AxesSubplot(0.125,0.816017;0.0824468x0.0639831)\n",
       "fuel       AxesSubplot(0.223936,0.816017;0.0824468x0.0639...\n",
       "variant    AxesSubplot(0.322872,0.816017;0.0824468x0.0639...\n",
       "kms        AxesSubplot(0.421809,0.816017;0.0824468x0.0639...\n",
       "Price      AxesSubplot(0.520745,0.816017;0.0824468x0.0639...\n",
       "year       AxesSubplot(0.619681,0.816017;0.0824468x0.0639...\n",
       "brand      AxesSubplot(0.718617,0.816017;0.0824468x0.0639...\n",
       "dtype: object"
      ]
     },
     "execution_count": 27,
     "metadata": {},
     "output_type": "execute_result"
    },
    {
     "data": {
      "image/png": "[encoded data removed]",
      "text/plain": [
       "<Figure size 1440x5760 with 80 Axes>"
      ]
     },
     "metadata": {
      "needs_background": "light"
     },
     "output_type": "display_data"
    }
   ],
   "source": [
    "df.plot(kind='box',subplots=True,layout=(10,8),figsize=(20,80))"
   ]
  },
  {
   "cell_type": "markdown",
   "metadata": {},
   "source": [
    "\n",
    "# we can see that there are some outliers present in  the year column and kms column so we will use zscore method to remove the outliers.\n"
   ]
  },
  {
   "cell_type": "code",
   "execution_count": 28,
   "metadata": {},
   "outputs": [
    {
     "name": "stdout",
     "output_type": "stream",
     "text": [
      "(array([   0,    0,    0, ..., 5640, 5640, 5640], dtype=int64), array([0, 1, 2, ..., 4, 5, 6], dtype=int64))\n"
     ]
    }
   ],
   "source": [
    "from scipy.stats import zscore\n",
    "z=np.abs(zscore(df))\n",
    "print(np.where(z<3))"
   ]
  },
  {
   "cell_type": "code",
   "execution_count": 29,
   "metadata": {},
   "outputs": [
    {
     "data": {
      "text/html": [
       "<div>\n",
       "<style scoped>\n",
       "    .dataframe tbody tr th:only-of-type {\n",
       "        vertical-align: middle;\n",
       "    }\n",
       "\n",
       "    .dataframe tbody tr th {\n",
       "        vertical-align: top;\n",
       "    }\n",
       "\n",
       "    .dataframe thead th {\n",
       "        text-align: right;\n",
       "    }\n",
       "</style>\n",
       "<table border=\"1\" class=\"dataframe\">\n",
       "  <thead>\n",
       "    <tr style=\"text-align: right;\">\n",
       "      <th></th>\n",
       "      <th>model</th>\n",
       "      <th>fuel</th>\n",
       "      <th>variant</th>\n",
       "      <th>kms</th>\n",
       "      <th>Price</th>\n",
       "      <th>year</th>\n",
       "      <th>brand</th>\n",
       "    </tr>\n",
       "  </thead>\n",
       "  <tbody>\n",
       "    <tr>\n",
       "      <th>0</th>\n",
       "      <td>54</td>\n",
       "      <td>4</td>\n",
       "      <td>0</td>\n",
       "      <td>25735</td>\n",
       "      <td>5.74</td>\n",
       "      <td>2016</td>\n",
       "      <td>124</td>\n",
       "    </tr>\n",
       "    <tr>\n",
       "      <th>1</th>\n",
       "      <td>1152</td>\n",
       "      <td>4</td>\n",
       "      <td>1</td>\n",
       "      <td>18174</td>\n",
       "      <td>4.50</td>\n",
       "      <td>2015</td>\n",
       "      <td>70</td>\n",
       "    </tr>\n",
       "    <tr>\n",
       "      <th>2</th>\n",
       "      <td>1153</td>\n",
       "      <td>4</td>\n",
       "      <td>1</td>\n",
       "      <td>45195</td>\n",
       "      <td>3.31</td>\n",
       "      <td>2014</td>\n",
       "      <td>80</td>\n",
       "    </tr>\n",
       "    <tr>\n",
       "      <th>3</th>\n",
       "      <td>1296</td>\n",
       "      <td>4</td>\n",
       "      <td>1</td>\n",
       "      <td>22761</td>\n",
       "      <td>3.34</td>\n",
       "      <td>2017</td>\n",
       "      <td>123</td>\n",
       "    </tr>\n",
       "    <tr>\n",
       "      <th>4</th>\n",
       "      <td>681</td>\n",
       "      <td>4</td>\n",
       "      <td>1</td>\n",
       "      <td>22819</td>\n",
       "      <td>4.25</td>\n",
       "      <td>2015</td>\n",
       "      <td>70</td>\n",
       "    </tr>\n",
       "    <tr>\n",
       "      <th>...</th>\n",
       "      <td>...</td>\n",
       "      <td>...</td>\n",
       "      <td>...</td>\n",
       "      <td>...</td>\n",
       "      <td>...</td>\n",
       "      <td>...</td>\n",
       "      <td>...</td>\n",
       "    </tr>\n",
       "    <tr>\n",
       "      <th>5665</th>\n",
       "      <td>584</td>\n",
       "      <td>4</td>\n",
       "      <td>1</td>\n",
       "      <td>30000</td>\n",
       "      <td>2.25</td>\n",
       "      <td>2012</td>\n",
       "      <td>130</td>\n",
       "    </tr>\n",
       "    <tr>\n",
       "      <th>5666</th>\n",
       "      <td>128</td>\n",
       "      <td>4</td>\n",
       "      <td>1</td>\n",
       "      <td>27003</td>\n",
       "      <td>4.90</td>\n",
       "      <td>2018</td>\n",
       "      <td>49</td>\n",
       "    </tr>\n",
       "    <tr>\n",
       "      <th>5667</th>\n",
       "      <td>311</td>\n",
       "      <td>4</td>\n",
       "      <td>1</td>\n",
       "      <td>19000</td>\n",
       "      <td>13.00</td>\n",
       "      <td>2019</td>\n",
       "      <td>66</td>\n",
       "    </tr>\n",
       "    <tr>\n",
       "      <th>5668</th>\n",
       "      <td>656</td>\n",
       "      <td>4</td>\n",
       "      <td>1</td>\n",
       "      <td>14002</td>\n",
       "      <td>4.75</td>\n",
       "      <td>2018</td>\n",
       "      <td>132</td>\n",
       "    </tr>\n",
       "    <tr>\n",
       "      <th>5669</th>\n",
       "      <td>479</td>\n",
       "      <td>1</td>\n",
       "      <td>0</td>\n",
       "      <td>112000</td>\n",
       "      <td>16.50</td>\n",
       "      <td>2018</td>\n",
       "      <td>222</td>\n",
       "    </tr>\n",
       "  </tbody>\n",
       "</table>\n",
       "<p>5421 rows × 7 columns</p>\n",
       "</div>"
      ],
      "text/plain": [
       "      model  fuel  variant     kms  Price  year  brand\n",
       "0        54     4        0   25735   5.74  2016    124\n",
       "1      1152     4        1   18174   4.50  2015     70\n",
       "2      1153     4        1   45195   3.31  2014     80\n",
       "3      1296     4        1   22761   3.34  2017    123\n",
       "4       681     4        1   22819   4.25  2015     70\n",
       "...     ...   ...      ...     ...    ...   ...    ...\n",
       "5665    584     4        1   30000   2.25  2012    130\n",
       "5666    128     4        1   27003   4.90  2018     49\n",
       "5667    311     4        1   19000  13.00  2019     66\n",
       "5668    656     4        1   14002   4.75  2018    132\n",
       "5669    479     1        0  112000  16.50  2018    222\n",
       "\n",
       "[5421 rows x 7 columns]"
      ]
     },
     "execution_count": 29,
     "metadata": {},
     "output_type": "execute_result"
    }
   ],
   "source": [
    "df1=df[(z<3).all(axis=1)]\n",
    "df1"
   ]
  },
  {
   "cell_type": "code",
   "execution_count": 31,
   "metadata": {},
   "outputs": [
    {
     "data": {
      "text/plain": [
       "3.900017727353306"
      ]
     },
     "execution_count": 31,
     "metadata": {},
     "output_type": "execute_result"
    }
   ],
   "source": [
    "data_loss=(5641-5421)/5641*100\n",
    "data_loss"
   ]
  },
  {
   "cell_type": "code",
   "execution_count": 32,
   "metadata": {},
   "outputs": [],
   "source": [
    "df1=df"
   ]
  },
  {
   "cell_type": "code",
   "execution_count": 33,
   "metadata": {},
   "outputs": [
    {
     "data": {
      "text/plain": [
       "<AxesSubplot:>"
      ]
     },
     "execution_count": 33,
     "metadata": {},
     "output_type": "execute_result"
    },
    {
     "data": {
      "image/png": "[encoded data removed]",
      "text/plain": [
       "<Figure size 432x288 with 2 Axes>"
      ]
     },
     "metadata": {
      "needs_background": "light"
     },
     "output_type": "display_data"
    }
   ],
   "source": [
    "sns.heatmap(df.describe(),annot=True)"
   ]
  },
  {
   "cell_type": "markdown",
   "metadata": {},
   "source": [
    "# checking correlation"
   ]
  },
  {
   "cell_type": "code",
   "execution_count": 35,
   "metadata": {},
   "outputs": [
    {
     "data": {
      "text/plain": [
       "<AxesSubplot:>"
      ]
     },
     "execution_count": 35,
     "metadata": {},
     "output_type": "execute_result"
    },
    {
     "data": {
      "image/png": "[encoded data removed]",
      "text/plain": [
       "<Figure size 1080x360 with 2 Axes>"
      ]
     },
     "metadata": {
      "needs_background": "light"
     },
     "output_type": "display_data"
    }
   ],
   "source": [
    "plt.figure(figsize=(15,5))\n",
    "sns.heatmap(df.corr(),annot=True,linewidth=0.5)"
   ]
  },
  {
   "cell_type": "markdown",
   "metadata": {},
   "source": [
    "# observation:\n",
    " \n",
    "# Brand and model columns are very less correlated to the price column.\n",
    "\n",
    "# variant year and fuel are very highly correlated to the price column and variant being the highest compared to the other two.\n"
   ]
  },
  {
   "cell_type": "code",
   "execution_count": null,
   "metadata": {},
   "outputs": [],
   "source": []
  },
  {
   "cell_type": "markdown",
   "metadata": {},
   "source": [
    "# DATA preprocessing"
   ]
  },
  {
   "cell_type": "code",
   "execution_count": 36,
   "metadata": {},
   "outputs": [],
   "source": [
    "x=df.drop(['Price'],axis=1)\n",
    "y=df['Price']"
   ]
  },
  {
   "cell_type": "code",
   "execution_count": 37,
   "metadata": {},
   "outputs": [
    {
     "data": {
      "text/plain": [
       "Index(['model', 'fuel', 'variant', 'kms', 'year', 'brand'], dtype='object')"
      ]
     },
     "execution_count": 37,
     "metadata": {},
     "output_type": "execute_result"
    }
   ],
   "source": [
    "x.columns"
   ]
  },
  {
   "cell_type": "code",
   "execution_count": 38,
   "metadata": {},
   "outputs": [
    {
     "data": {
      "text/plain": [
       "model     -0.294367\n",
       "fuel      -0.299027\n",
       "variant   -0.919107\n",
       "kms        3.264060\n",
       "year      -0.530651\n",
       "brand      0.272192\n",
       "dtype: float64"
      ]
     },
     "execution_count": 38,
     "metadata": {},
     "output_type": "execute_result"
    }
   ],
   "source": [
    "x.skew()"
   ]
  },
  {
   "cell_type": "markdown",
   "metadata": {},
   "source": [
    "# we can some skewness present in the data"
   ]
  },
  {
   "cell_type": "code",
   "execution_count": 39,
   "metadata": {},
   "outputs": [
    {
     "data": {
      "text/html": [
       "<div>\n",
       "<style scoped>\n",
       "    .dataframe tbody tr th:only-of-type {\n",
       "        vertical-align: middle;\n",
       "    }\n",
       "\n",
       "    .dataframe tbody tr th {\n",
       "        vertical-align: top;\n",
       "    }\n",
       "\n",
       "    .dataframe thead th {\n",
       "        text-align: right;\n",
       "    }\n",
       "</style>\n",
       "<table border=\"1\" class=\"dataframe\">\n",
       "  <thead>\n",
       "    <tr style=\"text-align: right;\">\n",
       "      <th></th>\n",
       "      <th>model</th>\n",
       "      <th>fuel</th>\n",
       "      <th>variant</th>\n",
       "      <th>kms</th>\n",
       "      <th>year</th>\n",
       "      <th>brand</th>\n",
       "    </tr>\n",
       "  </thead>\n",
       "  <tbody>\n",
       "    <tr>\n",
       "      <th>0</th>\n",
       "      <td>-1.832044</td>\n",
       "      <td>0.866997</td>\n",
       "      <td>-1.559921</td>\n",
       "      <td>-0.887564</td>\n",
       "      <td>0.365395</td>\n",
       "      <td>0.178083</td>\n",
       "    </tr>\n",
       "    <tr>\n",
       "      <th>1</th>\n",
       "      <td>0.778853</td>\n",
       "      <td>0.866997</td>\n",
       "      <td>0.641058</td>\n",
       "      <td>-1.259981</td>\n",
       "      <td>0.033570</td>\n",
       "      <td>-0.763340</td>\n",
       "    </tr>\n",
       "    <tr>\n",
       "      <th>2</th>\n",
       "      <td>0.780961</td>\n",
       "      <td>0.866997</td>\n",
       "      <td>0.641058</td>\n",
       "      <td>-0.142430</td>\n",
       "      <td>-0.290780</td>\n",
       "      <td>-0.576404</td>\n",
       "    </tr>\n",
       "    <tr>\n",
       "      <th>3</th>\n",
       "      <td>1.079862</td>\n",
       "      <td>0.866997</td>\n",
       "      <td>0.641058</td>\n",
       "      <td>-1.025911</td>\n",
       "      <td>0.704861</td>\n",
       "      <td>0.161909</td>\n",
       "    </tr>\n",
       "    <tr>\n",
       "      <th>4</th>\n",
       "      <td>-0.247030</td>\n",
       "      <td>0.866997</td>\n",
       "      <td>0.641058</td>\n",
       "      <td>-1.023122</td>\n",
       "      <td>0.033570</td>\n",
       "      <td>-0.763340</td>\n",
       "    </tr>\n",
       "    <tr>\n",
       "      <th>...</th>\n",
       "      <td>...</td>\n",
       "      <td>...</td>\n",
       "      <td>...</td>\n",
       "      <td>...</td>\n",
       "      <td>...</td>\n",
       "      <td>...</td>\n",
       "    </tr>\n",
       "    <tr>\n",
       "      <th>5665</th>\n",
       "      <td>-0.468915</td>\n",
       "      <td>0.866997</td>\n",
       "      <td>0.641058</td>\n",
       "      <td>-0.703436</td>\n",
       "      <td>-0.917713</td>\n",
       "      <td>0.274349</td>\n",
       "    </tr>\n",
       "    <tr>\n",
       "      <th>5666</th>\n",
       "      <td>-1.610795</td>\n",
       "      <td>0.866997</td>\n",
       "      <td>0.641058</td>\n",
       "      <td>-0.831208</td>\n",
       "      <td>1.052142</td>\n",
       "      <td>-1.183700</td>\n",
       "    </tr>\n",
       "    <tr>\n",
       "      <th>5667</th>\n",
       "      <td>-1.125073</td>\n",
       "      <td>0.866997</td>\n",
       "      <td>0.641058</td>\n",
       "      <td>-1.215659</td>\n",
       "      <td>1.407414</td>\n",
       "      <td>-0.840242</td>\n",
       "    </tr>\n",
       "    <tr>\n",
       "      <th>5668</th>\n",
       "      <td>-0.303779</td>\n",
       "      <td>0.866997</td>\n",
       "      <td>0.641058</td>\n",
       "      <td>-1.502504</td>\n",
       "      <td>1.052142</td>\n",
       "      <td>0.306149</td>\n",
       "    </tr>\n",
       "    <tr>\n",
       "      <th>5669</th>\n",
       "      <td>-0.714889</td>\n",
       "      <td>-1.133305</td>\n",
       "      <td>-1.559921</td>\n",
       "      <td>1.550787</td>\n",
       "      <td>1.052142</td>\n",
       "      <td>1.622647</td>\n",
       "    </tr>\n",
       "  </tbody>\n",
       "</table>\n",
       "<p>5641 rows × 6 columns</p>\n",
       "</div>"
      ],
      "text/plain": [
       "         model      fuel   variant       kms      year     brand\n",
       "0    -1.832044  0.866997 -1.559921 -0.887564  0.365395  0.178083\n",
       "1     0.778853  0.866997  0.641058 -1.259981  0.033570 -0.763340\n",
       "2     0.780961  0.866997  0.641058 -0.142430 -0.290780 -0.576404\n",
       "3     1.079862  0.866997  0.641058 -1.025911  0.704861  0.161909\n",
       "4    -0.247030  0.866997  0.641058 -1.023122  0.033570 -0.763340\n",
       "...        ...       ...       ...       ...       ...       ...\n",
       "5665 -0.468915  0.866997  0.641058 -0.703436 -0.917713  0.274349\n",
       "5666 -1.610795  0.866997  0.641058 -0.831208  1.052142 -1.183700\n",
       "5667 -1.125073  0.866997  0.641058 -1.215659  1.407414 -0.840242\n",
       "5668 -0.303779  0.866997  0.641058 -1.502504  1.052142  0.306149\n",
       "5669 -0.714889 -1.133305 -1.559921  1.550787  1.052142  1.622647\n",
       "\n",
       "[5641 rows x 6 columns]"
      ]
     },
     "execution_count": 39,
     "metadata": {},
     "output_type": "execute_result"
    }
   ],
   "source": [
    "#using power transform method to remove skewness.\n",
    "from sklearn.preprocessing import power_transform\n",
    "x[['model', 'fuel', 'variant', 'year', 'brand','kms']]=power_transform(x[['model', 'fuel', 'variant', 'year', 'brand','kms']],method='yeo-johnson')\n",
    "x"
   ]
  },
  {
   "cell_type": "code",
   "execution_count": 40,
   "metadata": {},
   "outputs": [],
   "source": [
    "sc=StandardScaler()\n",
    "x[['model', 'fuel', 'variant', 'year', 'brand','kms']]=sc.fit_transform(x[['model', 'fuel', 'variant', 'year', 'brand','kms']])"
   ]
  },
  {
   "cell_type": "code",
   "execution_count": 41,
   "metadata": {},
   "outputs": [
    {
     "data": {
      "text/html": [
       "<div>\n",
       "<style scoped>\n",
       "    .dataframe tbody tr th:only-of-type {\n",
       "        vertical-align: middle;\n",
       "    }\n",
       "\n",
       "    .dataframe tbody tr th {\n",
       "        vertical-align: top;\n",
       "    }\n",
       "\n",
       "    .dataframe thead th {\n",
       "        text-align: right;\n",
       "    }\n",
       "</style>\n",
       "<table border=\"1\" class=\"dataframe\">\n",
       "  <thead>\n",
       "    <tr style=\"text-align: right;\">\n",
       "      <th></th>\n",
       "      <th>model</th>\n",
       "      <th>fuel</th>\n",
       "      <th>variant</th>\n",
       "      <th>kms</th>\n",
       "      <th>year</th>\n",
       "      <th>brand</th>\n",
       "    </tr>\n",
       "  </thead>\n",
       "  <tbody>\n",
       "    <tr>\n",
       "      <th>0</th>\n",
       "      <td>-1.832044</td>\n",
       "      <td>0.866997</td>\n",
       "      <td>-1.559921</td>\n",
       "      <td>-0.887564</td>\n",
       "      <td>0.365395</td>\n",
       "      <td>0.178083</td>\n",
       "    </tr>\n",
       "    <tr>\n",
       "      <th>1</th>\n",
       "      <td>0.778853</td>\n",
       "      <td>0.866997</td>\n",
       "      <td>0.641058</td>\n",
       "      <td>-1.259981</td>\n",
       "      <td>0.033570</td>\n",
       "      <td>-0.763340</td>\n",
       "    </tr>\n",
       "    <tr>\n",
       "      <th>2</th>\n",
       "      <td>0.780961</td>\n",
       "      <td>0.866997</td>\n",
       "      <td>0.641058</td>\n",
       "      <td>-0.142430</td>\n",
       "      <td>-0.290780</td>\n",
       "      <td>-0.576404</td>\n",
       "    </tr>\n",
       "    <tr>\n",
       "      <th>3</th>\n",
       "      <td>1.079862</td>\n",
       "      <td>0.866997</td>\n",
       "      <td>0.641058</td>\n",
       "      <td>-1.025911</td>\n",
       "      <td>0.704861</td>\n",
       "      <td>0.161909</td>\n",
       "    </tr>\n",
       "    <tr>\n",
       "      <th>4</th>\n",
       "      <td>-0.247030</td>\n",
       "      <td>0.866997</td>\n",
       "      <td>0.641058</td>\n",
       "      <td>-1.023122</td>\n",
       "      <td>0.033570</td>\n",
       "      <td>-0.763340</td>\n",
       "    </tr>\n",
       "    <tr>\n",
       "      <th>...</th>\n",
       "      <td>...</td>\n",
       "      <td>...</td>\n",
       "      <td>...</td>\n",
       "      <td>...</td>\n",
       "      <td>...</td>\n",
       "      <td>...</td>\n",
       "    </tr>\n",
       "    <tr>\n",
       "      <th>5665</th>\n",
       "      <td>-0.468915</td>\n",
       "      <td>0.866997</td>\n",
       "      <td>0.641058</td>\n",
       "      <td>-0.703436</td>\n",
       "      <td>-0.917713</td>\n",
       "      <td>0.274349</td>\n",
       "    </tr>\n",
       "    <tr>\n",
       "      <th>5666</th>\n",
       "      <td>-1.610795</td>\n",
       "      <td>0.866997</td>\n",
       "      <td>0.641058</td>\n",
       "      <td>-0.831208</td>\n",
       "      <td>1.052142</td>\n",
       "      <td>-1.183700</td>\n",
       "    </tr>\n",
       "    <tr>\n",
       "      <th>5667</th>\n",
       "      <td>-1.125073</td>\n",
       "      <td>0.866997</td>\n",
       "      <td>0.641058</td>\n",
       "      <td>-1.215659</td>\n",
       "      <td>1.407414</td>\n",
       "      <td>-0.840242</td>\n",
       "    </tr>\n",
       "    <tr>\n",
       "      <th>5668</th>\n",
       "      <td>-0.303779</td>\n",
       "      <td>0.866997</td>\n",
       "      <td>0.641058</td>\n",
       "      <td>-1.502504</td>\n",
       "      <td>1.052142</td>\n",
       "      <td>0.306149</td>\n",
       "    </tr>\n",
       "    <tr>\n",
       "      <th>5669</th>\n",
       "      <td>-0.714889</td>\n",
       "      <td>-1.133305</td>\n",
       "      <td>-1.559921</td>\n",
       "      <td>1.550787</td>\n",
       "      <td>1.052142</td>\n",
       "      <td>1.622647</td>\n",
       "    </tr>\n",
       "  </tbody>\n",
       "</table>\n",
       "<p>5641 rows × 6 columns</p>\n",
       "</div>"
      ],
      "text/plain": [
       "         model      fuel   variant       kms      year     brand\n",
       "0    -1.832044  0.866997 -1.559921 -0.887564  0.365395  0.178083\n",
       "1     0.778853  0.866997  0.641058 -1.259981  0.033570 -0.763340\n",
       "2     0.780961  0.866997  0.641058 -0.142430 -0.290780 -0.576404\n",
       "3     1.079862  0.866997  0.641058 -1.025911  0.704861  0.161909\n",
       "4    -0.247030  0.866997  0.641058 -1.023122  0.033570 -0.763340\n",
       "...        ...       ...       ...       ...       ...       ...\n",
       "5665 -0.468915  0.866997  0.641058 -0.703436 -0.917713  0.274349\n",
       "5666 -1.610795  0.866997  0.641058 -0.831208  1.052142 -1.183700\n",
       "5667 -1.125073  0.866997  0.641058 -1.215659  1.407414 -0.840242\n",
       "5668 -0.303779  0.866997  0.641058 -1.502504  1.052142  0.306149\n",
       "5669 -0.714889 -1.133305 -1.559921  1.550787  1.052142  1.622647\n",
       "\n",
       "[5641 rows x 6 columns]"
      ]
     },
     "execution_count": 41,
     "metadata": {},
     "output_type": "execute_result"
    }
   ],
   "source": [
    "x"
   ]
  },
  {
   "cell_type": "markdown",
   "metadata": {},
   "source": [
    "# Model Building"
   ]
  },
  {
   "cell_type": "code",
   "execution_count": 42,
   "metadata": {},
   "outputs": [],
   "source": [
    "#making a list of the regression models which are to be tested with the data set\n",
    "models=[GradientBoostingRegressor(),LinearRegression(),Ridge(),BayesianRidge(),SGDRegressor(),SVR(),\n",
    "        AdaBoostRegressor(),KNeighborsRegressor(),RandomForestRegressor(),BaggingRegressor(),\n",
    "       DecisionTreeRegressor(),ExtraTreesRegressor()]"
   ]
  },
  {
   "cell_type": "code",
   "execution_count": 43,
   "metadata": {
    "scrolled": false
   },
   "outputs": [
    {
     "name": "stdout",
     "output_type": "stream",
     "text": [
      "GradientBoostingRegressor()\n",
      "mean cross_val_score 0.7385005668156837\n",
      "r2 0.8340202049000551\n",
      "diff 0.09551963808437147\n",
      "mean_abs_error 2.1434755729806376\n",
      "\n",
      "\n",
      "LinearRegression()\n",
      "mean cross_val_score 0.3407474070410016\n",
      "r2 0.41737142351620193\n",
      "diff 0.07662401647520034\n",
      "mean_abs_error 4.380030928841576\n",
      "\n",
      "\n",
      "Ridge()\n",
      "mean cross_val_score 0.34075166383788824\n",
      "r2 0.4173852520065292\n",
      "diff 0.07663358816864096\n",
      "mean_abs_error 4.379549729935338\n",
      "\n",
      "\n",
      "BayesianRidge()\n",
      "mean cross_val_score 0.3408016133900258\n",
      "r2 0.41755063863873054\n",
      "diff 0.07674902524870475\n",
      "mean_abs_error 4.3736895528676785\n",
      "\n",
      "\n",
      "SGDRegressor()\n",
      "mean cross_val_score 0.3399969857733769\n",
      "r2 0.41285026724729623\n",
      "diff 0.07285328147391934\n",
      "mean_abs_error 4.4375083621988605\n",
      "\n",
      "\n",
      "SVR()\n",
      "mean cross_val_score 0.40985021219438833\n",
      "r2 0.5491764020773742\n",
      "diff 0.13932618988298584\n",
      "mean_abs_error 2.6575853821110718\n",
      "\n",
      "\n",
      "AdaBoostRegressor()\n",
      "mean cross_val_score 0.35289950915269924\n",
      "r2 0.2538216966403455\n",
      "diff 0.09907781251235376\n",
      "mean_abs_error 4.6847704326058235\n",
      "\n",
      "\n",
      "KNeighborsRegressor()\n",
      "mean cross_val_score 0.5371545589272048\n",
      "r2 0.7457970021885725\n",
      "diff 0.20864244326136772\n",
      "mean_abs_error 2.181066430469442\n",
      "\n",
      "\n",
      "RandomForestRegressor()\n",
      "mean cross_val_score 0.7884866817176268\n",
      "r2 0.90459459600765\n",
      "diff 0.1161079142900232\n",
      "mean_abs_error 1.3372773240119784\n",
      "\n",
      "\n",
      "BaggingRegressor()\n",
      "mean cross_val_score 0.7800710304568547\n",
      "r2 0.8879734225362914\n",
      "diff 0.10790239207943675\n",
      "mean_abs_error 1.3990196444388205\n",
      "\n",
      "\n",
      "DecisionTreeRegressor()\n",
      "mean cross_val_score 0.6872077258257359\n",
      "r2 0.845625385847562\n",
      "diff 0.1584176600218261\n",
      "mean_abs_error 1.5399025686448184\n",
      "\n",
      "\n",
      "ExtraTreesRegressor()\n",
      "mean cross_val_score 0.7668931896493645\n",
      "r2 0.8876585212142613\n",
      "diff 0.12076533156489677\n",
      "mean_abs_error 1.4354990552111018\n",
      "\n",
      "\n"
     ]
    }
   ],
   "source": [
    "#making a for loop to check the models and their mean cross_val score with scoring set to r2\n",
    "for i in models:\n",
    "    xtrain,xtest,ytrain,ytest=train_test_split(x,y,random_state=82,test_size=0.20)\n",
    "    score=cross_val_score(i,xtrain,ytrain,cv=5,scoring='r2').mean()\n",
    "    i.fit(xtrain,ytrain)\n",
    "    ypred=i.predict(xtest)\n",
    "    if r2_score(ytest,ypred)>score:\n",
    "        diff=r2_score(ytest,ypred)-score\n",
    "    else:\n",
    "        diff=score-r2_score(ytest,ypred)\n",
    "    print(i)\n",
    "    print('mean cross_val_score',score)\n",
    "    print('r2',r2_score(ytest,ypred))\n",
    "    print('diff',diff)\n",
    "    print('mean_abs_error',mean_absolute_error(ytest, ypred))\n",
    "    print('\\n')"
   ]
  },
  {
   "cell_type": "markdown",
   "metadata": {},
   "source": [
    "# from the above results what we found is that our best performing models:\n",
    "    \n",
    "# Bagging regressor is providing us with the accuracy of 88% and least cross val difference.\n",
    "\n",
    "# random forest is giving us the accuracy of 90%  with less cross val difference \n",
    "\n",
    "# extratrees is giving us the accuracy of 88% "
   ]
  },
  {
   "cell_type": "markdown",
   "metadata": {},
   "source": [
    "# HyperTuning the best models"
   ]
  },
  {
   "cell_type": "markdown",
   "metadata": {},
   "source": [
    "Extratrees regressor"
   ]
  },
  {
   "cell_type": "code",
   "execution_count": null,
   "metadata": {},
   "outputs": [],
   "source": [
    "parameter = {'n_estimators':[10,100,1000],'criterion':['squared_error','mse','absolute_error','mae']}\n",
    "clf = GridSearchCV(ExtraTreesRegressor(), parameter,scoring=\"r2\")\n",
    "clf.fit(x,y)\n",
    "clf.best_params_"
   ]
  },
  {
   "cell_type": "markdown",
   "metadata": {},
   "source": [
    "TESTING ON THE WHOLE DATASET"
   ]
  },
  {
   "cell_type": "code",
   "execution_count": 45,
   "metadata": {},
   "outputs": [
    {
     "name": "stdout",
     "output_type": "stream",
     "text": [
      "r2_score : 0.99996876777956\n"
     ]
    }
   ],
   "source": [
    "xtrain,xtest,ytrain,ytest=train_test_split(x, y,random_state=82,test_size=0.20,shuffle=True)\n",
    "etr=ExtraTreesRegressor(n_estimators=100,criterion='mae')\n",
    "etr.fit(x,y)\n",
    "ypred=etr.predict(x)\n",
    "score=r2_score(y,ypred)\n",
    "print('r2_score :',score)"
   ]
  },
  {
   "cell_type": "markdown",
   "metadata": {},
   "source": [
    "TRAIN DATA"
   ]
  },
  {
   "cell_type": "code",
   "execution_count": 46,
   "metadata": {},
   "outputs": [
    {
     "name": "stdout",
     "output_type": "stream",
     "text": [
      "r2_score : 0.8800795424141833\n",
      "mean_abs_error 1.4408300708591677\n"
     ]
    }
   ],
   "source": [
    "xtrain,xtest,ytrain,ytest=train_test_split(x, y,random_state=82,test_size=0.20,shuffle=True)\n",
    "etr=ExtraTreesRegressor(n_estimators=100,criterion='mae')\n",
    "etr.fit(xtrain,ytrain)\n",
    "ypred=etr.predict(xtest)\n",
    "score=r2_score(ytest,ypred)\n",
    "print('r2_score :',score)\n",
    "print('mean_abs_error',mean_absolute_error(ytest, ypred))"
   ]
  },
  {
   "cell_type": "code",
   "execution_count": null,
   "metadata": {},
   "outputs": [],
   "source": []
  },
  {
   "cell_type": "markdown",
   "metadata": {},
   "source": [
    "Random forest Regressor"
   ]
  },
  {
   "cell_type": "code",
   "execution_count": 47,
   "metadata": {},
   "outputs": [
    {
     "data": {
      "text/plain": [
       "{'criterion': 'mse', 'n_estimators': 100}"
      ]
     },
     "execution_count": 47,
     "metadata": {},
     "output_type": "execute_result"
    }
   ],
   "source": [
    "parameters={\"n_estimators\":[10,50,100],'criterion':['mse', 'mae']}\n",
    "clf = GridSearchCV(RandomForestRegressor(), parameters,scoring=\"r2\")\n",
    "clf.fit(x,y)\n",
    "clf.best_params_"
   ]
  },
  {
   "cell_type": "markdown",
   "metadata": {},
   "source": [
    "TESTING ON THE WHOLE DATA"
   ]
  },
  {
   "cell_type": "code",
   "execution_count": 48,
   "metadata": {},
   "outputs": [
    {
     "name": "stdout",
     "output_type": "stream",
     "text": [
      "r2_score : 0.9753566917022906\n"
     ]
    }
   ],
   "source": [
    "x_train,x_test,y_train,y_test=train_test_split(x, y,random_state=82,test_size=0.20,shuffle=True)\n",
    "rfr=RandomForestRegressor(n_estimators=100,criterion='mse',max_features='log2')\n",
    "rfr.fit(x,y)\n",
    "y_pred=rfr.predict(x)\n",
    "score=r2_score(y,y_pred)\n",
    "print('r2_score :',score)"
   ]
  },
  {
   "cell_type": "markdown",
   "metadata": {},
   "source": [
    "TRAINED DATA"
   ]
  },
  {
   "cell_type": "code",
   "execution_count": 49,
   "metadata": {},
   "outputs": [
    {
     "name": "stdout",
     "output_type": "stream",
     "text": [
      "r2_score : 0.8989235526786412\n",
      "mean_abs_error 1.4317355476823146\n"
     ]
    }
   ],
   "source": [
    "xtrain,xtest,ytrain,ytest=train_test_split(x, y,random_state=82,test_size=0.20,shuffle=True)\n",
    "rfr=RandomForestRegressor(n_estimators=50,criterion='mse',max_features='log2')\n",
    "rfr.fit(xtrain,ytrain)\n",
    "ypred=rfr.predict(xtest)\n",
    "score=r2_score(ytest,ypred)\n",
    "print('r2_score :',score)\n",
    "print('mean_abs_error',mean_absolute_error(ytest, ypred))"
   ]
  },
  {
   "cell_type": "code",
   "execution_count": null,
   "metadata": {},
   "outputs": [],
   "source": []
  },
  {
   "cell_type": "markdown",
   "metadata": {},
   "source": [
    "Bagging regressor"
   ]
  },
  {
   "cell_type": "code",
   "execution_count": 50,
   "metadata": {},
   "outputs": [
    {
     "data": {
      "text/plain": [
       "{'max_features': 1.0, 'n_estimators': 500}"
      ]
     },
     "execution_count": 50,
     "metadata": {},
     "output_type": "execute_result"
    }
   ],
   "source": [
    "parameters={'n_estimators':[10,500],'max_features':[0.001,0.01,0.1,1.0]}\n",
    "clf=GridSearchCV(BaggingRegressor(),parameters,cv=5,scoring='r2')\n",
    "clf.fit(x,y)\n",
    "clf.best_params_"
   ]
  },
  {
   "cell_type": "markdown",
   "metadata": {},
   "source": [
    "TESTING ON THE WHOLE DATASET"
   ]
  },
  {
   "cell_type": "code",
   "execution_count": 51,
   "metadata": {},
   "outputs": [
    {
     "name": "stdout",
     "output_type": "stream",
     "text": [
      "r2_score : 0.9770148169870794\n"
     ]
    }
   ],
   "source": [
    "x_train,x_test,y_train,y_test=train_test_split(x, y,random_state = 82,test_size=0.20,shuffle=True)\n",
    "br=BaggingRegressor(n_estimators=500,max_features=1.0)\n",
    "br.fit(x,y)\n",
    "y_pred=br.predict(x)\n",
    "score=r2_score(y,y_pred)\n",
    "print('r2_score :',score)"
   ]
  },
  {
   "cell_type": "markdown",
   "metadata": {},
   "source": [
    "TRAINED DATA"
   ]
  },
  {
   "cell_type": "code",
   "execution_count": 52,
   "metadata": {},
   "outputs": [
    {
     "name": "stdout",
     "output_type": "stream",
     "text": [
      "r2_score : 0.9029453720563589\n",
      "mean_abs_error 1.4317355476823146\n"
     ]
    }
   ],
   "source": [
    "x_train,x_test,y_train,y_test=train_test_split(x, y,random_state = 82,test_size=0.20,shuffle=True)\n",
    "br=BaggingRegressor(n_estimators=500,max_features=1.0)\n",
    "br.fit(x_train,y_train)\n",
    "y_pred=br.predict(x_test)\n",
    "score=r2_score(y_test,y_pred)\n",
    "print('r2_score :',score)\n",
    "print('mean_abs_error',mean_absolute_error(ytest, ypred))"
   ]
  },
  {
   "cell_type": "markdown",
   "metadata": {},
   "source": [
    "# After hypertuning bagging regressor gave us the accuracy of 90% "
   ]
  },
  {
   "cell_type": "code",
   "execution_count": 60,
   "metadata": {},
   "outputs": [],
   "source": [
    "x['pred']=br.predict(x)\n",
    "pred=br.predict(x)"
   ]
  },
  {
   "cell_type": "code",
   "execution_count": 61,
   "metadata": {
    "scrolled": true
   },
   "outputs": [
    {
     "data": {
      "text/plain": [
       "0        6.01482\n",
       "1        4.45982\n",
       "2        3.82932\n",
       "3        3.37466\n",
       "4        4.93290\n",
       "          ...   \n",
       "5665     2.44654\n",
       "5666     5.28998\n",
       "5667    12.30032\n",
       "5668     5.14756\n",
       "5669    21.24706\n",
       "Name: pred, Length: 5641, dtype: float64"
      ]
     },
     "execution_count": 61,
     "metadata": {},
     "output_type": "execute_result"
    }
   ],
   "source": [
    "x['pred']"
   ]
  },
  {
   "cell_type": "code",
   "execution_count": 62,
   "metadata": {},
   "outputs": [
    {
     "data": {
      "image/png": "[encoded data removed]",
      "text/plain": [
       "<Figure size 432x288 with 1 Axes>"
      ]
     },
     "metadata": {
      "needs_background": "light"
     },
     "output_type": "display_data"
    },
    {
     "data": {
      "text/plain": [
       "<AxesSubplot:ylabel='Density'>"
      ]
     },
     "execution_count": 62,
     "metadata": {},
     "output_type": "execute_result"
    },
    {
     "data": {
      "image/png": "[encoded data removed]",
      "text/plain": [
       "<Figure size 432x288 with 1 Axes>"
      ]
     },
     "metadata": {
      "needs_background": "light"
     },
     "output_type": "display_data"
    }
   ],
   "source": [
    "sns.distplot(y)\n",
    "plt.show()\n",
    "sns.distplot(pred)"
   ]
  },
  {
   "cell_type": "markdown",
   "metadata": {},
   "source": [
    "# we can see that the predicted data is very close to actual data"
   ]
  },
  {
   "cell_type": "code",
   "execution_count": 63,
   "metadata": {},
   "outputs": [
    {
     "data": {
      "image/png": "[encoded data removed]",
      "text/plain": [
       "<Figure size 720x504 with 1 Axes>"
      ]
     },
     "metadata": {
      "needs_background": "light"
     },
     "output_type": "display_data"
    }
   ],
   "source": [
    "plt.figure(figsize=(10,7))\n",
    "plt.scatter(x=ytest, y=ypred, color='r')\n",
    "plt.plot(y_test,y_test, color='b')\n",
    "plt.xlabel('actual data',fontsize=14)\n",
    "plt.ylabel('Predicted data',fontsize=14)\n",
    "plt.title('ExtraTreesRegressor',fontsize=18)\n",
    "plt.show()"
   ]
  },
  {
   "cell_type": "markdown",
   "metadata": {},
   "source": [
    "# predicting the values for the test data using our best model"
   ]
  },
  {
   "cell_type": "code",
   "execution_count": null,
   "metadata": {},
   "outputs": [],
   "source": []
  },
  {
   "cell_type": "markdown",
   "metadata": {},
   "source": [
    "# Saving the best model"
   ]
  },
  {
   "cell_type": "code",
   "execution_count": 64,
   "metadata": {},
   "outputs": [
    {
     "data": {
      "text/plain": [
       "['car_predict']"
      ]
     },
     "execution_count": 64,
     "metadata": {},
     "output_type": "execute_result"
    }
   ],
   "source": [
    "#saving the bagging regressor as our best model\n",
    "joblib.dump(br,'car_predict')"
   ]
  },
  {
   "cell_type": "code",
   "execution_count": null,
   "metadata": {},
   "outputs": [],
   "source": []
  }
 ],
 "metadata": {
  "kernelspec": {
   "display_name": "Python 3",
   "language": "python",
   "name": "python3"
  },
  "language_info": {
   "codemirror_mode": {
    "name": "ipython",
    "version": 3
   },
   "file_extension": ".py",
   "mimetype": "text/x-python",
   "name": "python",
   "nbconvert_exporter": "python",
   "pygments_lexer": "ipython3",
   "version": "3.8.5"
  }
 },
 "nbformat": 4,
 "nbformat_minor": 4
}
