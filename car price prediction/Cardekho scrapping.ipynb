{
 "cells": [
  {
   "cell_type": "code",
   "execution_count": 102,
   "metadata": {},
   "outputs": [],
   "source": [
    "import selenium\n",
    "import pandas as pd\n",
    "from selenium import webdriver\n",
    "from selenium.webdriver.common.keys import Keys\n",
    "from time import sleep\n",
    "import time\n",
    "from selenium.common.exceptions import StaleElementReferenceException, NoSuchElementException, ElementNotInteractableException"
   ]
  },
  {
   "cell_type": "code",
   "execution_count": 103,
   "metadata": {
    "scrolled": false
   },
   "outputs": [],
   "source": [
    "driver=webdriver.Chrome('chromedriver.exe')"
   ]
  },
  {
   "cell_type": "code",
   "execution_count": 104,
   "metadata": {},
   "outputs": [],
   "source": [
    "cities=['Chennai','Banglore','Mumbai','Delhi','Hyderabad','Ahemdabad','Kolkata','Surat','Pune','Jaipur','Lucknow','Kanpur',\n",
    "        'Nagpur','Indore','Thane','Bhopal','Ghaziabad','Agra','Meerut','Aurangabad','Amritsar','Navi Mumbai','Jodhpur',\n",
    "        'Gurgaon','New Delhi','Noida','Karnataka','Bhiwandi','Kolapur','Ajmer','Udaipur','Pimpri & Chinchwad','Patna',\n",
    "        'Vadodara','Nashik','Kalyan','Dombivali','Rajkot','Vashi','Allahabad','Coimbatore','Raipur','Kota','Chandigarh',\n",
    "       'Punjab','Kerala','Amravati']"
   ]
  },
  {
   "cell_type": "code",
   "execution_count": 105,
   "metadata": {},
   "outputs": [],
   "source": [
    "url='https://www.cardekho.com/used-cars+in+mumbai'\n",
    "driver.get(url)"
   ]
  },
  {
   "cell_type": "code",
   "execution_count": null,
   "metadata": {
    "scrolled": true
   },
   "outputs": [],
   "source": [
    "#scrapping the details for year and brand name\n",
    "yr=driver.find_elements_by_xpath(\"//div[@class='gsc_col-xs-7  carsName']/a\")\n",
    "year=[]\n",
    "for i in yr:\n",
    "    try:\n",
    "        year.append(i.text)\n",
    "    except:\n",
    "        year.append('-')\n",
    "year"
   ]
  },
  {
   "cell_type": "code",
   "execution_count": 75,
   "metadata": {},
   "outputs": [
    {
     "data": {
      "text/plain": [
       "2644"
      ]
     },
     "execution_count": 75,
     "metadata": {},
     "output_type": "execute_result"
    }
   ],
   "source": [
    "len(year)"
   ]
  },
  {
   "cell_type": "code",
   "execution_count": null,
   "metadata": {},
   "outputs": [],
   "source": [
    "#scrapping model details of the car\n",
    "mod=driver.find_elements_by_xpath(\"//div[@class='gsc_col-xs-7  carsName']/div[1]\")\n",
    "model=[]\n",
    "for i in mod:\n",
    "    try:\n",
    "        model.append(i.text)\n",
    "    except:\n",
    "        model.append('-')\n",
    "model"
   ]
  },
  {
   "cell_type": "code",
   "execution_count": null,
   "metadata": {},
   "outputs": [],
   "source": [
    "#scrappint the details of what fuel does the car use\n",
    "fue=driver.find_elements_by_xpath(\"//div[@class='truncate dotlist']/span[2]\")\n",
    "fuel=[]\n",
    "for i in fue:\n",
    "    try:\n",
    "        fuel.append(i.text)\n",
    "    except:\n",
    "        fuel.append('-')\n",
    "fuel"
   ]
  },
  {
   "cell_type": "code",
   "execution_count": null,
   "metadata": {},
   "outputs": [],
   "source": [
    "#scrapping the details which includes variant of the car\n",
    "var=driver.find_elements_by_xpath(\"//div[@class='truncate dotlist']/span[3]\")\n",
    "variant=[]\n",
    "for i in var:\n",
    "    try:\n",
    "        variant.append(i.text)\n",
    "    except:\n",
    "        variant.append('-')\n",
    "variant"
   ]
  },
  {
   "cell_type": "code",
   "execution_count": null,
   "metadata": {},
   "outputs": [],
   "source": [
    "#scrapping the details of how much km did the car covered.\n",
    "km=driver.find_elements_by_xpath(\"//div[@class='truncate dotlist']/span[1]\")\n",
    "kms=[]\n",
    "for i in km:\n",
    "    try:\n",
    "        kms.append(i.text)\n",
    "    except:\n",
    "        kms.append('-')\n",
    "kms"
   ]
  },
  {
   "cell_type": "code",
   "execution_count": null,
   "metadata": {},
   "outputs": [],
   "source": [
    "em=driver.find_elements_by_xpath(\"//div[@class='emitextCard']/span\")\n",
    "emi=[]\n",
    "for i in em:\n",
    "    try:\n",
    "        emi.append(i.text)\n",
    "    except NoSuchElementException:\n",
    "        emi.append('N/A')\n",
    "emi"
   ]
  },
  {
   "cell_type": "code",
   "execution_count": null,
   "metadata": {},
   "outputs": [],
   "source": [
    "#scrapping the details of the prices of the vehicles\n",
    "pric=driver.find_elements_by_xpath(\"//div[@class='gsc_col-xs-5 text-right price']/span\")\n",
    "price=[]\n",
    "for i in pric:\n",
    "    try:\n",
    "        price.append(i.text)\n",
    "    except:\n",
    "        price.append('-')\n",
    "price"
   ]
  },
  {
   "cell_type": "code",
   "execution_count": null,
   "metadata": {},
   "outputs": [],
   "source": [
    "cit=driver.find_elements_by_xpath(\"//div[@class='cityIcon']\")\n",
    "city=[]\n",
    "for i in cit:\n",
    "    try:\n",
    "        city.append(i.text)\n",
    "    except:\n",
    "        city.append('-')\n",
    "city"
   ]
  },
  {
   "cell_type": "code",
   "execution_count": 41,
   "metadata": {},
   "outputs": [
    {
     "data": {
      "text/plain": [
       "1784"
      ]
     },
     "execution_count": 41,
     "metadata": {},
     "output_type": "execute_result"
    }
   ],
   "source": []
  },
  {
   "cell_type": "markdown",
   "metadata": {},
   "source": [
    "# scrapping details of used cars from banglore"
   ]
  },
  {
   "cell_type": "code",
   "execution_count": 76,
   "metadata": {},
   "outputs": [],
   "source": [
    "driver=webdriver.Chrome('chromedriver.exe')\n",
    "url='https://www.cardekho.com/used-cars+in+bangalore'\n",
    "driver.get(url)"
   ]
  },
  {
   "cell_type": "code",
   "execution_count": null,
   "metadata": {},
   "outputs": [],
   "source": [
    "#scrapping the details for year and brand name\n",
    "yr=driver.find_elements_by_xpath(\"//div[@class='gsc_col-xs-7  carsName']/a\")\n",
    "for i in yr:\n",
    "    try:\n",
    "        year.append(i.text)\n",
    "    except:\n",
    "        year.append('-')\n",
    "year"
   ]
  },
  {
   "cell_type": "code",
   "execution_count": 84,
   "metadata": {},
   "outputs": [
    {
     "data": {
      "text/plain": [
       "4272"
      ]
     },
     "execution_count": 84,
     "metadata": {},
     "output_type": "execute_result"
    }
   ],
   "source": [
    "len(price)"
   ]
  },
  {
   "cell_type": "code",
   "execution_count": null,
   "metadata": {},
   "outputs": [],
   "source": [
    "#scrapping model details of the car\n",
    "mod=driver.find_elements_by_xpath(\"//div[@class='gsc_col-xs-7  carsName']/div[1]\")\n",
    "for i in mod:\n",
    "    try:\n",
    "        model.append(i.text)\n",
    "    except:\n",
    "        model.append('-')\n",
    "model"
   ]
  },
  {
   "cell_type": "code",
   "execution_count": null,
   "metadata": {},
   "outputs": [],
   "source": [
    "#scrappint the details of what fuel does the car use\n",
    "fue=driver.find_elements_by_xpath(\"//div[@class='truncate dotlist']/span[2]\")\n",
    "for i in fue:\n",
    "    try:\n",
    "        fuel.append(i.text)\n",
    "    except:\n",
    "        fuel.append('-')\n",
    "fuel"
   ]
  },
  {
   "cell_type": "code",
   "execution_count": null,
   "metadata": {},
   "outputs": [],
   "source": [
    "#scrapping the details which includes variant of the car\n",
    "var=driver.find_elements_by_xpath(\"//div[@class='truncate dotlist']/span[3]\")\n",
    "for i in var:\n",
    "    try:\n",
    "        variant.append(i.text)\n",
    "    except:\n",
    "        variant.append('-')\n",
    "variant"
   ]
  },
  {
   "cell_type": "code",
   "execution_count": null,
   "metadata": {},
   "outputs": [],
   "source": [
    "#scrapping the details of how much km did the car covered.\n",
    "km=driver.find_elements_by_xpath(\"//div[@class='truncate dotlist']/span[1]\")\n",
    "for i in km:\n",
    "    try:\n",
    "        kms.append(i.text)\n",
    "    except:\n",
    "        kms.append('-')\n",
    "kms"
   ]
  },
  {
   "cell_type": "code",
   "execution_count": null,
   "metadata": {},
   "outputs": [],
   "source": [
    "#scrapping the details of the prices of the cars\n",
    "pric=driver.find_elements_by_xpath(\"//div[@class='gsc_col-xs-5 text-right price']/span\")\n",
    "for i in pric:\n",
    "    try:\n",
    "        price.append(i.text)\n",
    "    except:\n",
    "        price.append('-')\n",
    "price"
   ]
  },
  {
   "cell_type": "markdown",
   "metadata": {},
   "source": [
    "# scrapping details from delhi"
   ]
  },
  {
   "cell_type": "code",
   "execution_count": 85,
   "metadata": {},
   "outputs": [],
   "source": [
    "driver=webdriver.Chrome('chromedriver.exe')\n",
    "url='https://www.cardekho.com/used-cars+in+delhi'\n",
    "driver.get(url)"
   ]
  },
  {
   "cell_type": "code",
   "execution_count": null,
   "metadata": {},
   "outputs": [],
   "source": [
    "#scrapping the details for year and brand name\n",
    "yr=driver.find_elements_by_xpath(\"//div[@class='gsc_col-xs-7  carsName']/a\")\n",
    "for i in yr:\n",
    "    try:\n",
    "        year.append(i.text)\n",
    "    except:\n",
    "        year.append('-')\n",
    "year"
   ]
  },
  {
   "cell_type": "code",
   "execution_count": 87,
   "metadata": {},
   "outputs": [
    {
     "data": {
      "text/plain": [
       "5670"
      ]
     },
     "execution_count": 87,
     "metadata": {},
     "output_type": "execute_result"
    }
   ],
   "source": [
    "len(year)"
   ]
  },
  {
   "cell_type": "code",
   "execution_count": null,
   "metadata": {},
   "outputs": [],
   "source": [
    "#scrapping model details of the car\n",
    "mod=driver.find_elements_by_xpath(\"//div[@class='gsc_col-xs-7  carsName']/div[1]\")\n",
    "for i in mod:\n",
    "    try:\n",
    "        model.append(i.text)\n",
    "    except:\n",
    "        model.append('-')\n",
    "model"
   ]
  },
  {
   "cell_type": "code",
   "execution_count": null,
   "metadata": {
    "scrolled": false
   },
   "outputs": [],
   "source": [
    "#scrappint the details of what fuel does the car use\n",
    "fue=driver.find_elements_by_xpath(\"//div[@class='truncate dotlist']/span[2]\")\n",
    "for i in fue:\n",
    "    try:\n",
    "        fuel.append(i.text)\n",
    "    except:\n",
    "        fuel.append('-')\n",
    "fuel"
   ]
  },
  {
   "cell_type": "code",
   "execution_count": null,
   "metadata": {},
   "outputs": [],
   "source": [
    "#scrapping the details which includes variant of the car\n",
    "var=driver.find_elements_by_xpath(\"//div[@class='truncate dotlist']/span[3]\")\n",
    "for i in var:\n",
    "    try:\n",
    "        variant.append(i.text)\n",
    "    except:\n",
    "        variant.append('-')\n",
    "variant"
   ]
  },
  {
   "cell_type": "code",
   "execution_count": null,
   "metadata": {},
   "outputs": [],
   "source": [
    "#scrapping the details of how much km did the car covered.\n",
    "km=driver.find_elements_by_xpath(\"//div[@class='truncate dotlist']/span[1]\")\n",
    "for i in km:\n",
    "    try:\n",
    "        kms.append(i.text)\n",
    "    except:\n",
    "        kms.append('-')\n",
    "kms"
   ]
  },
  {
   "cell_type": "code",
   "execution_count": null,
   "metadata": {},
   "outputs": [],
   "source": [
    "#scrapping the details of the prices of the cars\n",
    "pric=driver.find_elements_by_xpath(\"//div[@class='gsc_col-xs-5 text-right price']/span\")\n",
    "for i in pric:\n",
    "    try:\n",
    "        price.append(i.text)\n",
    "    except:\n",
    "        price.append('-')\n",
    "price"
   ]
  },
  {
   "cell_type": "code",
   "execution_count": 93,
   "metadata": {},
   "outputs": [
    {
     "data": {
      "text/html": [
       "<div>\n",
       "<style scoped>\n",
       "    .dataframe tbody tr th:only-of-type {\n",
       "        vertical-align: middle;\n",
       "    }\n",
       "\n",
       "    .dataframe tbody tr th {\n",
       "        vertical-align: top;\n",
       "    }\n",
       "\n",
       "    .dataframe thead th {\n",
       "        text-align: right;\n",
       "    }\n",
       "</style>\n",
       "<table border=\"1\" class=\"dataframe\">\n",
       "  <thead>\n",
       "    <tr style=\"text-align: right;\">\n",
       "      <th></th>\n",
       "      <th>year and brand</th>\n",
       "      <th>model</th>\n",
       "      <th>fuel</th>\n",
       "      <th>variant</th>\n",
       "      <th>kms</th>\n",
       "      <th>Price</th>\n",
       "    </tr>\n",
       "  </thead>\n",
       "  <tbody>\n",
       "    <tr>\n",
       "      <th>0</th>\n",
       "      <td>2016 Maruti Baleno</td>\n",
       "      <td>1.2 CVT Delta</td>\n",
       "      <td>Petrol</td>\n",
       "      <td>Automatic</td>\n",
       "      <td>25,735 kms</td>\n",
       "      <td>5.74 Lakh</td>\n",
       "    </tr>\n",
       "    <tr>\n",
       "      <th>1</th>\n",
       "      <td>2015 Hyundai Grand i10</td>\n",
       "      <td>Sportz</td>\n",
       "      <td>Petrol</td>\n",
       "      <td>Manual</td>\n",
       "      <td>18,174 kms</td>\n",
       "      <td>4.5 Lakh</td>\n",
       "    </tr>\n",
       "    <tr>\n",
       "      <th>2</th>\n",
       "      <td>2014 Hyundai i10</td>\n",
       "      <td>Sportz 1.1L</td>\n",
       "      <td>Petrol</td>\n",
       "      <td>Manual</td>\n",
       "      <td>45,195 kms</td>\n",
       "      <td>3.31 Lakh</td>\n",
       "    </tr>\n",
       "    <tr>\n",
       "      <th>3</th>\n",
       "      <td>2017 Maruti Alto K10</td>\n",
       "      <td>VXI Optional</td>\n",
       "      <td>Petrol</td>\n",
       "      <td>Manual</td>\n",
       "      <td>22,761 kms</td>\n",
       "      <td>3.34 Lakh</td>\n",
       "    </tr>\n",
       "    <tr>\n",
       "      <th>4</th>\n",
       "      <td>2015 Hyundai Grand i10</td>\n",
       "      <td>Asta Option</td>\n",
       "      <td>Petrol</td>\n",
       "      <td>Manual</td>\n",
       "      <td>22,819 kms</td>\n",
       "      <td>4.25 Lakh</td>\n",
       "    </tr>\n",
       "    <tr>\n",
       "      <th>...</th>\n",
       "      <td>...</td>\n",
       "      <td>...</td>\n",
       "      <td>...</td>\n",
       "      <td>...</td>\n",
       "      <td>...</td>\n",
       "      <td>...</td>\n",
       "    </tr>\n",
       "    <tr>\n",
       "      <th>5665</th>\n",
       "      <td>2012 Maruti Eeco</td>\n",
       "      <td>5 Seater AC BSIV</td>\n",
       "      <td>Petrol</td>\n",
       "      <td>Manual</td>\n",
       "      <td>30,000 kms</td>\n",
       "      <td>2.25 Lakh</td>\n",
       "    </tr>\n",
       "    <tr>\n",
       "      <th>5666</th>\n",
       "      <td>2018 Ford Figo</td>\n",
       "      <td>1.2P Titanium MT</td>\n",
       "      <td>Petrol</td>\n",
       "      <td>Manual</td>\n",
       "      <td>27,003 kms</td>\n",
       "      <td>4.9 Lakh</td>\n",
       "    </tr>\n",
       "    <tr>\n",
       "      <th>5667</th>\n",
       "      <td>2019 Hyundai Creta</td>\n",
       "      <td>1.6 SX Option</td>\n",
       "      <td>Petrol</td>\n",
       "      <td>Manual</td>\n",
       "      <td>19,000 kms</td>\n",
       "      <td>13 Lakh</td>\n",
       "    </tr>\n",
       "    <tr>\n",
       "      <th>5668</th>\n",
       "      <td>2018 Maruti Ignis</td>\n",
       "      <td>Alpha</td>\n",
       "      <td>Petrol</td>\n",
       "      <td>Manual</td>\n",
       "      <td>14,002 kms</td>\n",
       "      <td>4.75 Lakh</td>\n",
       "    </tr>\n",
       "    <tr>\n",
       "      <th>5669</th>\n",
       "      <td>2018 Toyota Innova Crysta</td>\n",
       "      <td>2.8 GX AT BSIV</td>\n",
       "      <td>Diesel</td>\n",
       "      <td>Automatic</td>\n",
       "      <td>1,12,000 kms</td>\n",
       "      <td>16.5 Lakh</td>\n",
       "    </tr>\n",
       "  </tbody>\n",
       "</table>\n",
       "<p>5670 rows × 6 columns</p>\n",
       "</div>"
      ],
      "text/plain": [
       "                 year and brand             model    fuel    variant  \\\n",
       "0            2016 Maruti Baleno     1.2 CVT Delta  Petrol  Automatic   \n",
       "1        2015 Hyundai Grand i10            Sportz  Petrol     Manual   \n",
       "2              2014 Hyundai i10       Sportz 1.1L  Petrol     Manual   \n",
       "3          2017 Maruti Alto K10      VXI Optional  Petrol     Manual   \n",
       "4        2015 Hyundai Grand i10       Asta Option  Petrol     Manual   \n",
       "...                         ...               ...     ...        ...   \n",
       "5665           2012 Maruti Eeco  5 Seater AC BSIV  Petrol     Manual   \n",
       "5666             2018 Ford Figo  1.2P Titanium MT  Petrol     Manual   \n",
       "5667         2019 Hyundai Creta     1.6 SX Option  Petrol     Manual   \n",
       "5668          2018 Maruti Ignis             Alpha  Petrol     Manual   \n",
       "5669  2018 Toyota Innova Crysta    2.8 GX AT BSIV  Diesel  Automatic   \n",
       "\n",
       "               kms      Price  \n",
       "0       25,735 kms  5.74 Lakh  \n",
       "1       18,174 kms   4.5 Lakh  \n",
       "2       45,195 kms  3.31 Lakh  \n",
       "3       22,761 kms  3.34 Lakh  \n",
       "4       22,819 kms  4.25 Lakh  \n",
       "...            ...        ...  \n",
       "5665    30,000 kms  2.25 Lakh  \n",
       "5666    27,003 kms   4.9 Lakh  \n",
       "5667    19,000 kms    13 Lakh  \n",
       "5668    14,002 kms  4.75 Lakh  \n",
       "5669  1,12,000 kms  16.5 Lakh  \n",
       "\n",
       "[5670 rows x 6 columns]"
      ]
     },
     "execution_count": 93,
     "metadata": {},
     "output_type": "execute_result"
    }
   ],
   "source": [
    "df=pd.DataFrame({})\n",
    "df['year and brand']=year\n",
    "df['model']=model\n",
    "df['fuel']=fuel\n",
    "df['variant']=variant\n",
    "df['kms']=kms\n",
    "df['Price']=price\n",
    "df"
   ]
  },
  {
   "cell_type": "code",
   "execution_count": 97,
   "metadata": {},
   "outputs": [],
   "source": [
    "df.to_excel('cardekho_scr.xlsx')"
   ]
  },
  {
   "cell_type": "code",
   "execution_count": 100,
   "metadata": {},
   "outputs": [
    {
     "data": {
      "text/html": [
       "<div>\n",
       "<style scoped>\n",
       "    .dataframe tbody tr th:only-of-type {\n",
       "        vertical-align: middle;\n",
       "    }\n",
       "\n",
       "    .dataframe tbody tr th {\n",
       "        vertical-align: top;\n",
       "    }\n",
       "\n",
       "    .dataframe thead th {\n",
       "        text-align: right;\n",
       "    }\n",
       "</style>\n",
       "<table border=\"1\" class=\"dataframe\">\n",
       "  <thead>\n",
       "    <tr style=\"text-align: right;\">\n",
       "      <th></th>\n",
       "      <th>Unnamed: 0</th>\n",
       "      <th>year and brand</th>\n",
       "      <th>model</th>\n",
       "      <th>fuel</th>\n",
       "      <th>variant</th>\n",
       "      <th>kms</th>\n",
       "      <th>Price</th>\n",
       "    </tr>\n",
       "  </thead>\n",
       "  <tbody>\n",
       "    <tr>\n",
       "      <th>0</th>\n",
       "      <td>0</td>\n",
       "      <td>2016 Maruti Baleno</td>\n",
       "      <td>1.2 CVT Delta</td>\n",
       "      <td>Petrol</td>\n",
       "      <td>Automatic</td>\n",
       "      <td>25,735 kms</td>\n",
       "      <td>5.74 Lakh</td>\n",
       "    </tr>\n",
       "    <tr>\n",
       "      <th>1</th>\n",
       "      <td>1</td>\n",
       "      <td>2015 Hyundai Grand i10</td>\n",
       "      <td>Sportz</td>\n",
       "      <td>Petrol</td>\n",
       "      <td>Manual</td>\n",
       "      <td>18,174 kms</td>\n",
       "      <td>4.5 Lakh</td>\n",
       "    </tr>\n",
       "    <tr>\n",
       "      <th>2</th>\n",
       "      <td>2</td>\n",
       "      <td>2014 Hyundai i10</td>\n",
       "      <td>Sportz 1.1L</td>\n",
       "      <td>Petrol</td>\n",
       "      <td>Manual</td>\n",
       "      <td>45,195 kms</td>\n",
       "      <td>3.31 Lakh</td>\n",
       "    </tr>\n",
       "    <tr>\n",
       "      <th>3</th>\n",
       "      <td>3</td>\n",
       "      <td>2017 Maruti Alto K10</td>\n",
       "      <td>VXI Optional</td>\n",
       "      <td>Petrol</td>\n",
       "      <td>Manual</td>\n",
       "      <td>22,761 kms</td>\n",
       "      <td>3.34 Lakh</td>\n",
       "    </tr>\n",
       "    <tr>\n",
       "      <th>4</th>\n",
       "      <td>4</td>\n",
       "      <td>2015 Hyundai Grand i10</td>\n",
       "      <td>Asta Option</td>\n",
       "      <td>Petrol</td>\n",
       "      <td>Manual</td>\n",
       "      <td>22,819 kms</td>\n",
       "      <td>4.25 Lakh</td>\n",
       "    </tr>\n",
       "    <tr>\n",
       "      <th>...</th>\n",
       "      <td>...</td>\n",
       "      <td>...</td>\n",
       "      <td>...</td>\n",
       "      <td>...</td>\n",
       "      <td>...</td>\n",
       "      <td>...</td>\n",
       "      <td>...</td>\n",
       "    </tr>\n",
       "    <tr>\n",
       "      <th>5665</th>\n",
       "      <td>5665</td>\n",
       "      <td>2012 Maruti Eeco</td>\n",
       "      <td>5 Seater AC BSIV</td>\n",
       "      <td>Petrol</td>\n",
       "      <td>Manual</td>\n",
       "      <td>30,000 kms</td>\n",
       "      <td>2.25 Lakh</td>\n",
       "    </tr>\n",
       "    <tr>\n",
       "      <th>5666</th>\n",
       "      <td>5666</td>\n",
       "      <td>2018 Ford Figo</td>\n",
       "      <td>1.2P Titanium MT</td>\n",
       "      <td>Petrol</td>\n",
       "      <td>Manual</td>\n",
       "      <td>27,003 kms</td>\n",
       "      <td>4.9 Lakh</td>\n",
       "    </tr>\n",
       "    <tr>\n",
       "      <th>5667</th>\n",
       "      <td>5667</td>\n",
       "      <td>2019 Hyundai Creta</td>\n",
       "      <td>1.6 SX Option</td>\n",
       "      <td>Petrol</td>\n",
       "      <td>Manual</td>\n",
       "      <td>19,000 kms</td>\n",
       "      <td>13 Lakh</td>\n",
       "    </tr>\n",
       "    <tr>\n",
       "      <th>5668</th>\n",
       "      <td>5668</td>\n",
       "      <td>2018 Maruti Ignis</td>\n",
       "      <td>Alpha</td>\n",
       "      <td>Petrol</td>\n",
       "      <td>Manual</td>\n",
       "      <td>14,002 kms</td>\n",
       "      <td>4.75 Lakh</td>\n",
       "    </tr>\n",
       "    <tr>\n",
       "      <th>5669</th>\n",
       "      <td>5669</td>\n",
       "      <td>2018 Toyota Innova Crysta</td>\n",
       "      <td>2.8 GX AT BSIV</td>\n",
       "      <td>Diesel</td>\n",
       "      <td>Automatic</td>\n",
       "      <td>1,12,000 kms</td>\n",
       "      <td>16.5 Lakh</td>\n",
       "    </tr>\n",
       "  </tbody>\n",
       "</table>\n",
       "<p>5670 rows × 7 columns</p>\n",
       "</div>"
      ],
      "text/plain": [
       "      Unnamed: 0             year and brand             model    fuel  \\\n",
       "0              0         2016 Maruti Baleno     1.2 CVT Delta  Petrol   \n",
       "1              1     2015 Hyundai Grand i10            Sportz  Petrol   \n",
       "2              2           2014 Hyundai i10       Sportz 1.1L  Petrol   \n",
       "3              3       2017 Maruti Alto K10      VXI Optional  Petrol   \n",
       "4              4     2015 Hyundai Grand i10       Asta Option  Petrol   \n",
       "...          ...                        ...               ...     ...   \n",
       "5665        5665           2012 Maruti Eeco  5 Seater AC BSIV  Petrol   \n",
       "5666        5666             2018 Ford Figo  1.2P Titanium MT  Petrol   \n",
       "5667        5667         2019 Hyundai Creta     1.6 SX Option  Petrol   \n",
       "5668        5668          2018 Maruti Ignis             Alpha  Petrol   \n",
       "5669        5669  2018 Toyota Innova Crysta    2.8 GX AT BSIV  Diesel   \n",
       "\n",
       "        variant           kms      Price  \n",
       "0     Automatic    25,735 kms  5.74 Lakh  \n",
       "1        Manual    18,174 kms   4.5 Lakh  \n",
       "2        Manual    45,195 kms  3.31 Lakh  \n",
       "3        Manual    22,761 kms  3.34 Lakh  \n",
       "4        Manual    22,819 kms  4.25 Lakh  \n",
       "...         ...           ...        ...  \n",
       "5665     Manual    30,000 kms  2.25 Lakh  \n",
       "5666     Manual    27,003 kms   4.9 Lakh  \n",
       "5667     Manual    19,000 kms    13 Lakh  \n",
       "5668     Manual    14,002 kms  4.75 Lakh  \n",
       "5669  Automatic  1,12,000 kms  16.5 Lakh  \n",
       "\n",
       "[5670 rows x 7 columns]"
      ]
     },
     "execution_count": 100,
     "metadata": {},
     "output_type": "execute_result"
    }
   ],
   "source": [
    "df=pd.read_excel('cardekho_scr.xlsx')\n",
    "df"
   ]
  },
  {
   "cell_type": "code",
   "execution_count": null,
   "metadata": {},
   "outputs": [],
   "source": []
  }
 ],
 "metadata": {
  "kernelspec": {
   "display_name": "Python 3",
   "language": "python",
   "name": "python3"
  },
  "language_info": {
   "codemirror_mode": {
    "name": "ipython",
    "version": 3
   },
   "file_extension": ".py",
   "mimetype": "text/x-python",
   "name": "python",
   "nbconvert_exporter": "python",
   "pygments_lexer": "ipython3",
   "version": "3.8.5"
  }
 },
 "nbformat": 4,
 "nbformat_minor": 4
}
