{
 "cells": [
  {
   "cell_type": "code",
   "execution_count": null,
   "metadata": {},
   "outputs": [],
   "source": [
    "from bs4 import BeautifulSoup\n",
    "import requests\n",
    "import pandas as pd"
   ]
  },
  {
   "cell_type": "markdown",
   "metadata": {},
   "source": [
    "# Question 1"
   ]
  },
  {
   "cell_type": "markdown",
   "metadata": {},
   "source": [
    "# display all the header tags from‘en.wikipedia.org/wiki/Main_Page’"
   ]
  },
  {
   "cell_type": "code",
   "execution_count": 241,
   "metadata": {},
   "outputs": [
    {
     "data": {
      "text/plain": [
       "<Response [200]>"
      ]
     },
     "execution_count": 241,
     "metadata": {},
     "output_type": "execute_result"
    }
   ],
   "source": [
    "page=requests.get('https://en.wikipedia.org/wiki/Main_Page')\n",
    "page"
   ]
  },
  {
   "cell_type": "code",
   "execution_count": null,
   "metadata": {},
   "outputs": [],
   "source": [
    "soup=BeautifulSoup(page.content)\n",
    "soup"
   ]
  },
  {
   "cell_type": "code",
   "execution_count": 243,
   "metadata": {},
   "outputs": [
    {
     "data": {
      "text/plain": [
       "['Main Page']"
      ]
     },
     "execution_count": 243,
     "metadata": {},
     "output_type": "execute_result"
    }
   ],
   "source": [
    "titles=soup.find_all('h1')\n",
    "h1=[]\n",
    "for i in titles:\n",
    "    h1.append(i.text.replace('\\n',' '))\n",
    "h1"
   ]
  },
  {
   "cell_type": "code",
   "execution_count": null,
   "metadata": {},
   "outputs": [],
   "source": [
    "titles=soup.find_all('h2')\n",
    "h2=[]\n",
    "for i in titles:\n",
    "    h2.append(i.text.replace('\\n',' '))\n",
    "h2"
   ]
  },
  {
   "cell_type": "code",
   "execution_count": null,
   "metadata": {},
   "outputs": [],
   "source": [
    "titles=soup.find_all('h3')\n",
    "h3=[]\n",
    "for i in titles:\n",
    "    h3.append(i.text.replace('\\n',' '))\n",
    "h3"
   ]
  },
  {
   "cell_type": "code",
   "execution_count": 246,
   "metadata": {},
   "outputs": [
    {
     "data": {
      "text/plain": [
       "[]"
      ]
     },
     "execution_count": 246,
     "metadata": {},
     "output_type": "execute_result"
    }
   ],
   "source": [
    "titles=soup.find_all('h4')\n",
    "h4=[]\n",
    "for i in titles:\n",
    "    h4.append(i.text.replace('\\n',' '))\n",
    "h4"
   ]
  },
  {
   "cell_type": "code",
   "execution_count": 247,
   "metadata": {},
   "outputs": [
    {
     "data": {
      "text/plain": [
       "[]"
      ]
     },
     "execution_count": 247,
     "metadata": {},
     "output_type": "execute_result"
    }
   ],
   "source": [
    "titles=soup.find_all('h5')\n",
    "h5=[]\n",
    "for i in titles:\n",
    "    h5.append(i.text.replace('\\n',' '))\n",
    "h5"
   ]
  },
  {
   "cell_type": "code",
   "execution_count": 248,
   "metadata": {},
   "outputs": [
    {
     "data": {
      "text/plain": [
       "[]"
      ]
     },
     "execution_count": 248,
     "metadata": {},
     "output_type": "execute_result"
    }
   ],
   "source": [
    "titles=soup.find_all('h6')\n",
    "h6=[]\n",
    "for i in titles:\n",
    "    h6.append(i.text)\n",
    "h6"
   ]
  },
  {
   "cell_type": "code",
   "execution_count": 249,
   "metadata": {},
   "outputs": [
    {
     "data": {
      "text/plain": [
       "{'Header': ['h1'], 'values': ['Main Page']}"
      ]
     },
     "execution_count": 249,
     "metadata": {},
     "output_type": "execute_result"
    }
   ],
   "source": [
    "df={'Header':[],'values':[]}\n",
    "listy=[]\n",
    "misty=[]\n",
    "for i in h1:\n",
    "    listy.append('h1')\n",
    "    misty.append(i)\n",
    "df['Header']=listy\n",
    "df['values']=misty\n",
    "df"
   ]
  },
  {
   "cell_type": "code",
   "execution_count": 250,
   "metadata": {},
   "outputs": [
    {
     "data": {
      "text/plain": [
       "{'Header': ['h1', 'h2', 'h2', 'h2', 'h2', 'h2', 'h2', 'h2', 'h2', 'h2'],\n",
       " 'values': ['Main Page',\n",
       "  \"From today's featured article\",\n",
       "  'Did you know\\xa0...',\n",
       "  'In the news',\n",
       "  'On this day',\n",
       "  \"Today's featured picture\",\n",
       "  'Other areas of Wikipedia',\n",
       "  \"Wikipedia's sister projects\",\n",
       "  'Wikipedia languages',\n",
       "  'Navigation menu']}"
      ]
     },
     "execution_count": 250,
     "metadata": {},
     "output_type": "execute_result"
    }
   ],
   "source": [
    "for i in h2:\n",
    "    listy.append('h2')\n",
    "    misty.append(i)\n",
    "df['Header']=listy\n",
    "df['values']=misty\n",
    "df"
   ]
  },
  {
   "cell_type": "code",
   "execution_count": null,
   "metadata": {},
   "outputs": [],
   "source": [
    "for i in h3:\n",
    "        listy.append('h3')\n",
    "        misty.append(i)\n",
    "df['Header']=listy\n",
    "df['values']=misty\n",
    "df"
   ]
  },
  {
   "cell_type": "code",
   "execution_count": null,
   "metadata": {},
   "outputs": [],
   "source": [
    "if len(h4)>0:\n",
    "    for i in h4:\n",
    "        listy.append('h4')\n",
    "        misty.append(i)\n",
    "else:\n",
    "    listy.append('h4')\n",
    "    misty.append('-')\n",
    "df['Header']=listy\n",
    "df['values']=misty\n",
    "df"
   ]
  },
  {
   "cell_type": "code",
   "execution_count": null,
   "metadata": {},
   "outputs": [],
   "source": [
    "if len(h5)>0:\n",
    "    for i in h5:\n",
    "        listy.append('h5')\n",
    "        misty.append(i)\n",
    "else:\n",
    "    listy.append('h5')\n",
    "    misty.append('-')\n",
    "df['Header']=listy\n",
    "df['values']=misty\n",
    "df"
   ]
  },
  {
   "cell_type": "code",
   "execution_count": null,
   "metadata": {},
   "outputs": [],
   "source": [
    "if len(h6)>0:\n",
    "    for i in h6:\n",
    "        listy.append('h6')\n",
    "        misty.append(i)\n",
    "else:\n",
    "    listy.append('h6')\n",
    "    misty.append('-')\n",
    "df['Header']=listy\n",
    "df['values']=misty\n",
    "df"
   ]
  },
  {
   "cell_type": "code",
   "execution_count": 255,
   "metadata": {},
   "outputs": [
    {
     "data": {
      "text/html": [
       "<div>\n",
       "<style scoped>\n",
       "    .dataframe tbody tr th:only-of-type {\n",
       "        vertical-align: middle;\n",
       "    }\n",
       "\n",
       "    .dataframe tbody tr th {\n",
       "        vertical-align: top;\n",
       "    }\n",
       "\n",
       "    .dataframe thead th {\n",
       "        text-align: right;\n",
       "    }\n",
       "</style>\n",
       "<table border=\"1\" class=\"dataframe\">\n",
       "  <thead>\n",
       "    <tr style=\"text-align: right;\">\n",
       "      <th></th>\n",
       "      <th>Header</th>\n",
       "      <th>values</th>\n",
       "    </tr>\n",
       "  </thead>\n",
       "  <tbody>\n",
       "    <tr>\n",
       "      <th>0</th>\n",
       "      <td>h1</td>\n",
       "      <td>Main Page</td>\n",
       "    </tr>\n",
       "    <tr>\n",
       "      <th>1</th>\n",
       "      <td>h2</td>\n",
       "      <td>From today's featured article</td>\n",
       "    </tr>\n",
       "    <tr>\n",
       "      <th>2</th>\n",
       "      <td>h2</td>\n",
       "      <td>Did you know ...</td>\n",
       "    </tr>\n",
       "    <tr>\n",
       "      <th>3</th>\n",
       "      <td>h2</td>\n",
       "      <td>In the news</td>\n",
       "    </tr>\n",
       "    <tr>\n",
       "      <th>4</th>\n",
       "      <td>h2</td>\n",
       "      <td>On this day</td>\n",
       "    </tr>\n",
       "    <tr>\n",
       "      <th>5</th>\n",
       "      <td>h2</td>\n",
       "      <td>Today's featured picture</td>\n",
       "    </tr>\n",
       "    <tr>\n",
       "      <th>6</th>\n",
       "      <td>h2</td>\n",
       "      <td>Other areas of Wikipedia</td>\n",
       "    </tr>\n",
       "    <tr>\n",
       "      <th>7</th>\n",
       "      <td>h2</td>\n",
       "      <td>Wikipedia's sister projects</td>\n",
       "    </tr>\n",
       "    <tr>\n",
       "      <th>8</th>\n",
       "      <td>h2</td>\n",
       "      <td>Wikipedia languages</td>\n",
       "    </tr>\n",
       "    <tr>\n",
       "      <th>9</th>\n",
       "      <td>h2</td>\n",
       "      <td>Navigation menu</td>\n",
       "    </tr>\n",
       "    <tr>\n",
       "      <th>10</th>\n",
       "      <td>h3</td>\n",
       "      <td>Personal tools</td>\n",
       "    </tr>\n",
       "    <tr>\n",
       "      <th>11</th>\n",
       "      <td>h3</td>\n",
       "      <td>Namespaces</td>\n",
       "    </tr>\n",
       "    <tr>\n",
       "      <th>12</th>\n",
       "      <td>h3</td>\n",
       "      <td>Variants</td>\n",
       "    </tr>\n",
       "    <tr>\n",
       "      <th>13</th>\n",
       "      <td>h3</td>\n",
       "      <td>Views</td>\n",
       "    </tr>\n",
       "    <tr>\n",
       "      <th>14</th>\n",
       "      <td>h3</td>\n",
       "      <td>More</td>\n",
       "    </tr>\n",
       "    <tr>\n",
       "      <th>15</th>\n",
       "      <td>h3</td>\n",
       "      <td>Search</td>\n",
       "    </tr>\n",
       "    <tr>\n",
       "      <th>16</th>\n",
       "      <td>h3</td>\n",
       "      <td>Navigation</td>\n",
       "    </tr>\n",
       "    <tr>\n",
       "      <th>17</th>\n",
       "      <td>h3</td>\n",
       "      <td>Contribute</td>\n",
       "    </tr>\n",
       "    <tr>\n",
       "      <th>18</th>\n",
       "      <td>h3</td>\n",
       "      <td>Tools</td>\n",
       "    </tr>\n",
       "    <tr>\n",
       "      <th>19</th>\n",
       "      <td>h3</td>\n",
       "      <td>Print/export</td>\n",
       "    </tr>\n",
       "    <tr>\n",
       "      <th>20</th>\n",
       "      <td>h3</td>\n",
       "      <td>In other projects</td>\n",
       "    </tr>\n",
       "    <tr>\n",
       "      <th>21</th>\n",
       "      <td>h3</td>\n",
       "      <td>Languages</td>\n",
       "    </tr>\n",
       "    <tr>\n",
       "      <th>22</th>\n",
       "      <td>h4</td>\n",
       "      <td>-</td>\n",
       "    </tr>\n",
       "    <tr>\n",
       "      <th>23</th>\n",
       "      <td>h5</td>\n",
       "      <td>-</td>\n",
       "    </tr>\n",
       "    <tr>\n",
       "      <th>24</th>\n",
       "      <td>h6</td>\n",
       "      <td>-</td>\n",
       "    </tr>\n",
       "  </tbody>\n",
       "</table>\n",
       "</div>"
      ],
      "text/plain": [
       "   Header                         values\n",
       "0      h1                      Main Page\n",
       "1      h2  From today's featured article\n",
       "2      h2               Did you know ...\n",
       "3      h2                    In the news\n",
       "4      h2                    On this day\n",
       "5      h2       Today's featured picture\n",
       "6      h2       Other areas of Wikipedia\n",
       "7      h2    Wikipedia's sister projects\n",
       "8      h2            Wikipedia languages\n",
       "9      h2                Navigation menu\n",
       "10     h3                Personal tools \n",
       "11     h3                    Namespaces \n",
       "12     h3                      Variants \n",
       "13     h3                         Views \n",
       "14     h3                          More \n",
       "15     h3                        Search \n",
       "16     h3                    Navigation \n",
       "17     h3                    Contribute \n",
       "18     h3                         Tools \n",
       "19     h3                  Print/export \n",
       "20     h3             In other projects \n",
       "21     h3                     Languages \n",
       "22     h4                              -\n",
       "23     h5                              -\n",
       "24     h6                              -"
      ]
     },
     "execution_count": 255,
     "metadata": {},
     "output_type": "execute_result"
    }
   ],
   "source": [
    "df=pd.DataFrame(df,columns=('Header','values'))\n",
    "df"
   ]
  },
  {
   "cell_type": "code",
   "execution_count": null,
   "metadata": {},
   "outputs": [],
   "source": []
  },
  {
   "cell_type": "markdown",
   "metadata": {},
   "source": [
    "# Question 2"
   ]
  },
  {
   "cell_type": "markdown",
   "metadata": {},
   "source": [
    "# Write a python program to display IMDB’s Top rated 100 movies’ data (i.e. Name, IMDB rating, Year of release.\n",
    "\n"
   ]
  },
  {
   "cell_type": "code",
   "execution_count": null,
   "metadata": {},
   "outputs": [],
   "source": [
    "page=requests.get('https://www.imdb.com/chart/top')\n",
    "page"
   ]
  },
  {
   "cell_type": "code",
   "execution_count": null,
   "metadata": {},
   "outputs": [],
   "source": [
    "soup=BeautifulSoup(page.content)\n",
    "soup"
   ]
  },
  {
   "cell_type": "code",
   "execution_count": null,
   "metadata": {},
   "outputs": [],
   "source": [
    "titles=soup.find_all('td',class_='titleColumn')\n",
    "titles"
   ]
  },
  {
   "cell_type": "code",
   "execution_count": null,
   "metadata": {},
   "outputs": [],
   "source": [
    "name=[]\n",
    "for i in titles:\n",
    "    for j in i.find_all('a'):\n",
    "        name.append(j.text.replace('\\n',''))\n",
    "name"
   ]
  },
  {
   "cell_type": "code",
   "execution_count": null,
   "metadata": {},
   "outputs": [],
   "source": [
    "rating= soup.find_all('td',class_='ratingColumn imdbRating')\n",
    "rating"
   ]
  },
  {
   "cell_type": "code",
   "execution_count": null,
   "metadata": {},
   "outputs": [],
   "source": [
    "rat=[]\n",
    "for i in rating:\n",
    "    rat.append(i.text.replace('\\n',''))\n",
    "rat\n",
    "    "
   ]
  },
  {
   "cell_type": "code",
   "execution_count": null,
   "metadata": {},
   "outputs": [],
   "source": [
    "release=soup.find_all('span',class_='secondaryInfo')\n",
    "release"
   ]
  },
  {
   "cell_type": "code",
   "execution_count": null,
   "metadata": {},
   "outputs": [],
   "source": [
    "year=[]\n",
    "for i in release:\n",
    "    year.append(i.text.replace('\\n',''))\n",
    "year"
   ]
  },
  {
   "cell_type": "code",
   "execution_count": 239,
   "metadata": {},
   "outputs": [
    {
     "data": {
      "text/html": [
       "<div>\n",
       "<style scoped>\n",
       "    .dataframe tbody tr th:only-of-type {\n",
       "        vertical-align: middle;\n",
       "    }\n",
       "\n",
       "    .dataframe tbody tr th {\n",
       "        vertical-align: top;\n",
       "    }\n",
       "\n",
       "    .dataframe thead th {\n",
       "        text-align: right;\n",
       "    }\n",
       "</style>\n",
       "<table border=\"1\" class=\"dataframe\">\n",
       "  <thead>\n",
       "    <tr style=\"text-align: right;\">\n",
       "      <th></th>\n",
       "      <th>Name</th>\n",
       "      <th>Rating</th>\n",
       "      <th>Year</th>\n",
       "    </tr>\n",
       "  </thead>\n",
       "  <tbody>\n",
       "    <tr>\n",
       "      <th>0</th>\n",
       "      <td>Nayakan</td>\n",
       "      <td>8.5</td>\n",
       "      <td>(1987)</td>\n",
       "    </tr>\n",
       "    <tr>\n",
       "      <th>1</th>\n",
       "      <td>Anbe Sivam</td>\n",
       "      <td>8.5</td>\n",
       "      <td>(2003)</td>\n",
       "    </tr>\n",
       "    <tr>\n",
       "      <th>2</th>\n",
       "      <td>Pariyerum Perumal</td>\n",
       "      <td>8.5</td>\n",
       "      <td>(2018)</td>\n",
       "    </tr>\n",
       "    <tr>\n",
       "      <th>3</th>\n",
       "      <td>Golmaal</td>\n",
       "      <td>8.5</td>\n",
       "      <td>(1979)</td>\n",
       "    </tr>\n",
       "    <tr>\n",
       "      <th>4</th>\n",
       "      <td>C/o Kancharapalem</td>\n",
       "      <td>8.5</td>\n",
       "      <td>(2018)</td>\n",
       "    </tr>\n",
       "    <tr>\n",
       "      <th>...</th>\n",
       "      <td>...</td>\n",
       "      <td>...</td>\n",
       "      <td>...</td>\n",
       "    </tr>\n",
       "    <tr>\n",
       "      <th>95</th>\n",
       "      <td>Virumandi</td>\n",
       "      <td>8.1</td>\n",
       "      <td>(2004)</td>\n",
       "    </tr>\n",
       "    <tr>\n",
       "      <th>96</th>\n",
       "      <td>Lagaan: Once Upon a Time in India</td>\n",
       "      <td>8.1</td>\n",
       "      <td>(2001)</td>\n",
       "    </tr>\n",
       "    <tr>\n",
       "      <th>97</th>\n",
       "      <td>Kahaani</td>\n",
       "      <td>8.1</td>\n",
       "      <td>(2012)</td>\n",
       "    </tr>\n",
       "    <tr>\n",
       "      <th>98</th>\n",
       "      <td>Andaz Apna Apna</td>\n",
       "      <td>8.1</td>\n",
       "      <td>(1994)</td>\n",
       "    </tr>\n",
       "    <tr>\n",
       "      <th>99</th>\n",
       "      <td>Uri: The Surgical Strike</td>\n",
       "      <td>8.1</td>\n",
       "      <td>(2019)</td>\n",
       "    </tr>\n",
       "  </tbody>\n",
       "</table>\n",
       "<p>100 rows × 3 columns</p>\n",
       "</div>"
      ],
      "text/plain": [
       "                                 Name Rating    Year\n",
       "0                             Nayakan    8.5  (1987)\n",
       "1                          Anbe Sivam    8.5  (2003)\n",
       "2                   Pariyerum Perumal    8.5  (2018)\n",
       "3                             Golmaal    8.5  (1979)\n",
       "4                   C/o Kancharapalem    8.5  (2018)\n",
       "..                                ...    ...     ...\n",
       "95                          Virumandi    8.1  (2004)\n",
       "96  Lagaan: Once Upon a Time in India    8.1  (2001)\n",
       "97                            Kahaani    8.1  (2012)\n",
       "98                    Andaz Apna Apna    8.1  (1994)\n",
       "99           Uri: The Surgical Strike    8.1  (2019)\n",
       "\n",
       "[100 rows x 3 columns]"
      ]
     },
     "execution_count": 239,
     "metadata": {},
     "output_type": "execute_result"
    }
   ],
   "source": [
    "df=pd.DataFrame({})\n",
    "df['Name']=name[:100]\n",
    "df['Rating']=rat[:100]\n",
    "df['Year']=year[:100]\n",
    "df"
   ]
  },
  {
   "cell_type": "code",
   "execution_count": null,
   "metadata": {},
   "outputs": [],
   "source": []
  },
  {
   "cell_type": "markdown",
   "metadata": {},
   "source": [
    "# Question 3"
   ]
  },
  {
   "cell_type": "markdown",
   "metadata": {},
   "source": [
    "# Write a python program to display IMDB’s Top rated 100 Indian movies’ data (i.e. Name, IMDB rating, Year \n",
    "of release)"
   ]
  },
  {
   "cell_type": "code",
   "execution_count": 229,
   "metadata": {},
   "outputs": [
    {
     "data": {
      "text/plain": [
       "<Response [200]>"
      ]
     },
     "execution_count": 229,
     "metadata": {},
     "output_type": "execute_result"
    }
   ],
   "source": [
    "page=requests.get('https://www.imdb.com/india/top-rated-indian-movies/')\n",
    "page"
   ]
  },
  {
   "cell_type": "code",
   "execution_count": 230,
   "metadata": {},
   "outputs": [],
   "source": [
    "soup=BeautifulSoup(page.content)"
   ]
  },
  {
   "cell_type": "code",
   "execution_count": null,
   "metadata": {},
   "outputs": [],
   "source": [
    "title=soup.find_all('td',class_='titleColumn')\n",
    "title"
   ]
  },
  {
   "cell_type": "code",
   "execution_count": null,
   "metadata": {},
   "outputs": [],
   "source": [
    "name=[]\n",
    "for i in title:\n",
    "    for j in i.find_all('a'):\n",
    "        name.append(j.text.replace('\\n',''))\n",
    "name"
   ]
  },
  {
   "cell_type": "code",
   "execution_count": null,
   "metadata": {},
   "outputs": [],
   "source": [
    "rating=soup.find_all('td',class_='ratingColumn imdbRating')\n",
    "rating"
   ]
  },
  {
   "cell_type": "code",
   "execution_count": null,
   "metadata": {},
   "outputs": [],
   "source": [
    "rat=[]\n",
    "for i in rating:\n",
    "    rat.append(i.text.replace('\\n',''))\n",
    "rat"
   ]
  },
  {
   "cell_type": "code",
   "execution_count": 235,
   "metadata": {},
   "outputs": [
    {
     "data": {
      "text/plain": [
       "250"
      ]
     },
     "execution_count": 235,
     "metadata": {},
     "output_type": "execute_result"
    }
   ],
   "source": [
    "len(rat)"
   ]
  },
  {
   "cell_type": "code",
   "execution_count": 236,
   "metadata": {},
   "outputs": [],
   "source": [
    "release=soup.find_all('span',class_='secondaryInfo')"
   ]
  },
  {
   "cell_type": "code",
   "execution_count": null,
   "metadata": {},
   "outputs": [],
   "source": [
    "year=[]\n",
    "for i in release:\n",
    "    year.append(i.text)\n",
    "year"
   ]
  },
  {
   "cell_type": "code",
   "execution_count": 238,
   "metadata": {},
   "outputs": [
    {
     "data": {
      "text/html": [
       "<div>\n",
       "<style scoped>\n",
       "    .dataframe tbody tr th:only-of-type {\n",
       "        vertical-align: middle;\n",
       "    }\n",
       "\n",
       "    .dataframe tbody tr th {\n",
       "        vertical-align: top;\n",
       "    }\n",
       "\n",
       "    .dataframe thead th {\n",
       "        text-align: right;\n",
       "    }\n",
       "</style>\n",
       "<table border=\"1\" class=\"dataframe\">\n",
       "  <thead>\n",
       "    <tr style=\"text-align: right;\">\n",
       "      <th></th>\n",
       "      <th>Name</th>\n",
       "      <th>Rating</th>\n",
       "      <th>Year</th>\n",
       "    </tr>\n",
       "  </thead>\n",
       "  <tbody>\n",
       "    <tr>\n",
       "      <th>0</th>\n",
       "      <td>Nayakan</td>\n",
       "      <td>8.5</td>\n",
       "      <td>(1987)</td>\n",
       "    </tr>\n",
       "    <tr>\n",
       "      <th>1</th>\n",
       "      <td>Anbe Sivam</td>\n",
       "      <td>8.5</td>\n",
       "      <td>(2003)</td>\n",
       "    </tr>\n",
       "    <tr>\n",
       "      <th>2</th>\n",
       "      <td>Pariyerum Perumal</td>\n",
       "      <td>8.5</td>\n",
       "      <td>(2018)</td>\n",
       "    </tr>\n",
       "    <tr>\n",
       "      <th>3</th>\n",
       "      <td>Golmaal</td>\n",
       "      <td>8.5</td>\n",
       "      <td>(1979)</td>\n",
       "    </tr>\n",
       "    <tr>\n",
       "      <th>4</th>\n",
       "      <td>C/o Kancharapalem</td>\n",
       "      <td>8.5</td>\n",
       "      <td>(2018)</td>\n",
       "    </tr>\n",
       "    <tr>\n",
       "      <th>...</th>\n",
       "      <td>...</td>\n",
       "      <td>...</td>\n",
       "      <td>...</td>\n",
       "    </tr>\n",
       "    <tr>\n",
       "      <th>95</th>\n",
       "      <td>Virumandi</td>\n",
       "      <td>8.1</td>\n",
       "      <td>(2004)</td>\n",
       "    </tr>\n",
       "    <tr>\n",
       "      <th>96</th>\n",
       "      <td>Lagaan: Once Upon a Time in India</td>\n",
       "      <td>8.1</td>\n",
       "      <td>(2001)</td>\n",
       "    </tr>\n",
       "    <tr>\n",
       "      <th>97</th>\n",
       "      <td>Kahaani</td>\n",
       "      <td>8.1</td>\n",
       "      <td>(2012)</td>\n",
       "    </tr>\n",
       "    <tr>\n",
       "      <th>98</th>\n",
       "      <td>Andaz Apna Apna</td>\n",
       "      <td>8.1</td>\n",
       "      <td>(1994)</td>\n",
       "    </tr>\n",
       "    <tr>\n",
       "      <th>99</th>\n",
       "      <td>Uri: The Surgical Strike</td>\n",
       "      <td>8.1</td>\n",
       "      <td>(2019)</td>\n",
       "    </tr>\n",
       "  </tbody>\n",
       "</table>\n",
       "<p>100 rows × 3 columns</p>\n",
       "</div>"
      ],
      "text/plain": [
       "                                 Name Rating    Year\n",
       "0                             Nayakan    8.5  (1987)\n",
       "1                          Anbe Sivam    8.5  (2003)\n",
       "2                   Pariyerum Perumal    8.5  (2018)\n",
       "3                             Golmaal    8.5  (1979)\n",
       "4                   C/o Kancharapalem    8.5  (2018)\n",
       "..                                ...    ...     ...\n",
       "95                          Virumandi    8.1  (2004)\n",
       "96  Lagaan: Once Upon a Time in India    8.1  (2001)\n",
       "97                            Kahaani    8.1  (2012)\n",
       "98                    Andaz Apna Apna    8.1  (1994)\n",
       "99           Uri: The Surgical Strike    8.1  (2019)\n",
       "\n",
       "[100 rows x 3 columns]"
      ]
     },
     "execution_count": 238,
     "metadata": {},
     "output_type": "execute_result"
    }
   ],
   "source": [
    "df=pd.DataFrame({})\n",
    "df['Name']=name[:100]\n",
    "df['Rating']=rat[:100]\n",
    "df['Year']=year[:100]\n",
    "df"
   ]
  },
  {
   "cell_type": "markdown",
   "metadata": {},
   "source": [
    "# Question 4 "
   ]
  },
  {
   "cell_type": "markdown",
   "metadata": {},
   "source": [
    "# Write a python program to scrap book name, author name, genre and book review of any 5 books from 'BOOKPAGE'."
   ]
  },
  {
   "cell_type": "code",
   "execution_count": null,
   "metadata": {},
   "outputs": [],
   "source": [
    "page=requests.get('https://bookpage.com/reviews')\n",
    "page"
   ]
  },
  {
   "cell_type": "code",
   "execution_count": null,
   "metadata": {},
   "outputs": [],
   "source": [
    "soup=BeautifulSoup(page.content)"
   ]
  },
  {
   "cell_type": "code",
   "execution_count": null,
   "metadata": {},
   "outputs": [],
   "source": [
    "title=soup.find_all('h4',class_='italic')\n",
    "title"
   ]
  },
  {
   "cell_type": "code",
   "execution_count": null,
   "metadata": {},
   "outputs": [],
   "source": [
    "name=[]\n",
    "for i in title:\n",
    "    for j in i.find_all('a'):\n",
    "        name.append(j.text.replace('\\n',''))\n",
    "name"
   ]
  },
  {
   "cell_type": "code",
   "execution_count": null,
   "metadata": {},
   "outputs": [],
   "source": [
    "author=soup.find_all('p',class_='sans bold')"
   ]
  },
  {
   "cell_type": "code",
   "execution_count": null,
   "metadata": {},
   "outputs": [],
   "source": [
    "auth=[]\n",
    "for i in author:\n",
    "    auth.append(i.text.replace('\\n',''))\n",
    "auth"
   ]
  },
  {
   "cell_type": "code",
   "execution_count": null,
   "metadata": {},
   "outputs": [],
   "source": [
    "genre=soup.find_all('p',class_='genre-links hidden-phone')"
   ]
  },
  {
   "cell_type": "code",
   "execution_count": null,
   "metadata": {},
   "outputs": [],
   "source": [
    "gen=[]\n",
    "for i in genre:\n",
    "    gen.append(i.text.replace('\\n',''))\n",
    "gen    "
   ]
  },
  {
   "cell_type": "code",
   "execution_count": null,
   "metadata": {},
   "outputs": [],
   "source": [
    "review= soup.find_all('p',class_='excerpt')\n",
    "review"
   ]
  },
  {
   "cell_type": "code",
   "execution_count": null,
   "metadata": {
    "scrolled": true
   },
   "outputs": [],
   "source": [
    "rev=[]\n",
    "for i in review:\n",
    "    rev.append(i.text.replace('\\n',''))\n",
    "rev"
   ]
  },
  {
   "cell_type": "code",
   "execution_count": null,
   "metadata": {},
   "outputs": [],
   "source": []
  },
  {
   "cell_type": "code",
   "execution_count": 259,
   "metadata": {},
   "outputs": [],
   "source": [
    "df=pd.DataFrame({})\n",
    "df['Book name']=name[:5]\n",
    "df['Author']=auth[:5]\n",
    "df['Genre']=gen[:5]\n",
    "df['Review']=rev[:5]"
   ]
  },
  {
   "cell_type": "code",
   "execution_count": 260,
   "metadata": {},
   "outputs": [
    {
     "data": {
      "text/html": [
       "<div>\n",
       "<style scoped>\n",
       "    .dataframe tbody tr th:only-of-type {\n",
       "        vertical-align: middle;\n",
       "    }\n",
       "\n",
       "    .dataframe tbody tr th {\n",
       "        vertical-align: top;\n",
       "    }\n",
       "\n",
       "    .dataframe thead th {\n",
       "        text-align: right;\n",
       "    }\n",
       "</style>\n",
       "<table border=\"1\" class=\"dataframe\">\n",
       "  <thead>\n",
       "    <tr style=\"text-align: right;\">\n",
       "      <th></th>\n",
       "      <th>Book name</th>\n",
       "      <th>Author</th>\n",
       "      <th>Genre</th>\n",
       "      <th>Review</th>\n",
       "    </tr>\n",
       "  </thead>\n",
       "  <tbody>\n",
       "    <tr>\n",
       "      <th>0</th>\n",
       "      <td>Nayakan</td>\n",
       "      <td>Clint Smith</td>\n",
       "      <td>Audio / Nonfiction / African American History</td>\n",
       "      <td>Clint Smith’s narration of How the Word Is Pas...</td>\n",
       "    </tr>\n",
       "    <tr>\n",
       "      <th>1</th>\n",
       "      <td>Anbe Sivam</td>\n",
       "      <td>Tarana Burke, Brené Brown, Cast</td>\n",
       "      <td>Audio / Nonfiction / Essays</td>\n",
       "      <td>Tarana Burke and Brené Brown demonstrate the p...</td>\n",
       "    </tr>\n",
       "    <tr>\n",
       "      <th>2</th>\n",
       "      <td>Pariyerum Perumal</td>\n",
       "      <td>Rosalyn Eves</td>\n",
       "      <td>YA / YA Fiction</td>\n",
       "      <td>Rosalyn Eves’ Beyond the Mapped Stars blends f...</td>\n",
       "    </tr>\n",
       "    <tr>\n",
       "      <th>3</th>\n",
       "      <td>Golmaal</td>\n",
       "      <td>Jaime Cortez</td>\n",
       "      <td>Fiction / Short Stories</td>\n",
       "      <td>As in John Steinbeck’s The Grapes of Wrath, th...</td>\n",
       "    </tr>\n",
       "    <tr>\n",
       "      <th>4</th>\n",
       "      <td>C/o Kancharapalem</td>\n",
       "      <td>Fiona Sampson</td>\n",
       "      <td>Nonfiction / Biography / Literary History</td>\n",
       "      <td>People often think of Elizabeth Barrett Browni...</td>\n",
       "    </tr>\n",
       "  </tbody>\n",
       "</table>\n",
       "</div>"
      ],
      "text/plain": [
       "           Book name                           Author  \\\n",
       "0            Nayakan                      Clint Smith   \n",
       "1         Anbe Sivam  Tarana Burke, Brené Brown, Cast   \n",
       "2  Pariyerum Perumal                     Rosalyn Eves   \n",
       "3            Golmaal                     Jaime Cortez   \n",
       "4  C/o Kancharapalem                    Fiona Sampson   \n",
       "\n",
       "                                           Genre  \\\n",
       "0  Audio / Nonfiction / African American History   \n",
       "1                    Audio / Nonfiction / Essays   \n",
       "2                                YA / YA Fiction   \n",
       "3                        Fiction / Short Stories   \n",
       "4      Nonfiction / Biography / Literary History   \n",
       "\n",
       "                                              Review  \n",
       "0  Clint Smith’s narration of How the Word Is Pas...  \n",
       "1  Tarana Burke and Brené Brown demonstrate the p...  \n",
       "2  Rosalyn Eves’ Beyond the Mapped Stars blends f...  \n",
       "3  As in John Steinbeck’s The Grapes of Wrath, th...  \n",
       "4  People often think of Elizabeth Barrett Browni...  "
      ]
     },
     "execution_count": 260,
     "metadata": {},
     "output_type": "execute_result"
    }
   ],
   "source": [
    "df"
   ]
  },
  {
   "cell_type": "code",
   "execution_count": null,
   "metadata": {},
   "outputs": [],
   "source": []
  },
  {
   "cell_type": "markdown",
   "metadata": {},
   "source": [
    "# Question 5"
   ]
  },
  {
   "cell_type": "markdown",
   "metadata": {},
   "source": [
    "# . Write a python program to scrape cricket rankings from 'icc-cricket.com’. You have to scrape:\n",
    "i) Top 10 ODI teams in men’s cricket along with the records for matches, points andrating.\n",
    "\n",
    "ii) Top 10 ODI Batsmen in men along with the records of their team and rating.\n",
    "\n",
    "iii) Top 10 ODI bowlers along with the records of their team and rating."
   ]
  },
  {
   "cell_type": "code",
   "execution_count": null,
   "metadata": {},
   "outputs": [],
   "source": [
    "page=requests.get('https://www.icc-cricket.com/rankings/mens/team-rankings/odi')\n",
    "page"
   ]
  },
  {
   "cell_type": "code",
   "execution_count": null,
   "metadata": {},
   "outputs": [],
   "source": [
    "soup=BeautifulSoup(page.content)"
   ]
  },
  {
   "cell_type": "code",
   "execution_count": null,
   "metadata": {},
   "outputs": [],
   "source": [
    "titles=soup.find_all('span',class_='u-hide-phablet')\n",
    "tit=[]\n",
    "for i in titles:\n",
    "    tit.append(i.text.replace('\\n',' '))\n",
    "tit"
   ]
  },
  {
   "cell_type": "code",
   "execution_count": null,
   "metadata": {},
   "outputs": [],
   "source": [
    "team_match=soup.find_all('td',class_='table-body__cell u-center-text')\n",
    "team_matches=[]\n",
    "team_points=[]\n",
    "j=0\n",
    "team_matches.append(soup.find('td',class_='rankings-block__banner--matches').text)\n",
    "team_points.append(soup.find('td',class_='rankings-block__banner--points').text)\n",
    "for i in team_match:\n",
    "    if j==0 or j%2==0:\n",
    "        team_matches.append(i.text.replace('\\n',''))\n",
    "    else:\n",
    "        team_points.append(i.text.replace('\\n',''))\n",
    "    j+=1\n",
    "team_matches"
   ]
  },
  {
   "cell_type": "code",
   "execution_count": null,
   "metadata": {},
   "outputs": [],
   "source": [
    "team_points"
   ]
  },
  {
   "cell_type": "code",
   "execution_count": null,
   "metadata": {},
   "outputs": [],
   "source": [
    "rate=soup.find_all('td',class_='table-body__cell u-text-right rating')\n",
    "team_rating=[]\n",
    "team_rating.append(soup.find('td',class_='rankings-block__banner--rating u-text-right').text.replace('\\n','').replace(' ',''))\n",
    "for i in rate:\n",
    "    team_rating.append(i.text.replace('\\n','').replace(' ',''))\n",
    "team_rating"
   ]
  },
  {
   "cell_type": "code",
   "execution_count": 225,
   "metadata": {},
   "outputs": [
    {
     "data": {
      "text/html": [
       "<div>\n",
       "<style scoped>\n",
       "    .dataframe tbody tr th:only-of-type {\n",
       "        vertical-align: middle;\n",
       "    }\n",
       "\n",
       "    .dataframe tbody tr th {\n",
       "        vertical-align: top;\n",
       "    }\n",
       "\n",
       "    .dataframe thead th {\n",
       "        text-align: right;\n",
       "    }\n",
       "</style>\n",
       "<table border=\"1\" class=\"dataframe\">\n",
       "  <thead>\n",
       "    <tr style=\"text-align: right;\">\n",
       "      <th></th>\n",
       "      <th>Name</th>\n",
       "      <th>Matches</th>\n",
       "      <th>Points</th>\n",
       "      <th>Rating</th>\n",
       "    </tr>\n",
       "  </thead>\n",
       "  <tbody>\n",
       "    <tr>\n",
       "      <th>0</th>\n",
       "      <td>Marizanne Kapp</td>\n",
       "      <td>18</td>\n",
       "      <td>2,955</td>\n",
       "      <td>418</td>\n",
       "    </tr>\n",
       "    <tr>\n",
       "      <th>1</th>\n",
       "      <td>Ellyse Perry</td>\n",
       "      <td>20</td>\n",
       "      <td>2,370</td>\n",
       "      <td>394</td>\n",
       "    </tr>\n",
       "    <tr>\n",
       "      <th>2</th>\n",
       "      <td>Stafanie Taylor</td>\n",
       "      <td>24</td>\n",
       "      <td>2,828</td>\n",
       "      <td>365</td>\n",
       "    </tr>\n",
       "    <tr>\n",
       "      <th>3</th>\n",
       "      <td>Natalie Sciver</td>\n",
       "      <td>23</td>\n",
       "      <td>2,535</td>\n",
       "      <td>331</td>\n",
       "    </tr>\n",
       "    <tr>\n",
       "      <th>4</th>\n",
       "      <td>Deepti Sharma</td>\n",
       "      <td>21</td>\n",
       "      <td>1,947</td>\n",
       "      <td>307</td>\n",
       "    </tr>\n",
       "    <tr>\n",
       "      <th>5</th>\n",
       "      <td>Jess Jonassen</td>\n",
       "      <td>17</td>\n",
       "      <td>1,427</td>\n",
       "      <td>252</td>\n",
       "    </tr>\n",
       "    <tr>\n",
       "      <th>6</th>\n",
       "      <td>Ashleigh Gardner</td>\n",
       "      <td>20</td>\n",
       "      <td>1,496</td>\n",
       "      <td>243</td>\n",
       "    </tr>\n",
       "    <tr>\n",
       "      <th>7</th>\n",
       "      <td>Dane van Niekerk</td>\n",
       "      <td>5</td>\n",
       "      <td>306</td>\n",
       "      <td>242</td>\n",
       "    </tr>\n",
       "    <tr>\n",
       "      <th>8</th>\n",
       "      <td>Sophie Devine</td>\n",
       "      <td>11</td>\n",
       "      <td>519</td>\n",
       "      <td>239</td>\n",
       "    </tr>\n",
       "    <tr>\n",
       "      <th>9</th>\n",
       "      <td>Katherine Brunt</td>\n",
       "      <td>2</td>\n",
       "      <td>25</td>\n",
       "      <td>236</td>\n",
       "    </tr>\n",
       "  </tbody>\n",
       "</table>\n",
       "</div>"
      ],
      "text/plain": [
       "               Name Matches Points Rating\n",
       "0    Marizanne Kapp      18  2,955    418\n",
       "1      Ellyse Perry      20  2,370    394\n",
       "2   Stafanie Taylor      24  2,828    365\n",
       "3    Natalie Sciver      23  2,535    331\n",
       "4     Deepti Sharma      21  1,947    307\n",
       "5     Jess Jonassen      17  1,427    252\n",
       "6  Ashleigh Gardner      20  1,496    243\n",
       "7  Dane van Niekerk       5    306    242\n",
       "8     Sophie Devine      11    519    239\n",
       "9   Katherine Brunt       2     25    236"
      ]
     },
     "execution_count": 225,
     "metadata": {},
     "output_type": "execute_result"
    }
   ],
   "source": [
    "df=pd.DataFrame({})\n",
    "df['Name']=tit[:10]\n",
    "df['Matches']=team_matches[:10]\n",
    "df['Points']=team_points[:10]\n",
    "df['Rating']=team_rating[:10]\n",
    "df"
   ]
  },
  {
   "cell_type": "code",
   "execution_count": null,
   "metadata": {},
   "outputs": [],
   "source": []
  },
  {
   "cell_type": "code",
   "execution_count": null,
   "metadata": {},
   "outputs": [],
   "source": [
    "page=requests.get('https://www.icc-cricket.com/rankings/mens/player-rankings/odi/batting')\n",
    "page"
   ]
  },
  {
   "cell_type": "code",
   "execution_count": null,
   "metadata": {},
   "outputs": [],
   "source": [
    "soup=BeautifulSoup(page.content)"
   ]
  },
  {
   "cell_type": "code",
   "execution_count": null,
   "metadata": {},
   "outputs": [],
   "source": [
    "titles=soup.find_all('td',class_='table-body__cell rankings-table__name name')\n",
    "tit=[]\n",
    "tit.append(soup.find('div',class_='rankings-block__banner--name-large').text.replace('\\n',''))\n",
    "for i in titles:\n",
    "    for j in i.find_all('a'):\n",
    "        tit.append(j.text.replace('\\n',' '))\n",
    "tit"
   ]
  },
  {
   "cell_type": "code",
   "execution_count": null,
   "metadata": {},
   "outputs": [],
   "source": [
    "rate=soup.find_all('td',class_='table-body__cell rating')\n",
    "team_rating=[]\n",
    "team_rating.append(soup.find('div',class_='rankings-block__banner--rating').text.replace('\\n','').replace(' ',''))\n",
    "for i in rate:\n",
    "    team_rating.append(i.text.replace('\\n','').replace(' ',''))\n",
    "team_rating"
   ]
  },
  {
   "cell_type": "code",
   "execution_count": null,
   "metadata": {},
   "outputs": [],
   "source": [
    "teamt=soup.find_all('span',class_='table-body__logo-text')\n",
    "team=[]\n",
    "team.append(soup.find('div',class_='rankings-block__banner--nationality').text.replace('\\n','').strip())\n",
    "for i in teamt:\n",
    "    team.append(i.text.replace('\\n',''))\n",
    "team"
   ]
  },
  {
   "cell_type": "code",
   "execution_count": 224,
   "metadata": {},
   "outputs": [
    {
     "data": {
      "text/html": [
       "<div>\n",
       "<style scoped>\n",
       "    .dataframe tbody tr th:only-of-type {\n",
       "        vertical-align: middle;\n",
       "    }\n",
       "\n",
       "    .dataframe tbody tr th {\n",
       "        vertical-align: top;\n",
       "    }\n",
       "\n",
       "    .dataframe thead th {\n",
       "        text-align: right;\n",
       "    }\n",
       "</style>\n",
       "<table border=\"1\" class=\"dataframe\">\n",
       "  <thead>\n",
       "    <tr style=\"text-align: right;\">\n",
       "      <th></th>\n",
       "      <th>Name</th>\n",
       "      <th>Team</th>\n",
       "      <th>Rating</th>\n",
       "    </tr>\n",
       "  </thead>\n",
       "  <tbody>\n",
       "    <tr>\n",
       "      <th>0</th>\n",
       "      <td>Marizanne Kapp</td>\n",
       "      <td>AUS</td>\n",
       "      <td>418</td>\n",
       "    </tr>\n",
       "    <tr>\n",
       "      <th>1</th>\n",
       "      <td>Ellyse Perry</td>\n",
       "      <td>WI</td>\n",
       "      <td>394</td>\n",
       "    </tr>\n",
       "    <tr>\n",
       "      <th>2</th>\n",
       "      <td>Stafanie Taylor</td>\n",
       "      <td>ENG</td>\n",
       "      <td>365</td>\n",
       "    </tr>\n",
       "    <tr>\n",
       "      <th>3</th>\n",
       "      <td>Natalie Sciver</td>\n",
       "      <td>IND</td>\n",
       "      <td>331</td>\n",
       "    </tr>\n",
       "    <tr>\n",
       "      <th>4</th>\n",
       "      <td>Deepti Sharma</td>\n",
       "      <td>AUS</td>\n",
       "      <td>307</td>\n",
       "    </tr>\n",
       "    <tr>\n",
       "      <th>5</th>\n",
       "      <td>Jess Jonassen</td>\n",
       "      <td>AUS</td>\n",
       "      <td>252</td>\n",
       "    </tr>\n",
       "    <tr>\n",
       "      <th>6</th>\n",
       "      <td>Ashleigh Gardner</td>\n",
       "      <td>SA</td>\n",
       "      <td>243</td>\n",
       "    </tr>\n",
       "    <tr>\n",
       "      <th>7</th>\n",
       "      <td>Dane van Niekerk</td>\n",
       "      <td>NZ</td>\n",
       "      <td>242</td>\n",
       "    </tr>\n",
       "    <tr>\n",
       "      <th>8</th>\n",
       "      <td>Sophie Devine</td>\n",
       "      <td>ENG</td>\n",
       "      <td>239</td>\n",
       "    </tr>\n",
       "    <tr>\n",
       "      <th>9</th>\n",
       "      <td>Katherine Brunt</td>\n",
       "      <td>NZ</td>\n",
       "      <td>236</td>\n",
       "    </tr>\n",
       "  </tbody>\n",
       "</table>\n",
       "</div>"
      ],
      "text/plain": [
       "               Name Team Rating\n",
       "0    Marizanne Kapp  AUS    418\n",
       "1      Ellyse Perry   WI    394\n",
       "2   Stafanie Taylor  ENG    365\n",
       "3    Natalie Sciver  IND    331\n",
       "4     Deepti Sharma  AUS    307\n",
       "5     Jess Jonassen  AUS    252\n",
       "6  Ashleigh Gardner   SA    243\n",
       "7  Dane van Niekerk   NZ    242\n",
       "8     Sophie Devine  ENG    239\n",
       "9   Katherine Brunt   NZ    236"
      ]
     },
     "execution_count": 224,
     "metadata": {},
     "output_type": "execute_result"
    }
   ],
   "source": [
    "df=pd.DataFrame({})\n",
    "df['Name']=tit[:10]\n",
    "df['Team']=team[:10]\n",
    "df['Rating']=team_rating[:10]\n",
    "df"
   ]
  },
  {
   "cell_type": "code",
   "execution_count": null,
   "metadata": {},
   "outputs": [],
   "source": [
    "page=requests.get('https://www.icc-cricket.com/rankings/mens/player-rankings/odi/bowling')\n",
    "page"
   ]
  },
  {
   "cell_type": "code",
   "execution_count": null,
   "metadata": {},
   "outputs": [],
   "source": [
    "soup=BeautifulSoup(page.content)"
   ]
  },
  {
   "cell_type": "code",
   "execution_count": null,
   "metadata": {},
   "outputs": [],
   "source": [
    "titles=soup.find_all('td',class_='table-body__cell rankings-table__name name')\n",
    "tit=[]\n",
    "tit.append(soup.find('div',class_='rankings-block__banner--name-large').text.replace('\\n',''))\n",
    "for i in titles:\n",
    "    for j in i.find_all('a'):\n",
    "        tit.append(j.text.replace('\\n',' '))\n",
    "tit[:3]"
   ]
  },
  {
   "cell_type": "code",
   "execution_count": null,
   "metadata": {},
   "outputs": [],
   "source": [
    "rate=soup.find_all('td',class_='table-body__cell rating')\n",
    "team_rating=[]\n",
    "team_rating.append(soup.find('div',class_='rankings-block__banner--rating').text.replace('\\n','').replace(' ',''))\n",
    "for i in rate:\n",
    "    team_rating.append(i.text.replace('\\n','').replace(' ',''))\n",
    "team_rating[:4]"
   ]
  },
  {
   "cell_type": "code",
   "execution_count": null,
   "metadata": {},
   "outputs": [],
   "source": [
    "teamt=soup.find_all('span',class_='table-body__logo-text')\n",
    "team=[]\n",
    "team.append(soup.find('div',class_='rankings-block__banner--nationality').text.replace('\\n','').strip())\n",
    "for i in teamt:\n",
    "    team.append(i.text.replace('\\n',''))\n",
    "team[:6]"
   ]
  },
  {
   "cell_type": "code",
   "execution_count": 223,
   "metadata": {},
   "outputs": [
    {
     "data": {
      "text/html": [
       "<div>\n",
       "<style scoped>\n",
       "    .dataframe tbody tr th:only-of-type {\n",
       "        vertical-align: middle;\n",
       "    }\n",
       "\n",
       "    .dataframe tbody tr th {\n",
       "        vertical-align: top;\n",
       "    }\n",
       "\n",
       "    .dataframe thead th {\n",
       "        text-align: right;\n",
       "    }\n",
       "</style>\n",
       "<table border=\"1\" class=\"dataframe\">\n",
       "  <thead>\n",
       "    <tr style=\"text-align: right;\">\n",
       "      <th></th>\n",
       "      <th>Name</th>\n",
       "      <th>Team</th>\n",
       "      <th>Rating</th>\n",
       "    </tr>\n",
       "  </thead>\n",
       "  <tbody>\n",
       "    <tr>\n",
       "      <th>0</th>\n",
       "      <td>Marizanne Kapp</td>\n",
       "      <td>AUS</td>\n",
       "      <td>418</td>\n",
       "    </tr>\n",
       "    <tr>\n",
       "      <th>1</th>\n",
       "      <td>Ellyse Perry</td>\n",
       "      <td>WI</td>\n",
       "      <td>394</td>\n",
       "    </tr>\n",
       "    <tr>\n",
       "      <th>2</th>\n",
       "      <td>Stafanie Taylor</td>\n",
       "      <td>ENG</td>\n",
       "      <td>365</td>\n",
       "    </tr>\n",
       "    <tr>\n",
       "      <th>3</th>\n",
       "      <td>Natalie Sciver</td>\n",
       "      <td>IND</td>\n",
       "      <td>331</td>\n",
       "    </tr>\n",
       "    <tr>\n",
       "      <th>4</th>\n",
       "      <td>Deepti Sharma</td>\n",
       "      <td>AUS</td>\n",
       "      <td>307</td>\n",
       "    </tr>\n",
       "    <tr>\n",
       "      <th>5</th>\n",
       "      <td>Jess Jonassen</td>\n",
       "      <td>AUS</td>\n",
       "      <td>252</td>\n",
       "    </tr>\n",
       "    <tr>\n",
       "      <th>6</th>\n",
       "      <td>Ashleigh Gardner</td>\n",
       "      <td>SA</td>\n",
       "      <td>243</td>\n",
       "    </tr>\n",
       "    <tr>\n",
       "      <th>7</th>\n",
       "      <td>Dane van Niekerk</td>\n",
       "      <td>NZ</td>\n",
       "      <td>242</td>\n",
       "    </tr>\n",
       "    <tr>\n",
       "      <th>8</th>\n",
       "      <td>Sophie Devine</td>\n",
       "      <td>ENG</td>\n",
       "      <td>239</td>\n",
       "    </tr>\n",
       "    <tr>\n",
       "      <th>9</th>\n",
       "      <td>Katherine Brunt</td>\n",
       "      <td>NZ</td>\n",
       "      <td>236</td>\n",
       "    </tr>\n",
       "  </tbody>\n",
       "</table>\n",
       "</div>"
      ],
      "text/plain": [
       "               Name Team Rating\n",
       "0    Marizanne Kapp  AUS    418\n",
       "1      Ellyse Perry   WI    394\n",
       "2   Stafanie Taylor  ENG    365\n",
       "3    Natalie Sciver  IND    331\n",
       "4     Deepti Sharma  AUS    307\n",
       "5     Jess Jonassen  AUS    252\n",
       "6  Ashleigh Gardner   SA    243\n",
       "7  Dane van Niekerk   NZ    242\n",
       "8     Sophie Devine  ENG    239\n",
       "9   Katherine Brunt   NZ    236"
      ]
     },
     "execution_count": 223,
     "metadata": {},
     "output_type": "execute_result"
    }
   ],
   "source": [
    "df=pd.DataFrame({})\n",
    "df['Name']=tit[:10]\n",
    "df['Team']=team[:10]\n",
    "df['Rating']=team_rating[:10]\n",
    "df"
   ]
  },
  {
   "cell_type": "markdown",
   "metadata": {},
   "source": [
    "# Question 6"
   ]
  },
  {
   "cell_type": "markdown",
   "metadata": {},
   "source": [
    "# Write a python program to scrape cricket rankings from ‘icc-cricket.com’. You have toscrape:\n",
    "i) Top 10 ODI teams in women’s cricket along with the records for matches, points andrating.\n",
    "\n",
    "ii) Top 10 women’s ODI players along with the records of their team and rating.\n",
    "\n",
    "iii) Top 10 women’s ODI all-rounder along with the records of their team andrating.\n"
   ]
  },
  {
   "cell_type": "code",
   "execution_count": null,
   "metadata": {},
   "outputs": [],
   "source": [
    "page=requests.get('https://www.icc-cricket.com/rankings/womens/team-rankings/odi')\n",
    "page"
   ]
  },
  {
   "cell_type": "code",
   "execution_count": null,
   "metadata": {},
   "outputs": [],
   "source": [
    "soup=BeautifulSoup(page.content)\n",
    "soup"
   ]
  },
  {
   "cell_type": "code",
   "execution_count": null,
   "metadata": {},
   "outputs": [],
   "source": [
    "titles=soup.find_all('span',class_='u-hide-phablet')\n",
    "tit=[]\n",
    "for i in titles:\n",
    "    tit.append(i.text.replace('\\n',' '))\n",
    "tit"
   ]
  },
  {
   "cell_type": "code",
   "execution_count": null,
   "metadata": {},
   "outputs": [],
   "source": [
    "team_match=soup.find_all('td',class_='table-body__cell u-center-text')\n",
    "team_matches=[]\n",
    "team_points=[]\n",
    "j=0\n",
    "team_matches.append(soup.find('td',class_='rankings-block__banner--matches').text)\n",
    "team_points.append(soup.find('td',class_='rankings-block__banner--points').text)\n",
    "for i in team_match:\n",
    "    if j==0 or j%2==0:\n",
    "        team_matches.append(i.text.replace('\\n',''))\n",
    "    else:\n",
    "        team_points.append(i.text.replace('\\n',''))\n",
    "    j+=1\n",
    "team_matches"
   ]
  },
  {
   "cell_type": "code",
   "execution_count": null,
   "metadata": {},
   "outputs": [],
   "source": [
    "team_points"
   ]
  },
  {
   "cell_type": "code",
   "execution_count": null,
   "metadata": {},
   "outputs": [],
   "source": [
    "rate=soup.find_all('td',class_='table-body__cell u-text-right rating')\n",
    "team_rating=[]\n",
    "team_rating.append(soup.find('td',class_='rankings-block__banner--rating u-text-right').text.replace('\\n','').replace(' ',''))\n",
    "for i in rate:\n",
    "    team_rating.append(i.text.replace('\\n','').replace(' ',''))\n",
    "team_rating"
   ]
  },
  {
   "cell_type": "code",
   "execution_count": 222,
   "metadata": {},
   "outputs": [
    {
     "data": {
      "text/html": [
       "<div>\n",
       "<style scoped>\n",
       "    .dataframe tbody tr th:only-of-type {\n",
       "        vertical-align: middle;\n",
       "    }\n",
       "\n",
       "    .dataframe tbody tr th {\n",
       "        vertical-align: top;\n",
       "    }\n",
       "\n",
       "    .dataframe thead th {\n",
       "        text-align: right;\n",
       "    }\n",
       "</style>\n",
       "<table border=\"1\" class=\"dataframe\">\n",
       "  <thead>\n",
       "    <tr style=\"text-align: right;\">\n",
       "      <th></th>\n",
       "      <th>Name</th>\n",
       "      <th>Matches</th>\n",
       "      <th>Points</th>\n",
       "      <th>Rating</th>\n",
       "    </tr>\n",
       "  </thead>\n",
       "  <tbody>\n",
       "    <tr>\n",
       "      <th>0</th>\n",
       "      <td>Marizanne Kapp</td>\n",
       "      <td>18</td>\n",
       "      <td>2,955</td>\n",
       "      <td>418</td>\n",
       "    </tr>\n",
       "    <tr>\n",
       "      <th>1</th>\n",
       "      <td>Ellyse Perry</td>\n",
       "      <td>20</td>\n",
       "      <td>2,370</td>\n",
       "      <td>394</td>\n",
       "    </tr>\n",
       "    <tr>\n",
       "      <th>2</th>\n",
       "      <td>Stafanie Taylor</td>\n",
       "      <td>24</td>\n",
       "      <td>2,828</td>\n",
       "      <td>365</td>\n",
       "    </tr>\n",
       "    <tr>\n",
       "      <th>3</th>\n",
       "      <td>Natalie Sciver</td>\n",
       "      <td>23</td>\n",
       "      <td>2,535</td>\n",
       "      <td>331</td>\n",
       "    </tr>\n",
       "    <tr>\n",
       "      <th>4</th>\n",
       "      <td>Deepti Sharma</td>\n",
       "      <td>21</td>\n",
       "      <td>1,947</td>\n",
       "      <td>307</td>\n",
       "    </tr>\n",
       "    <tr>\n",
       "      <th>5</th>\n",
       "      <td>Jess Jonassen</td>\n",
       "      <td>17</td>\n",
       "      <td>1,427</td>\n",
       "      <td>252</td>\n",
       "    </tr>\n",
       "    <tr>\n",
       "      <th>6</th>\n",
       "      <td>Ashleigh Gardner</td>\n",
       "      <td>20</td>\n",
       "      <td>1,496</td>\n",
       "      <td>243</td>\n",
       "    </tr>\n",
       "    <tr>\n",
       "      <th>7</th>\n",
       "      <td>Dane van Niekerk</td>\n",
       "      <td>5</td>\n",
       "      <td>306</td>\n",
       "      <td>242</td>\n",
       "    </tr>\n",
       "    <tr>\n",
       "      <th>8</th>\n",
       "      <td>Sophie Devine</td>\n",
       "      <td>11</td>\n",
       "      <td>519</td>\n",
       "      <td>239</td>\n",
       "    </tr>\n",
       "    <tr>\n",
       "      <th>9</th>\n",
       "      <td>Katherine Brunt</td>\n",
       "      <td>2</td>\n",
       "      <td>25</td>\n",
       "      <td>236</td>\n",
       "    </tr>\n",
       "  </tbody>\n",
       "</table>\n",
       "</div>"
      ],
      "text/plain": [
       "               Name Matches Points Rating\n",
       "0    Marizanne Kapp      18  2,955    418\n",
       "1      Ellyse Perry      20  2,370    394\n",
       "2   Stafanie Taylor      24  2,828    365\n",
       "3    Natalie Sciver      23  2,535    331\n",
       "4     Deepti Sharma      21  1,947    307\n",
       "5     Jess Jonassen      17  1,427    252\n",
       "6  Ashleigh Gardner      20  1,496    243\n",
       "7  Dane van Niekerk       5    306    242\n",
       "8     Sophie Devine      11    519    239\n",
       "9   Katherine Brunt       2     25    236"
      ]
     },
     "execution_count": 222,
     "metadata": {},
     "output_type": "execute_result"
    }
   ],
   "source": [
    "df=pd.DataFrame({})\n",
    "df['Name']=tit[:10]\n",
    "df['Matches']=team_matches[:10]\n",
    "df['Points']=team_points[:10]\n",
    "df['Rating']=team_rating[:10]\n",
    "df"
   ]
  },
  {
   "cell_type": "code",
   "execution_count": null,
   "metadata": {},
   "outputs": [],
   "source": []
  },
  {
   "cell_type": "code",
   "execution_count": null,
   "metadata": {},
   "outputs": [],
   "source": [
    "page=requests.get('https://www.icc-cricket.com/rankings/womens/player-rankings/odi/batting')\n",
    "page"
   ]
  },
  {
   "cell_type": "code",
   "execution_count": null,
   "metadata": {},
   "outputs": [],
   "source": [
    "soup=BeautifulSoup(page.content)"
   ]
  },
  {
   "cell_type": "code",
   "execution_count": null,
   "metadata": {},
   "outputs": [],
   "source": [
    "titles=soup.find_all('td',class_='table-body__cell rankings-table__name name')\n",
    "tit=[]\n",
    "tit.append(soup.find('div',class_='rankings-block__banner--name-large').text.replace('\\n',''))\n",
    "for i in titles:\n",
    "    for j in i.find_all('a'):\n",
    "        tit.append(j.text.replace('\\n',' '))\n",
    "tit[:3]"
   ]
  },
  {
   "cell_type": "code",
   "execution_count": null,
   "metadata": {},
   "outputs": [],
   "source": [
    "teamt=soup.find_all('span',class_='table-body__logo-text')\n",
    "team=[]\n",
    "team.append(soup.find('div',class_='rankings-block__banner--nationality').text.replace('\\n','').strip())\n",
    "for i in teamt:\n",
    "    team.append(i.text.replace('\\n',''))\n",
    "team"
   ]
  },
  {
   "cell_type": "code",
   "execution_count": null,
   "metadata": {},
   "outputs": [],
   "source": [
    "rate=soup.find_all('td',class_='table-body__cell rating')\n",
    "team_rating=[]\n",
    "team_rating.append(soup.find('div',class_='rankings-block__banner--rating').text.replace('\\n','').replace(' ',''))\n",
    "for i in rate:\n",
    "    team_rating.append(i.text.replace('\\n','').replace(' ',''))\n",
    "team_rating"
   ]
  },
  {
   "cell_type": "code",
   "execution_count": 221,
   "metadata": {},
   "outputs": [
    {
     "data": {
      "text/html": [
       "<div>\n",
       "<style scoped>\n",
       "    .dataframe tbody tr th:only-of-type {\n",
       "        vertical-align: middle;\n",
       "    }\n",
       "\n",
       "    .dataframe tbody tr th {\n",
       "        vertical-align: top;\n",
       "    }\n",
       "\n",
       "    .dataframe thead th {\n",
       "        text-align: right;\n",
       "    }\n",
       "</style>\n",
       "<table border=\"1\" class=\"dataframe\">\n",
       "  <thead>\n",
       "    <tr style=\"text-align: right;\">\n",
       "      <th></th>\n",
       "      <th>Name</th>\n",
       "      <th>Team</th>\n",
       "      <th>Rating</th>\n",
       "    </tr>\n",
       "  </thead>\n",
       "  <tbody>\n",
       "    <tr>\n",
       "      <th>0</th>\n",
       "      <td>Marizanne Kapp</td>\n",
       "      <td>AUS</td>\n",
       "      <td>418</td>\n",
       "    </tr>\n",
       "    <tr>\n",
       "      <th>1</th>\n",
       "      <td>Ellyse Perry</td>\n",
       "      <td>WI</td>\n",
       "      <td>394</td>\n",
       "    </tr>\n",
       "    <tr>\n",
       "      <th>2</th>\n",
       "      <td>Stafanie Taylor</td>\n",
       "      <td>ENG</td>\n",
       "      <td>365</td>\n",
       "    </tr>\n",
       "    <tr>\n",
       "      <th>3</th>\n",
       "      <td>Natalie Sciver</td>\n",
       "      <td>IND</td>\n",
       "      <td>331</td>\n",
       "    </tr>\n",
       "    <tr>\n",
       "      <th>4</th>\n",
       "      <td>Deepti Sharma</td>\n",
       "      <td>AUS</td>\n",
       "      <td>307</td>\n",
       "    </tr>\n",
       "    <tr>\n",
       "      <th>5</th>\n",
       "      <td>Jess Jonassen</td>\n",
       "      <td>AUS</td>\n",
       "      <td>252</td>\n",
       "    </tr>\n",
       "    <tr>\n",
       "      <th>6</th>\n",
       "      <td>Ashleigh Gardner</td>\n",
       "      <td>SA</td>\n",
       "      <td>243</td>\n",
       "    </tr>\n",
       "    <tr>\n",
       "      <th>7</th>\n",
       "      <td>Dane van Niekerk</td>\n",
       "      <td>NZ</td>\n",
       "      <td>242</td>\n",
       "    </tr>\n",
       "    <tr>\n",
       "      <th>8</th>\n",
       "      <td>Sophie Devine</td>\n",
       "      <td>ENG</td>\n",
       "      <td>239</td>\n",
       "    </tr>\n",
       "    <tr>\n",
       "      <th>9</th>\n",
       "      <td>Katherine Brunt</td>\n",
       "      <td>NZ</td>\n",
       "      <td>236</td>\n",
       "    </tr>\n",
       "  </tbody>\n",
       "</table>\n",
       "</div>"
      ],
      "text/plain": [
       "               Name Team Rating\n",
       "0    Marizanne Kapp  AUS    418\n",
       "1      Ellyse Perry   WI    394\n",
       "2   Stafanie Taylor  ENG    365\n",
       "3    Natalie Sciver  IND    331\n",
       "4     Deepti Sharma  AUS    307\n",
       "5     Jess Jonassen  AUS    252\n",
       "6  Ashleigh Gardner   SA    243\n",
       "7  Dane van Niekerk   NZ    242\n",
       "8     Sophie Devine  ENG    239\n",
       "9   Katherine Brunt   NZ    236"
      ]
     },
     "execution_count": 221,
     "metadata": {},
     "output_type": "execute_result"
    }
   ],
   "source": [
    "df=pd.DataFrame({})\n",
    "df['Name']=tit[:10]\n",
    "df['Team']=team[:10]\n",
    "df['Rating']=team_rating[:10]\n",
    "df"
   ]
  },
  {
   "cell_type": "code",
   "execution_count": null,
   "metadata": {},
   "outputs": [],
   "source": []
  },
  {
   "cell_type": "code",
   "execution_count": null,
   "metadata": {},
   "outputs": [],
   "source": [
    "page=requests.get('https://www.icc-cricket.com/rankings/womens/player-rankings/odi/all-rounder')\n",
    "page"
   ]
  },
  {
   "cell_type": "code",
   "execution_count": null,
   "metadata": {},
   "outputs": [],
   "source": [
    "soup=BeautifulSoup(page.content)"
   ]
  },
  {
   "cell_type": "code",
   "execution_count": null,
   "metadata": {},
   "outputs": [],
   "source": [
    "titles=soup.find_all('td',class_='table-body__cell rankings-table__name name')\n",
    "tit=[]\n",
    "tit.append(soup.find('div',class_='rankings-block__banner--name-large').text.replace('\\n',''))\n",
    "for i in titles:\n",
    "    for j in i.find_all('a'):\n",
    "        tit.append(j.text.replace('\\n',' '))\n",
    "tit"
   ]
  },
  {
   "cell_type": "code",
   "execution_count": null,
   "metadata": {},
   "outputs": [],
   "source": [
    "rate=soup.find_all('td',class_='table-body__cell rating')\n",
    "team_rating=[]\n",
    "for i in rate:\n",
    "    team_rating.append(i.text.replace('\\n','').replace(' ',''))\n",
    "team_rating"
   ]
  },
  {
   "cell_type": "code",
   "execution_count": null,
   "metadata": {},
   "outputs": [],
   "source": [
    "teamt=soup.find_all('span',class_='table-body__logo-text')\n",
    "team=[]\n",
    "for i in teamt:\n",
    "    team.append(i.text.replace('\\n',''))\n",
    "team"
   ]
  },
  {
   "cell_type": "code",
   "execution_count": 220,
   "metadata": {},
   "outputs": [
    {
     "data": {
      "text/html": [
       "<div>\n",
       "<style scoped>\n",
       "    .dataframe tbody tr th:only-of-type {\n",
       "        vertical-align: middle;\n",
       "    }\n",
       "\n",
       "    .dataframe tbody tr th {\n",
       "        vertical-align: top;\n",
       "    }\n",
       "\n",
       "    .dataframe thead th {\n",
       "        text-align: right;\n",
       "    }\n",
       "</style>\n",
       "<table border=\"1\" class=\"dataframe\">\n",
       "  <thead>\n",
       "    <tr style=\"text-align: right;\">\n",
       "      <th></th>\n",
       "      <th>Name</th>\n",
       "      <th>Team</th>\n",
       "      <th>Rating</th>\n",
       "    </tr>\n",
       "  </thead>\n",
       "  <tbody>\n",
       "    <tr>\n",
       "      <th>0</th>\n",
       "      <td>Marizanne Kapp</td>\n",
       "      <td>AUS</td>\n",
       "      <td>418</td>\n",
       "    </tr>\n",
       "    <tr>\n",
       "      <th>1</th>\n",
       "      <td>Ellyse Perry</td>\n",
       "      <td>WI</td>\n",
       "      <td>394</td>\n",
       "    </tr>\n",
       "    <tr>\n",
       "      <th>2</th>\n",
       "      <td>Stafanie Taylor</td>\n",
       "      <td>ENG</td>\n",
       "      <td>365</td>\n",
       "    </tr>\n",
       "    <tr>\n",
       "      <th>3</th>\n",
       "      <td>Natalie Sciver</td>\n",
       "      <td>IND</td>\n",
       "      <td>331</td>\n",
       "    </tr>\n",
       "    <tr>\n",
       "      <th>4</th>\n",
       "      <td>Deepti Sharma</td>\n",
       "      <td>AUS</td>\n",
       "      <td>307</td>\n",
       "    </tr>\n",
       "    <tr>\n",
       "      <th>5</th>\n",
       "      <td>Jess Jonassen</td>\n",
       "      <td>AUS</td>\n",
       "      <td>252</td>\n",
       "    </tr>\n",
       "    <tr>\n",
       "      <th>6</th>\n",
       "      <td>Ashleigh Gardner</td>\n",
       "      <td>SA</td>\n",
       "      <td>243</td>\n",
       "    </tr>\n",
       "    <tr>\n",
       "      <th>7</th>\n",
       "      <td>Dane van Niekerk</td>\n",
       "      <td>NZ</td>\n",
       "      <td>242</td>\n",
       "    </tr>\n",
       "    <tr>\n",
       "      <th>8</th>\n",
       "      <td>Sophie Devine</td>\n",
       "      <td>ENG</td>\n",
       "      <td>239</td>\n",
       "    </tr>\n",
       "    <tr>\n",
       "      <th>9</th>\n",
       "      <td>Katherine Brunt</td>\n",
       "      <td>NZ</td>\n",
       "      <td>236</td>\n",
       "    </tr>\n",
       "  </tbody>\n",
       "</table>\n",
       "</div>"
      ],
      "text/plain": [
       "               Name Team Rating\n",
       "0    Marizanne Kapp  AUS    418\n",
       "1      Ellyse Perry   WI    394\n",
       "2   Stafanie Taylor  ENG    365\n",
       "3    Natalie Sciver  IND    331\n",
       "4     Deepti Sharma  AUS    307\n",
       "5     Jess Jonassen  AUS    252\n",
       "6  Ashleigh Gardner   SA    243\n",
       "7  Dane van Niekerk   NZ    242\n",
       "8     Sophie Devine  ENG    239\n",
       "9   Katherine Brunt   NZ    236"
      ]
     },
     "execution_count": 220,
     "metadata": {},
     "output_type": "execute_result"
    }
   ],
   "source": [
    "df=pd.DataFrame({})\n",
    "df['Name']=tit[:10]\n",
    "df['Team']=team[:10]\n",
    "df['Rating']=team_rating[:10]\n",
    "df"
   ]
  },
  {
   "cell_type": "code",
   "execution_count": null,
   "metadata": {},
   "outputs": [],
   "source": []
  },
  {
   "cell_type": "markdown",
   "metadata": {},
   "source": [
    "# Question 7"
   ]
  },
  {
   "cell_type": "markdown",
   "metadata": {},
   "source": [
    "# Write a python program to scrape details of all the mobile phones under Rs. 20,000 listed on Amazon.in. The scraped data should include Product Name, Price, Image URL and Average Rating."
   ]
  },
  {
   "cell_type": "code",
   "execution_count": 262,
   "metadata": {
    "scrolled": true
   },
   "outputs": [
    {
     "data": {
      "text/plain": [
       "<Response [200]>"
      ]
     },
     "execution_count": 262,
     "metadata": {},
     "output_type": "execute_result"
    }
   ],
   "source": [
    "headers = {'User-Agent': 'Mozilla/5.0 (Windows NT 6.1) AppleWebKit/537.36 (KHTML, like Gecko) Chrome/41.0.2228.0 Safari/537.36'}\n",
    "page=requests.get('https://www.amazon.in/s?i=electronics&bbn=1389432031&rh=n%3A1389432031%2Cp_36%3A-2000000&dc&qid=1627338005&rnid=1318502031&ref=sr_nr_p_36_1',headers=headers)\n",
    "page"
   ]
  },
  {
   "cell_type": "code",
   "execution_count": null,
   "metadata": {
    "scrolled": true
   },
   "outputs": [],
   "source": [
    "soup=BeautifulSoup(page.content)\n",
    "soup"
   ]
  },
  {
   "cell_type": "code",
   "execution_count": null,
   "metadata": {},
   "outputs": [],
   "source": [
    "product=soup.find_all('span',class_='a-size-base-plus a-color-base a-text-normal')\n",
    "product"
   ]
  },
  {
   "cell_type": "code",
   "execution_count": null,
   "metadata": {
    "scrolled": true
   },
   "outputs": [],
   "source": [
    "name=[]\n",
    "for i in product:\n",
    "    name.append(i.text.replace('\\n',''))\n",
    "name=name[:23]\n",
    "name"
   ]
  },
  {
   "cell_type": "code",
   "execution_count": null,
   "metadata": {},
   "outputs": [],
   "source": [
    "money=soup.find_all('span',class_='a-price-whole')\n",
    "money"
   ]
  },
  {
   "cell_type": "code",
   "execution_count": null,
   "metadata": {},
   "outputs": [],
   "source": [
    "price=[]\n",
    "for i in money:\n",
    "    price.append(i.text)\n",
    "    \n",
    "price=price[:23]\n",
    "price"
   ]
  },
  {
   "cell_type": "code",
   "execution_count": 268,
   "metadata": {},
   "outputs": [],
   "source": [
    "rat=soup.find_all('span',class_='a-icon-alt')"
   ]
  },
  {
   "cell_type": "code",
   "execution_count": null,
   "metadata": {},
   "outputs": [],
   "source": [
    "rate=[]\n",
    "for i in rat:\n",
    "    rate.append(i.text)\n",
    "rate=rate[:23]\n",
    "rate"
   ]
  },
  {
   "cell_type": "code",
   "execution_count": null,
   "metadata": {},
   "outputs": [],
   "source": [
    "img= soup.find_all('img',class_='s-image')\n",
    "img"
   ]
  },
  {
   "cell_type": "code",
   "execution_count": null,
   "metadata": {},
   "outputs": [],
   "source": [
    "url=[]\n",
    "for i in img:\n",
    "    url.append(i['src'])\n",
    "url=url[:23]\n",
    "url"
   ]
  },
  {
   "cell_type": "code",
   "execution_count": 272,
   "metadata": {
    "scrolled": true
   },
   "outputs": [
    {
     "data": {
      "text/html": [
       "<div>\n",
       "<style scoped>\n",
       "    .dataframe tbody tr th:only-of-type {\n",
       "        vertical-align: middle;\n",
       "    }\n",
       "\n",
       "    .dataframe tbody tr th {\n",
       "        vertical-align: top;\n",
       "    }\n",
       "\n",
       "    .dataframe thead th {\n",
       "        text-align: right;\n",
       "    }\n",
       "</style>\n",
       "<table border=\"1\" class=\"dataframe\">\n",
       "  <thead>\n",
       "    <tr style=\"text-align: right;\">\n",
       "      <th></th>\n",
       "      <th>Product Name</th>\n",
       "      <th>Price(in RS)</th>\n",
       "      <th>image url</th>\n",
       "      <th>Rating</th>\n",
       "    </tr>\n",
       "  </thead>\n",
       "  <tbody>\n",
       "    <tr>\n",
       "      <th>0</th>\n",
       "      <td>I KALL K380 Smartphone (7.12 Inch, 4GB, 32GB) ...</td>\n",
       "      <td>6,299</td>\n",
       "      <td>https://m.media-amazon.com/images/I/615BsxGw6Z...</td>\n",
       "      <td>2.4 out of 5 stars</td>\n",
       "    </tr>\n",
       "    <tr>\n",
       "      <th>1</th>\n",
       "      <td>C2-01 by HMD-N O K I A with 3.15 MP Camera, RD...</td>\n",
       "      <td>2,499</td>\n",
       "      <td>https://m.media-amazon.com/images/I/31lk3nIoAl...</td>\n",
       "      <td>1.0 out of 5 stars</td>\n",
       "    </tr>\n",
       "    <tr>\n",
       "      <th>2</th>\n",
       "      <td>C3 by HMD-N O K I A with 2 Mega Pixel Camera, ...</td>\n",
       "      <td>4,499</td>\n",
       "      <td>https://m.media-amazon.com/images/I/41zQBIv+k3...</td>\n",
       "      <td>4.2 out of 5 stars</td>\n",
       "    </tr>\n",
       "    <tr>\n",
       "      <th>3</th>\n",
       "      <td>Redmi 9 Power (Mighty Black 4GB RAM 64GB Stora...</td>\n",
       "      <td>10,999</td>\n",
       "      <td>https://m.media-amazon.com/images/I/71hEzQGO5q...</td>\n",
       "      <td>4.3 out of 5 stars</td>\n",
       "    </tr>\n",
       "    <tr>\n",
       "      <th>4</th>\n",
       "      <td>Samsung Galaxy M31 (Ocean Blue, 6GB RAM, 128GB...</td>\n",
       "      <td>14,999</td>\n",
       "      <td>https://m.media-amazon.com/images/I/71-Su4Wr0H...</td>\n",
       "      <td>4.1 out of 5 stars</td>\n",
       "    </tr>\n",
       "    <tr>\n",
       "      <th>5</th>\n",
       "      <td>Redmi Note 10 (Aqua Green, 4GB RAM, 64GB Stora...</td>\n",
       "      <td>13,499</td>\n",
       "      <td>https://m.media-amazon.com/images/I/810GQ7CWdD...</td>\n",
       "      <td>4.2 out of 5 stars</td>\n",
       "    </tr>\n",
       "    <tr>\n",
       "      <th>6</th>\n",
       "      <td>Redmi 9A (Nature Green, 2GB RAM, 32GB Storage)...</td>\n",
       "      <td>6,999</td>\n",
       "      <td>https://m.media-amazon.com/images/I/71sxlhYhKW...</td>\n",
       "      <td>4.1 out of 5 stars</td>\n",
       "    </tr>\n",
       "    <tr>\n",
       "      <th>7</th>\n",
       "      <td>Redmi Note 10S (Cosmic Purple, 6GB RAM, 128GB ...</td>\n",
       "      <td>15,999</td>\n",
       "      <td>https://m.media-amazon.com/images/I/81sZamLSPW...</td>\n",
       "      <td>4.2 out of 5 stars</td>\n",
       "    </tr>\n",
       "    <tr>\n",
       "      <th>8</th>\n",
       "      <td>Redmi 9A (Midnight Black, 2GB RAM, 32GB Storag...</td>\n",
       "      <td>6,999</td>\n",
       "      <td>https://m.media-amazon.com/images/I/71sxlhYhKW...</td>\n",
       "      <td>4.3 out of 5 stars</td>\n",
       "    </tr>\n",
       "    <tr>\n",
       "      <th>9</th>\n",
       "      <td>Samsung Galaxy M31 (Space Black, 6GB RAM, 128G...</td>\n",
       "      <td>14,999</td>\n",
       "      <td>https://m.media-amazon.com/images/I/71OxJeyywS...</td>\n",
       "      <td>4.1 out of 5 stars</td>\n",
       "    </tr>\n",
       "    <tr>\n",
       "      <th>10</th>\n",
       "      <td>realme C11 (2021) (Cool Blue, 2GB RAM, 32GB St...</td>\n",
       "      <td>6,999</td>\n",
       "      <td>https://m.media-amazon.com/images/I/71FYSKYFup...</td>\n",
       "      <td>4.2 out of 5 stars</td>\n",
       "    </tr>\n",
       "    <tr>\n",
       "      <th>11</th>\n",
       "      <td>Redmi 9 Power (Blazing Blue, 4GB RAM, 64GB Sto...</td>\n",
       "      <td>10,999</td>\n",
       "      <td>https://m.media-amazon.com/images/I/71hEzQGO5q...</td>\n",
       "      <td>2.0 out of 5 stars</td>\n",
       "    </tr>\n",
       "    <tr>\n",
       "      <th>12</th>\n",
       "      <td>UltraProlink USB Type C to Ethernet + Hub MP420</td>\n",
       "      <td>2,599</td>\n",
       "      <td>https://m.media-amazon.com/images/I/31CrDg9wJ4...</td>\n",
       "      <td>4.2 out of 5 stars</td>\n",
       "    </tr>\n",
       "    <tr>\n",
       "      <th>13</th>\n",
       "      <td>2700 Classic by Original HMD-N o k i a with 2 ...</td>\n",
       "      <td>2,699</td>\n",
       "      <td>https://m.media-amazon.com/images/I/31xaGrdNjW...</td>\n",
       "      <td>4.1 out of 5 stars</td>\n",
       "    </tr>\n",
       "    <tr>\n",
       "      <th>14</th>\n",
       "      <td>X2-02 by Original HMD-N O K I A with 2 Mega Pi...</td>\n",
       "      <td>3,199</td>\n",
       "      <td>https://m.media-amazon.com/images/I/31WqP5gSSX...</td>\n",
       "      <td>4.2 out of 5 stars</td>\n",
       "    </tr>\n",
       "    <tr>\n",
       "      <th>15</th>\n",
       "      <td>Redmi 9 (Carbon Black, 4GB RAM, 64GB Storage) ...</td>\n",
       "      <td>13,499</td>\n",
       "      <td>https://m.media-amazon.com/images/I/716nHhG9SW...</td>\n",
       "      <td>4.1 out of 5 stars</td>\n",
       "    </tr>\n",
       "    <tr>\n",
       "      <th>16</th>\n",
       "      <td>Redmi Note 10 (Shadow Black, 4GB RAM, 64GB Sto...</td>\n",
       "      <td>17,999</td>\n",
       "      <td>https://m.media-amazon.com/images/I/81vixbGM2E...</td>\n",
       "      <td>4.2 out of 5 stars</td>\n",
       "    </tr>\n",
       "    <tr>\n",
       "      <th>17</th>\n",
       "      <td>Redmi Note 10 Pro (Dark Night, 6GB RAM, 128GB ...</td>\n",
       "      <td>6,999</td>\n",
       "      <td>https://m.media-amazon.com/images/I/81S-XYJlzT...</td>\n",
       "      <td>4.2 out of 5 stars</td>\n",
       "    </tr>\n",
       "    <tr>\n",
       "      <th>18</th>\n",
       "      <td>realme C11 (2021) (Cool Grey, 2GB RAM, 32GB St...</td>\n",
       "      <td>6,999</td>\n",
       "      <td>https://m.media-amazon.com/images/I/618UBhFmaQ...</td>\n",
       "      <td>4.2 out of 5 stars</td>\n",
       "    </tr>\n",
       "    <tr>\n",
       "      <th>19</th>\n",
       "      <td>Redmi 9A (Sea Blue 2GB RAM 32GB Storage) | 2GH...</td>\n",
       "      <td>12,499</td>\n",
       "      <td>https://m.media-amazon.com/images/I/71sxlhYhKW...</td>\n",
       "      <td>4.2 out of 5 stars</td>\n",
       "    </tr>\n",
       "    <tr>\n",
       "      <th>20</th>\n",
       "      <td>Samsung Galaxy M21 2021 Edition (Arctic Blue, ...</td>\n",
       "      <td>17,999</td>\n",
       "      <td>https://m.media-amazon.com/images/I/811lrGbXwI...</td>\n",
       "      <td>4.2 out of 5 stars</td>\n",
       "    </tr>\n",
       "    <tr>\n",
       "      <th>21</th>\n",
       "      <td>Redmi Note 10 Pro (Glacial Blue, 6GB RAM, 128G...</td>\n",
       "      <td>12,499</td>\n",
       "      <td>https://m.media-amazon.com/images/I/81nndQAg2n...</td>\n",
       "      <td>4.1 out of 5 stars</td>\n",
       "    </tr>\n",
       "    <tr>\n",
       "      <th>22</th>\n",
       "      <td>Samsung Galaxy M21 2021 Edition (Charcoal Blac...</td>\n",
       "      <td>7,999</td>\n",
       "      <td>https://m.media-amazon.com/images/I/712+A5mH44...</td>\n",
       "      <td>4.2 out of 5 stars</td>\n",
       "    </tr>\n",
       "  </tbody>\n",
       "</table>\n",
       "</div>"
      ],
      "text/plain": [
       "                                         Product Name Price(in RS)  \\\n",
       "0   I KALL K380 Smartphone (7.12 Inch, 4GB, 32GB) ...        6,299   \n",
       "1   C2-01 by HMD-N O K I A with 3.15 MP Camera, RD...        2,499   \n",
       "2   C3 by HMD-N O K I A with 2 Mega Pixel Camera, ...        4,499   \n",
       "3   Redmi 9 Power (Mighty Black 4GB RAM 64GB Stora...       10,999   \n",
       "4   Samsung Galaxy M31 (Ocean Blue, 6GB RAM, 128GB...       14,999   \n",
       "5   Redmi Note 10 (Aqua Green, 4GB RAM, 64GB Stora...       13,499   \n",
       "6   Redmi 9A (Nature Green, 2GB RAM, 32GB Storage)...        6,999   \n",
       "7   Redmi Note 10S (Cosmic Purple, 6GB RAM, 128GB ...       15,999   \n",
       "8   Redmi 9A (Midnight Black, 2GB RAM, 32GB Storag...        6,999   \n",
       "9   Samsung Galaxy M31 (Space Black, 6GB RAM, 128G...       14,999   \n",
       "10  realme C11 (2021) (Cool Blue, 2GB RAM, 32GB St...        6,999   \n",
       "11  Redmi 9 Power (Blazing Blue, 4GB RAM, 64GB Sto...       10,999   \n",
       "12    UltraProlink USB Type C to Ethernet + Hub MP420        2,599   \n",
       "13  2700 Classic by Original HMD-N o k i a with 2 ...        2,699   \n",
       "14  X2-02 by Original HMD-N O K I A with 2 Mega Pi...        3,199   \n",
       "15  Redmi 9 (Carbon Black, 4GB RAM, 64GB Storage) ...       13,499   \n",
       "16  Redmi Note 10 (Shadow Black, 4GB RAM, 64GB Sto...       17,999   \n",
       "17  Redmi Note 10 Pro (Dark Night, 6GB RAM, 128GB ...        6,999   \n",
       "18  realme C11 (2021) (Cool Grey, 2GB RAM, 32GB St...        6,999   \n",
       "19  Redmi 9A (Sea Blue 2GB RAM 32GB Storage) | 2GH...       12,499   \n",
       "20  Samsung Galaxy M21 2021 Edition (Arctic Blue, ...       17,999   \n",
       "21  Redmi Note 10 Pro (Glacial Blue, 6GB RAM, 128G...       12,499   \n",
       "22  Samsung Galaxy M21 2021 Edition (Charcoal Blac...        7,999   \n",
       "\n",
       "                                            image url              Rating  \n",
       "0   https://m.media-amazon.com/images/I/615BsxGw6Z...  2.4 out of 5 stars  \n",
       "1   https://m.media-amazon.com/images/I/31lk3nIoAl...  1.0 out of 5 stars  \n",
       "2   https://m.media-amazon.com/images/I/41zQBIv+k3...  4.2 out of 5 stars  \n",
       "3   https://m.media-amazon.com/images/I/71hEzQGO5q...  4.3 out of 5 stars  \n",
       "4   https://m.media-amazon.com/images/I/71-Su4Wr0H...  4.1 out of 5 stars  \n",
       "5   https://m.media-amazon.com/images/I/810GQ7CWdD...  4.2 out of 5 stars  \n",
       "6   https://m.media-amazon.com/images/I/71sxlhYhKW...  4.1 out of 5 stars  \n",
       "7   https://m.media-amazon.com/images/I/81sZamLSPW...  4.2 out of 5 stars  \n",
       "8   https://m.media-amazon.com/images/I/71sxlhYhKW...  4.3 out of 5 stars  \n",
       "9   https://m.media-amazon.com/images/I/71OxJeyywS...  4.1 out of 5 stars  \n",
       "10  https://m.media-amazon.com/images/I/71FYSKYFup...  4.2 out of 5 stars  \n",
       "11  https://m.media-amazon.com/images/I/71hEzQGO5q...  2.0 out of 5 stars  \n",
       "12  https://m.media-amazon.com/images/I/31CrDg9wJ4...  4.2 out of 5 stars  \n",
       "13  https://m.media-amazon.com/images/I/31xaGrdNjW...  4.1 out of 5 stars  \n",
       "14  https://m.media-amazon.com/images/I/31WqP5gSSX...  4.2 out of 5 stars  \n",
       "15  https://m.media-amazon.com/images/I/716nHhG9SW...  4.1 out of 5 stars  \n",
       "16  https://m.media-amazon.com/images/I/81vixbGM2E...  4.2 out of 5 stars  \n",
       "17  https://m.media-amazon.com/images/I/81S-XYJlzT...  4.2 out of 5 stars  \n",
       "18  https://m.media-amazon.com/images/I/618UBhFmaQ...  4.2 out of 5 stars  \n",
       "19  https://m.media-amazon.com/images/I/71sxlhYhKW...  4.2 out of 5 stars  \n",
       "20  https://m.media-amazon.com/images/I/811lrGbXwI...  4.2 out of 5 stars  \n",
       "21  https://m.media-amazon.com/images/I/81nndQAg2n...  4.1 out of 5 stars  \n",
       "22  https://m.media-amazon.com/images/I/712+A5mH44...  4.2 out of 5 stars  "
      ]
     },
     "execution_count": 272,
     "metadata": {},
     "output_type": "execute_result"
    }
   ],
   "source": [
    "df=pd.DataFrame({})\n",
    "df['Product Name']=name\n",
    "df['Price(in RS)']=price\n",
    "df['image url']=url\n",
    "df['Rating']=rate\n",
    "df"
   ]
  },
  {
   "cell_type": "code",
   "execution_count": null,
   "metadata": {},
   "outputs": [],
   "source": []
  },
  {
   "cell_type": "markdown",
   "metadata": {},
   "source": [
    "# Question 8"
   ]
  },
  {
   "cell_type": "markdown",
   "metadata": {},
   "source": [
    "# Write a python program to extract information about the local weather from the National Weather Service website of USA, https://www.weather.gov/ for the city, San Francisco. You need to extract data about 7 day extended forecast display for the city. The data should include period, short description, temperature and description."
   ]
  },
  {
   "cell_type": "code",
   "execution_count": 274,
   "metadata": {},
   "outputs": [
    {
     "data": {
      "text/plain": [
       "<Response [200]>"
      ]
     },
     "execution_count": 274,
     "metadata": {},
     "output_type": "execute_result"
    }
   ],
   "source": [
    "page=requests.get('https://forecast.weather.gov/MapClick.php?lat=37.777120000000025&lon=-122.41963999999996#.YR4uwo4zaUk')\n",
    "page"
   ]
  },
  {
   "cell_type": "code",
   "execution_count": 275,
   "metadata": {},
   "outputs": [],
   "source": [
    "soup=BeautifulSoup(page.content)"
   ]
  },
  {
   "cell_type": "code",
   "execution_count": 276,
   "metadata": {},
   "outputs": [
    {
     "data": {
      "text/plain": [
       "['Tonight',\n",
       " 'Saturday',\n",
       " 'SaturdayNight',\n",
       " 'Sunday',\n",
       " 'SundayNight',\n",
       " 'Monday',\n",
       " 'MondayNight',\n",
       " 'Tuesday',\n",
       " 'TuesdayNight']"
      ]
     },
     "execution_count": 276,
     "metadata": {},
     "output_type": "execute_result"
    }
   ],
   "source": [
    "titles=soup.find_all('p',class_='period-name')\n",
    "tit=[]\n",
    "for i in titles:\n",
    "    tit.append(i.text.replace('\\n',' '))\n",
    "tit"
   ]
  },
  {
   "cell_type": "code",
   "execution_count": 277,
   "metadata": {},
   "outputs": [
    {
     "data": {
      "text/plain": [
       "['Mostly Cloudy',\n",
       " 'Mostly Cloudythen MostlySunny andBreezy',\n",
       " 'Mostly Cloudy',\n",
       " 'GradualClearing',\n",
       " 'Partly Cloudy',\n",
       " 'Mostly Sunny',\n",
       " 'Partly Cloudy',\n",
       " 'Mostly Sunny',\n",
       " 'Partly Cloudy']"
      ]
     },
     "execution_count": 277,
     "metadata": {},
     "output_type": "execute_result"
    }
   ],
   "source": [
    "short=soup.find_all('p',class_='short-desc')\n",
    "desc=[]\n",
    "for i in short:\n",
    "    desc.append(i.text.replace('\\n',''))\n",
    "desc"
   ]
  },
  {
   "cell_type": "code",
   "execution_count": 278,
   "metadata": {},
   "outputs": [
    {
     "data": {
      "text/plain": [
       "['Low: 56 °F',\n",
       " 'High: 64 °F',\n",
       " 'Low: 55 °F',\n",
       " 'High: 65 °F',\n",
       " 'Low: 54 °F',\n",
       " 'High: 65 °F',\n",
       " 'Low: 54 °F',\n",
       " 'High: 66 °F',\n",
       " 'Low: 54 °F']"
      ]
     },
     "execution_count": 278,
     "metadata": {},
     "output_type": "execute_result"
    }
   ],
   "source": [
    "tempy=soup.find_all('p')\n",
    "temp=[]\n",
    "for i in tempy:\n",
    "    temp.append(i.text.replace('\\n',' '))\n",
    "temp=temp[11::4]\n",
    "temp"
   ]
  },
  {
   "cell_type": "code",
   "execution_count": 279,
   "metadata": {},
   "outputs": [
    {
     "data": {
      "text/plain": [
       "['Mostly cloudy, with a low around 56. Southwest wind 13 to 15 mph, with gusts as high as 20 mph. ',\n",
       " 'Cloudy through mid morning, then gradual clearing, with a high near 64. Breezy, with a southwest wind 14 to 24 mph, with gusts as high as 31 mph. ',\n",
       " 'Mostly cloudy, with a low around 55. Southwest wind 13 to 20 mph, with gusts as high as 26 mph. ',\n",
       " 'Cloudy through mid morning, then gradual clearing, with a high near 65. Southwest wind 11 to 18 mph, with gusts as high as 24 mph. ',\n",
       " 'Partly cloudy, with a low around 54. West southwest wind 11 to 18 mph, with gusts as high as 24 mph. ',\n",
       " 'Mostly sunny, with a high near 65.',\n",
       " 'Partly cloudy, with a low around 54.',\n",
       " 'Mostly sunny, with a high near 66.',\n",
       " 'Partly cloudy, with a low around 54.']"
      ]
     },
     "execution_count": 279,
     "metadata": {},
     "output_type": "execute_result"
    }
   ],
   "source": [
    "long=soup.find_all('div',class_='col-sm-10 forecast-text')\n",
    "descr=[]\n",
    "for i in long:\n",
    "    descr.append(i.text.replace('\\n',''))\n",
    "descr=descr[:9]\n",
    "descr"
   ]
  },
  {
   "cell_type": "code",
   "execution_count": null,
   "metadata": {},
   "outputs": [],
   "source": [
    "len(descr)"
   ]
  },
  {
   "cell_type": "code",
   "execution_count": 281,
   "metadata": {},
   "outputs": [
    {
     "data": {
      "text/html": [
       "<div>\n",
       "<style scoped>\n",
       "    .dataframe tbody tr th:only-of-type {\n",
       "        vertical-align: middle;\n",
       "    }\n",
       "\n",
       "    .dataframe tbody tr th {\n",
       "        vertical-align: top;\n",
       "    }\n",
       "\n",
       "    .dataframe thead th {\n",
       "        text-align: right;\n",
       "    }\n",
       "</style>\n",
       "<table border=\"1\" class=\"dataframe\">\n",
       "  <thead>\n",
       "    <tr style=\"text-align: right;\">\n",
       "      <th></th>\n",
       "      <th>Day</th>\n",
       "      <th>Short Description</th>\n",
       "      <th>Temperature</th>\n",
       "      <th>Detailed</th>\n",
       "    </tr>\n",
       "  </thead>\n",
       "  <tbody>\n",
       "    <tr>\n",
       "      <th>0</th>\n",
       "      <td>Tonight</td>\n",
       "      <td>Mostly Cloudy</td>\n",
       "      <td>Low: 56 °F</td>\n",
       "      <td>Mostly cloudy, with a low around 56. Southwest...</td>\n",
       "    </tr>\n",
       "    <tr>\n",
       "      <th>1</th>\n",
       "      <td>Saturday</td>\n",
       "      <td>Mostly Cloudythen MostlySunny andBreezy</td>\n",
       "      <td>High: 64 °F</td>\n",
       "      <td>Cloudy through mid morning, then gradual clear...</td>\n",
       "    </tr>\n",
       "    <tr>\n",
       "      <th>2</th>\n",
       "      <td>SaturdayNight</td>\n",
       "      <td>Mostly Cloudy</td>\n",
       "      <td>Low: 55 °F</td>\n",
       "      <td>Mostly cloudy, with a low around 55. Southwest...</td>\n",
       "    </tr>\n",
       "    <tr>\n",
       "      <th>3</th>\n",
       "      <td>Sunday</td>\n",
       "      <td>GradualClearing</td>\n",
       "      <td>High: 65 °F</td>\n",
       "      <td>Cloudy through mid morning, then gradual clear...</td>\n",
       "    </tr>\n",
       "    <tr>\n",
       "      <th>4</th>\n",
       "      <td>SundayNight</td>\n",
       "      <td>Partly Cloudy</td>\n",
       "      <td>Low: 54 °F</td>\n",
       "      <td>Partly cloudy, with a low around 54. West sout...</td>\n",
       "    </tr>\n",
       "    <tr>\n",
       "      <th>5</th>\n",
       "      <td>Monday</td>\n",
       "      <td>Mostly Sunny</td>\n",
       "      <td>High: 65 °F</td>\n",
       "      <td>Mostly sunny, with a high near 65.</td>\n",
       "    </tr>\n",
       "    <tr>\n",
       "      <th>6</th>\n",
       "      <td>MondayNight</td>\n",
       "      <td>Partly Cloudy</td>\n",
       "      <td>Low: 54 °F</td>\n",
       "      <td>Partly cloudy, with a low around 54.</td>\n",
       "    </tr>\n",
       "    <tr>\n",
       "      <th>7</th>\n",
       "      <td>Tuesday</td>\n",
       "      <td>Mostly Sunny</td>\n",
       "      <td>High: 66 °F</td>\n",
       "      <td>Mostly sunny, with a high near 66.</td>\n",
       "    </tr>\n",
       "    <tr>\n",
       "      <th>8</th>\n",
       "      <td>TuesdayNight</td>\n",
       "      <td>Partly Cloudy</td>\n",
       "      <td>Low: 54 °F</td>\n",
       "      <td>Partly cloudy, with a low around 54.</td>\n",
       "    </tr>\n",
       "  </tbody>\n",
       "</table>\n",
       "</div>"
      ],
      "text/plain": [
       "             Day                        Short Description  Temperature  \\\n",
       "0        Tonight                            Mostly Cloudy   Low: 56 °F   \n",
       "1       Saturday  Mostly Cloudythen MostlySunny andBreezy  High: 64 °F   \n",
       "2  SaturdayNight                            Mostly Cloudy   Low: 55 °F   \n",
       "3         Sunday                          GradualClearing  High: 65 °F   \n",
       "4    SundayNight                            Partly Cloudy   Low: 54 °F   \n",
       "5         Monday                             Mostly Sunny  High: 65 °F   \n",
       "6    MondayNight                            Partly Cloudy   Low: 54 °F   \n",
       "7        Tuesday                             Mostly Sunny  High: 66 °F   \n",
       "8   TuesdayNight                            Partly Cloudy   Low: 54 °F   \n",
       "\n",
       "                                            Detailed  \n",
       "0  Mostly cloudy, with a low around 56. Southwest...  \n",
       "1  Cloudy through mid morning, then gradual clear...  \n",
       "2  Mostly cloudy, with a low around 55. Southwest...  \n",
       "3  Cloudy through mid morning, then gradual clear...  \n",
       "4  Partly cloudy, with a low around 54. West sout...  \n",
       "5                 Mostly sunny, with a high near 65.  \n",
       "6               Partly cloudy, with a low around 54.  \n",
       "7                 Mostly sunny, with a high near 66.  \n",
       "8               Partly cloudy, with a low around 54.  "
      ]
     },
     "execution_count": 281,
     "metadata": {},
     "output_type": "execute_result"
    }
   ],
   "source": [
    "df=pd.DataFrame({})\n",
    "df['Day']=tit\n",
    "df['Short Description']=desc\n",
    "df['Temperature']=temp\n",
    "df['Detailed']=descr\n",
    "df"
   ]
  },
  {
   "cell_type": "code",
   "execution_count": null,
   "metadata": {},
   "outputs": [],
   "source": []
  },
  {
   "cell_type": "markdown",
   "metadata": {},
   "source": [
    "# Question 9"
   ]
  },
  {
   "cell_type": "markdown",
   "metadata": {},
   "source": [
    "# Write a python program to scrape fresher job listings from ‘https://internshala.com/’. It should include job title, company name, CTC, and apply date.\n"
   ]
  },
  {
   "cell_type": "code",
   "execution_count": 283,
   "metadata": {},
   "outputs": [
    {
     "data": {
      "text/plain": [
       "<Response [200]>"
      ]
     },
     "execution_count": 283,
     "metadata": {},
     "output_type": "execute_result"
    }
   ],
   "source": [
    "page=requests.get('https://internshala.com/fresher-jobs/jobs-in-mumbai')\n",
    "page"
   ]
  },
  {
   "cell_type": "code",
   "execution_count": 284,
   "metadata": {},
   "outputs": [],
   "source": [
    "soup=BeautifulSoup(page.content)"
   ]
  },
  {
   "cell_type": "code",
   "execution_count": null,
   "metadata": {
    "scrolled": true
   },
   "outputs": [],
   "source": [
    "title=soup.find_all('div',class_='heading_4_5 profile')\n",
    "job=[]\n",
    "for i in title:\n",
    "    job.append(i.text.replace('\\n',''))\n",
    "job"
   ]
  },
  {
   "cell_type": "code",
   "execution_count": null,
   "metadata": {
    "scrolled": true
   },
   "outputs": [],
   "source": [
    "company=soup.find_all('a',class_='link_display_like_text')\n",
    "name=[]\n",
    "for i in company:\n",
    "    name.append(i.text.strip())\n",
    "name"
   ]
  },
  {
   "cell_type": "code",
   "execution_count": null,
   "metadata": {},
   "outputs": [],
   "source": [
    "ct=soup.find_all('div',class_='item_body')\n",
    "ctc=[]\n",
    "for i in ct:\n",
    "    ctc.append(i.text.strip())\n",
    "ctc=ctc[4::3]\n",
    "ctc"
   ]
  },
  {
   "cell_type": "code",
   "execution_count": null,
   "metadata": {},
   "outputs": [],
   "source": [
    "date=soup.find_all('div',class_='item_body')\n",
    "apply=[]\n",
    "for i in date:\n",
    "    apply.append(i.text.strip())\n",
    "apply=apply[2::3]\n",
    "apply"
   ]
  },
  {
   "cell_type": "code",
   "execution_count": 289,
   "metadata": {
    "scrolled": false
   },
   "outputs": [
    {
     "data": {
      "text/html": [
       "<div>\n",
       "<style scoped>\n",
       "    .dataframe tbody tr th:only-of-type {\n",
       "        vertical-align: middle;\n",
       "    }\n",
       "\n",
       "    .dataframe tbody tr th {\n",
       "        vertical-align: top;\n",
       "    }\n",
       "\n",
       "    .dataframe thead th {\n",
       "        text-align: right;\n",
       "    }\n",
       "</style>\n",
       "<table border=\"1\" class=\"dataframe\">\n",
       "  <thead>\n",
       "    <tr style=\"text-align: right;\">\n",
       "      <th></th>\n",
       "      <th>Job profile</th>\n",
       "      <th>Company</th>\n",
       "      <th>CTC</th>\n",
       "      <th>Apply by</th>\n",
       "    </tr>\n",
       "  </thead>\n",
       "  <tbody>\n",
       "    <tr>\n",
       "      <th>0</th>\n",
       "      <td>Executive/Senior Executive - Partnerships</td>\n",
       "      <td>Freecharge Payments Technology Private Limited</td>\n",
       "      <td>3 - 5 LPA</td>\n",
       "      <td>11 Sep' 21</td>\n",
       "    </tr>\n",
       "    <tr>\n",
       "      <th>1</th>\n",
       "      <td>Business Development Associate</td>\n",
       "      <td>Collegepond Counsellors Private Limited</td>\n",
       "      <td>3 LPA</td>\n",
       "      <td>18 Sep' 21</td>\n",
       "    </tr>\n",
       "    <tr>\n",
       "      <th>2</th>\n",
       "      <td>Sales Magnet Associate</td>\n",
       "      <td>HyperCAP Private Limited</td>\n",
       "      <td>3 - 3.5 LPA</td>\n",
       "      <td>17 Sep' 21</td>\n",
       "    </tr>\n",
       "    <tr>\n",
       "      <th>3</th>\n",
       "      <td>Junior Social Media Marketing Manager</td>\n",
       "      <td>BarkButler Dog &amp; Cat Toys</td>\n",
       "      <td>3 - 4 LPA</td>\n",
       "      <td>16 Sep' 21</td>\n",
       "    </tr>\n",
       "    <tr>\n",
       "      <th>4</th>\n",
       "      <td>Sales Executive</td>\n",
       "      <td>Bonphul Air Products Private Limited</td>\n",
       "      <td>3 - 3.5 LPA</td>\n",
       "      <td>15 Sep' 21</td>\n",
       "    </tr>\n",
       "    <tr>\n",
       "      <th>5</th>\n",
       "      <td>Corporate Sales Associate</td>\n",
       "      <td>Arun Shankar &amp; Associates</td>\n",
       "      <td>4 - 8 LPA</td>\n",
       "      <td>11 Sep' 21</td>\n",
       "    </tr>\n",
       "    <tr>\n",
       "      <th>6</th>\n",
       "      <td>Linux Administrator</td>\n",
       "      <td>Media.net</td>\n",
       "      <td>5.03 LPA</td>\n",
       "      <td>11 Sep' 21</td>\n",
       "    </tr>\n",
       "    <tr>\n",
       "      <th>7</th>\n",
       "      <td>Management Trainee</td>\n",
       "      <td>Maharashtra Knowledge Corporation Limited (MKCL)</td>\n",
       "      <td>3 LPA</td>\n",
       "      <td>10 Sep' 21</td>\n",
       "    </tr>\n",
       "    <tr>\n",
       "      <th>8</th>\n",
       "      <td>Office Assistant</td>\n",
       "      <td>Maharashtra Metal Distributors</td>\n",
       "      <td>4 - 8.5 LPA</td>\n",
       "      <td>10 Sep' 21</td>\n",
       "    </tr>\n",
       "    <tr>\n",
       "      <th>9</th>\n",
       "      <td>Business Marketing Manager</td>\n",
       "      <td>MentorBoxx</td>\n",
       "      <td>3 - 3.5 LPA</td>\n",
       "      <td>9 Sep' 21</td>\n",
       "    </tr>\n",
       "    <tr>\n",
       "      <th>10</th>\n",
       "      <td>Junior Equity Research Analyst</td>\n",
       "      <td>Saurashtra Freight Private Limited</td>\n",
       "      <td>3 - 4 LPA</td>\n",
       "      <td>9 Sep' 21</td>\n",
       "    </tr>\n",
       "    <tr>\n",
       "      <th>11</th>\n",
       "      <td>Full Stack Software Engineer</td>\n",
       "      <td>Flair Labs</td>\n",
       "      <td>3 - 5 LPA</td>\n",
       "      <td>9 Sep' 21</td>\n",
       "    </tr>\n",
       "    <tr>\n",
       "      <th>12</th>\n",
       "      <td>Flutter Developer</td>\n",
       "      <td>Binary Numbers</td>\n",
       "      <td>3 - 5 LPA</td>\n",
       "      <td>6 Sep' 21</td>\n",
       "    </tr>\n",
       "    <tr>\n",
       "      <th>13</th>\n",
       "      <td>Business Development Associate</td>\n",
       "      <td>SkillSanta</td>\n",
       "      <td>3 - 3.5 LPA</td>\n",
       "      <td>5 Sep' 21</td>\n",
       "    </tr>\n",
       "    <tr>\n",
       "      <th>14</th>\n",
       "      <td>Client Engagement Executive</td>\n",
       "      <td>Alphacore Technologies Private Limited</td>\n",
       "      <td>5 - 7 LPA</td>\n",
       "      <td>4 Sep' 21</td>\n",
       "    </tr>\n",
       "    <tr>\n",
       "      <th>15</th>\n",
       "      <td>Product Manager</td>\n",
       "      <td>Tatva Health</td>\n",
       "      <td>3 - 4.2 LPA</td>\n",
       "      <td>3 Sep' 21</td>\n",
       "    </tr>\n",
       "    <tr>\n",
       "      <th>16</th>\n",
       "      <td>Sales Associate - Hospital Network</td>\n",
       "      <td>SureClaim</td>\n",
       "      <td>3 - 3.5 LPA</td>\n",
       "      <td>3 Sep' 21</td>\n",
       "    </tr>\n",
       "    <tr>\n",
       "      <th>17</th>\n",
       "      <td>Product Development Assistant</td>\n",
       "      <td>Acron Polymer Products</td>\n",
       "      <td>3.6 - 4.8 LPA</td>\n",
       "      <td>3 Sep' 21</td>\n",
       "    </tr>\n",
       "    <tr>\n",
       "      <th>18</th>\n",
       "      <td>Content &amp; E-commerce Management Associate</td>\n",
       "      <td>Limese</td>\n",
       "      <td>3.75 - 4 LPA</td>\n",
       "      <td>2 Sep' 21</td>\n",
       "    </tr>\n",
       "    <tr>\n",
       "      <th>19</th>\n",
       "      <td>Area Sales Manager - Maharashtra And Gujarat</td>\n",
       "      <td>Alphacore Technologies Private Limited</td>\n",
       "      <td>3 - 3.5 LPA</td>\n",
       "      <td>1 Sep' 21</td>\n",
       "    </tr>\n",
       "    <tr>\n",
       "      <th>20</th>\n",
       "      <td>Marketing Assistant</td>\n",
       "      <td>Design Horse LLP</td>\n",
       "      <td>3 - 4 LPA</td>\n",
       "      <td>1 Sep' 21</td>\n",
       "    </tr>\n",
       "    <tr>\n",
       "      <th>21</th>\n",
       "      <td>Business Development Executive</td>\n",
       "      <td>Zell Education</td>\n",
       "      <td>3 - 3.6 LPA</td>\n",
       "      <td>1 Sep' 21</td>\n",
       "    </tr>\n",
       "    <tr>\n",
       "      <th>22</th>\n",
       "      <td>Counselor (Corporate &amp; Student Training)</td>\n",
       "      <td>Candid Solutions</td>\n",
       "      <td>7 - 9 LPA</td>\n",
       "      <td>30 Aug' 21</td>\n",
       "    </tr>\n",
       "    <tr>\n",
       "      <th>23</th>\n",
       "      <td>Associate Software Developer</td>\n",
       "      <td>LenDenClub</td>\n",
       "      <td>3 - 3.5 LPA</td>\n",
       "      <td>30 Aug' 21</td>\n",
       "    </tr>\n",
       "    <tr>\n",
       "      <th>24</th>\n",
       "      <td>Associate Software Developer</td>\n",
       "      <td>Indigital Technologies LLP</td>\n",
       "      <td>4 - 7 LPA</td>\n",
       "      <td>30 Aug' 21</td>\n",
       "    </tr>\n",
       "    <tr>\n",
       "      <th>25</th>\n",
       "      <td>Operations Manager</td>\n",
       "      <td>Touchstone Partners</td>\n",
       "      <td>3 LPA</td>\n",
       "      <td>8 Sep' 21</td>\n",
       "    </tr>\n",
       "    <tr>\n",
       "      <th>26</th>\n",
       "      <td>Software Testing Engineer</td>\n",
       "      <td>SafeSquid Labs</td>\n",
       "      <td>4 - 7 LPA</td>\n",
       "      <td>27 Aug' 21</td>\n",
       "    </tr>\n",
       "    <tr>\n",
       "      <th>27</th>\n",
       "      <td>Business Development Executive</td>\n",
       "      <td>Padhhigh</td>\n",
       "      <td>3 LPA</td>\n",
       "      <td>26 Aug' 21</td>\n",
       "    </tr>\n",
       "    <tr>\n",
       "      <th>28</th>\n",
       "      <td>Corporate Sales Associate</td>\n",
       "      <td>Best Roadways Limited</td>\n",
       "      <td>3 - 7 LPA</td>\n",
       "      <td>26 Aug' 21</td>\n",
       "    </tr>\n",
       "    <tr>\n",
       "      <th>29</th>\n",
       "      <td>MERN Stack Developer</td>\n",
       "      <td>Binary Numbers</td>\n",
       "      <td>3.8 - 4.5 LPA</td>\n",
       "      <td>23 Aug' 21</td>\n",
       "    </tr>\n",
       "    <tr>\n",
       "      <th>30</th>\n",
       "      <td>Lead Counselor</td>\n",
       "      <td>HOSS - House Of Soft Skills</td>\n",
       "      <td>3 - 7 LPA</td>\n",
       "      <td>22 Aug' 21</td>\n",
       "    </tr>\n",
       "  </tbody>\n",
       "</table>\n",
       "</div>"
      ],
      "text/plain": [
       "                                      Job profile  \\\n",
       "0      Executive/Senior Executive - Partnerships    \n",
       "1                 Business Development Associate    \n",
       "2                         Sales Magnet Associate    \n",
       "3          Junior Social Media Marketing Manager    \n",
       "4                                Sales Executive    \n",
       "5                      Corporate Sales Associate    \n",
       "6                            Linux Administrator    \n",
       "7                             Management Trainee    \n",
       "8                               Office Assistant    \n",
       "9                     Business Marketing Manager    \n",
       "10                Junior Equity Research Analyst    \n",
       "11                  Full Stack Software Engineer    \n",
       "12                             Flutter Developer    \n",
       "13                Business Development Associate    \n",
       "14                   Client Engagement Executive    \n",
       "15                               Product Manager    \n",
       "16            Sales Associate - Hospital Network    \n",
       "17                 Product Development Assistant    \n",
       "18     Content & E-commerce Management Associate    \n",
       "19  Area Sales Manager - Maharashtra And Gujarat    \n",
       "20                           Marketing Assistant    \n",
       "21                Business Development Executive    \n",
       "22      Counselor (Corporate & Student Training)    \n",
       "23                  Associate Software Developer    \n",
       "24                  Associate Software Developer    \n",
       "25                            Operations Manager    \n",
       "26                     Software Testing Engineer    \n",
       "27                Business Development Executive    \n",
       "28                     Corporate Sales Associate    \n",
       "29                          MERN Stack Developer    \n",
       "30                                Lead Counselor    \n",
       "\n",
       "                                             Company            CTC  \\\n",
       "0     Freecharge Payments Technology Private Limited      3 - 5 LPA   \n",
       "1            Collegepond Counsellors Private Limited          3 LPA   \n",
       "2                           HyperCAP Private Limited    3 - 3.5 LPA   \n",
       "3                          BarkButler Dog & Cat Toys      3 - 4 LPA   \n",
       "4               Bonphul Air Products Private Limited    3 - 3.5 LPA   \n",
       "5                          Arun Shankar & Associates      4 - 8 LPA   \n",
       "6                                          Media.net       5.03 LPA   \n",
       "7   Maharashtra Knowledge Corporation Limited (MKCL)          3 LPA   \n",
       "8                     Maharashtra Metal Distributors    4 - 8.5 LPA   \n",
       "9                                         MentorBoxx    3 - 3.5 LPA   \n",
       "10                Saurashtra Freight Private Limited      3 - 4 LPA   \n",
       "11                                        Flair Labs      3 - 5 LPA   \n",
       "12                                    Binary Numbers      3 - 5 LPA   \n",
       "13                                        SkillSanta    3 - 3.5 LPA   \n",
       "14            Alphacore Technologies Private Limited      5 - 7 LPA   \n",
       "15                                      Tatva Health    3 - 4.2 LPA   \n",
       "16                                         SureClaim    3 - 3.5 LPA   \n",
       "17                            Acron Polymer Products  3.6 - 4.8 LPA   \n",
       "18                                            Limese   3.75 - 4 LPA   \n",
       "19            Alphacore Technologies Private Limited    3 - 3.5 LPA   \n",
       "20                                  Design Horse LLP      3 - 4 LPA   \n",
       "21                                    Zell Education    3 - 3.6 LPA   \n",
       "22                                  Candid Solutions      7 - 9 LPA   \n",
       "23                                        LenDenClub    3 - 3.5 LPA   \n",
       "24                        Indigital Technologies LLP      4 - 7 LPA   \n",
       "25                               Touchstone Partners          3 LPA   \n",
       "26                                    SafeSquid Labs      4 - 7 LPA   \n",
       "27                                          Padhhigh          3 LPA   \n",
       "28                             Best Roadways Limited      3 - 7 LPA   \n",
       "29                                    Binary Numbers  3.8 - 4.5 LPA   \n",
       "30                       HOSS - House Of Soft Skills      3 - 7 LPA   \n",
       "\n",
       "      Apply by  \n",
       "0   11 Sep' 21  \n",
       "1   18 Sep' 21  \n",
       "2   17 Sep' 21  \n",
       "3   16 Sep' 21  \n",
       "4   15 Sep' 21  \n",
       "5   11 Sep' 21  \n",
       "6   11 Sep' 21  \n",
       "7   10 Sep' 21  \n",
       "8   10 Sep' 21  \n",
       "9    9 Sep' 21  \n",
       "10   9 Sep' 21  \n",
       "11   9 Sep' 21  \n",
       "12   6 Sep' 21  \n",
       "13   5 Sep' 21  \n",
       "14   4 Sep' 21  \n",
       "15   3 Sep' 21  \n",
       "16   3 Sep' 21  \n",
       "17   3 Sep' 21  \n",
       "18   2 Sep' 21  \n",
       "19   1 Sep' 21  \n",
       "20   1 Sep' 21  \n",
       "21   1 Sep' 21  \n",
       "22  30 Aug' 21  \n",
       "23  30 Aug' 21  \n",
       "24  30 Aug' 21  \n",
       "25   8 Sep' 21  \n",
       "26  27 Aug' 21  \n",
       "27  26 Aug' 21  \n",
       "28  26 Aug' 21  \n",
       "29  23 Aug' 21  \n",
       "30  22 Aug' 21  "
      ]
     },
     "execution_count": 289,
     "metadata": {},
     "output_type": "execute_result"
    }
   ],
   "source": [
    "df=pd.DataFrame({})\n",
    "df['Job profile']=job[:31]\n",
    "df['Company']=name[:31]\n",
    "df['CTC']=ctc[:31]\n",
    "df['Apply by']=apply[:31]\n",
    "df"
   ]
  },
  {
   "cell_type": "code",
   "execution_count": null,
   "metadata": {},
   "outputs": [],
   "source": []
  },
  {
   "cell_type": "markdown",
   "metadata": {},
   "source": [
    "# Question 10"
   ]
  },
  {
   "cell_type": "markdown",
   "metadata": {},
   "source": [
    "# Write a python program to scrape house details from https://www.nobroker.in/ for any location. It should include house title, location, area, emi and price"
   ]
  },
  {
   "cell_type": "code",
   "execution_count": null,
   "metadata": {},
   "outputs": [],
   "source": [
    "page=requests.get('https://www.nobroker.in/property/sale/mumbai/Colaba?searchParam=W3sibGF0IjoxOC45MDY3MDMxLCJsb24iOjcyLjgxNDcxMjMsInBsYWNlSWQiOiJDaElKbGNJT281clI1enNSendzOXpsdmR0eHMiLCJwbGFjZU5hbWUiOiJDb2xhYmEifV0=&radius=2.0')\n",
    "page"
   ]
  },
  {
   "cell_type": "code",
   "execution_count": null,
   "metadata": {},
   "outputs": [],
   "source": [
    "soup=BeautifulSoup(page.content)"
   ]
  },
  {
   "cell_type": "code",
   "execution_count": null,
   "metadata": {},
   "outputs": [],
   "source": [
    "title=soup.find_all('h2',class_='heading-6 font-semi-bold nb__1AShY')\n",
    "house=[]\n",
    "for i in title:\n",
    "    house.append(i.text.strip())\n",
    "house\n"
   ]
  },
  {
   "cell_type": "code",
   "execution_count": null,
   "metadata": {},
   "outputs": [],
   "source": [
    "location=soup.find_all('div',class_='nb__2e3cc')\n",
    "loca=[]\n",
    "for i in location:\n",
    "    loca.append(i.text.strip())\n",
    "loca"
   ]
  },
  {
   "cell_type": "code",
   "execution_count": null,
   "metadata": {},
   "outputs": [],
   "source": [
    "area=soup.find_all('div',class_='nb__2CMjv')\n",
    "ar=[]\n",
    "for i in area:\n",
    "    ar.append(i.text.strip())\n",
    "ar"
   ]
  },
  {
   "cell_type": "code",
   "execution_count": null,
   "metadata": {},
   "outputs": [],
   "source": [
    "emi=soup.find_all('div',class_='font-semi-bold heading-6')\n",
    "em=[]\n",
    "for i in emi:\n",
    "    em.append(i.text)\n",
    "em=em[1::3]\n",
    "em"
   ]
  },
  {
   "cell_type": "code",
   "execution_count": null,
   "metadata": {},
   "outputs": [],
   "source": [
    "price=soup.find_all('div',class_='font-semi-bold heading-6')\n",
    "pr=[]\n",
    "for i in price:\n",
    "    for j in i.find_all('span'):\n",
    "        pr.append(j.text)\n",
    "pr=pr[1::2]\n",
    "pr"
   ]
  },
  {
   "cell_type": "code",
   "execution_count": 290,
   "metadata": {},
   "outputs": [
    {
     "data": {
      "text/html": [
       "<div>\n",
       "<style scoped>\n",
       "    .dataframe tbody tr th:only-of-type {\n",
       "        vertical-align: middle;\n",
       "    }\n",
       "\n",
       "    .dataframe tbody tr th {\n",
       "        vertical-align: top;\n",
       "    }\n",
       "\n",
       "    .dataframe thead th {\n",
       "        text-align: right;\n",
       "    }\n",
       "</style>\n",
       "<table border=\"1\" class=\"dataframe\">\n",
       "  <thead>\n",
       "    <tr style=\"text-align: right;\">\n",
       "      <th></th>\n",
       "      <th>House</th>\n",
       "      <th>Location</th>\n",
       "      <th>Area</th>\n",
       "      <th>EMI</th>\n",
       "      <th>Price</th>\n",
       "    </tr>\n",
       "  </thead>\n",
       "  <tbody>\n",
       "    <tr>\n",
       "      <th>0</th>\n",
       "      <td>1 BHK Flat  For Sale  In Kartar Bhavan Chsl In...</td>\n",
       "      <td>EastFacing</td>\n",
       "      <td>Kartar Bhavan, Colaba Causeway, Apollo Bandar,...</td>\n",
       "      <td>₹1.29 Lacs/Month</td>\n",
       "      <td>₹2.25 Crores</td>\n",
       "    </tr>\n",
       "    <tr>\n",
       "      <th>1</th>\n",
       "      <td>1 BHK Flat  For Sale  In Ashoka Apartment In C...</td>\n",
       "      <td>South-WestFacing</td>\n",
       "      <td>B Block, Near Strand Cinema</td>\n",
       "      <td>₹1.32 Lacs/Month</td>\n",
       "      <td>₹2.31 Crores</td>\n",
       "    </tr>\n",
       "    <tr>\n",
       "      <th>2</th>\n",
       "      <td>3 BHK Flat  For Sale  In Ruby Terrace In Colaba</td>\n",
       "      <td>Don't KnowFacing</td>\n",
       "      <td>, Shahid Bhagat Singh Road, Near Dena Bank</td>\n",
       "      <td>₹1.09 Lacs/Month</td>\n",
       "      <td>₹1.9 Crores</td>\n",
       "    </tr>\n",
       "    <tr>\n",
       "      <th>3</th>\n",
       "      <td>2 BHK Flat  For Sale  In Sushil Apartment In C...</td>\n",
       "      <td>WestFacing</td>\n",
       "      <td>near The Bombay Presidency Radio Club Limited ...</td>\n",
       "      <td>₹2.87 Lacs/Month</td>\n",
       "      <td>₹5 Crores</td>\n",
       "    </tr>\n",
       "    <tr>\n",
       "      <th>4</th>\n",
       "      <td>1 RK Flat  For Sale  In Shree Sadan Building I...</td>\n",
       "      <td>EastFacing</td>\n",
       "      <td>Lala Nigam Road near Colaba Market</td>\n",
       "      <td>₹37,254/Month</td>\n",
       "      <td>₹65 Lacs</td>\n",
       "    </tr>\n",
       "    <tr>\n",
       "      <th>5</th>\n",
       "      <td>2 BHK Flat  For Sale  In Kismet Building In Co...</td>\n",
       "      <td>NorthFacing</td>\n",
       "      <td>Azad Nagar, Near to Colaba Fire Station</td>\n",
       "      <td>₹2.46 Lacs/Month</td>\n",
       "      <td>₹4.3 Crores</td>\n",
       "    </tr>\n",
       "    <tr>\n",
       "      <th>6</th>\n",
       "      <td>2 BHK Flat  For Sale  In Undisclosed In Colaba</td>\n",
       "      <td>WestFacing</td>\n",
       "      <td>Undisclosed, Apollo Bandar Rd Apollo Bandar ne...</td>\n",
       "      <td>₹1.86 Lacs/Month</td>\n",
       "      <td>₹3.25 Crores</td>\n",
       "    </tr>\n",
       "    <tr>\n",
       "      <th>7</th>\n",
       "      <td>1 RK Flat  For Sale  In Moreshwar Sadan In Fort</td>\n",
       "      <td>SouthFacing</td>\n",
       "      <td>Shahid Bhagat Singh Rd, Cusrow Baug Colony, Ap...</td>\n",
       "      <td>₹34,388/Month</td>\n",
       "      <td>₹60 Lacs</td>\n",
       "    </tr>\n",
       "    <tr>\n",
       "      <th>8</th>\n",
       "      <td>1 RK Flat  For Sale  In Vijaydeep Chs In Colaba</td>\n",
       "      <td>NorthFacing</td>\n",
       "      <td>Colaba Causeway Near Strand Cinema</td>\n",
       "      <td>₹42,985/Month</td>\n",
       "      <td>₹75 Lacs</td>\n",
       "    </tr>\n",
       "    <tr>\n",
       "      <th>9</th>\n",
       "      <td>1 RK Flat  For Sale  In Om Moreshwar Sadan Chs...</td>\n",
       "      <td>SouthFacing</td>\n",
       "      <td>25, Harmos Ji St, Apollo Bandar, Colaba, Mumba...</td>\n",
       "      <td>₹34,388/Month</td>\n",
       "      <td>₹60 Lacs</td>\n",
       "    </tr>\n",
       "  </tbody>\n",
       "</table>\n",
       "</div>"
      ],
      "text/plain": [
       "                                               House          Location  \\\n",
       "0  1 BHK Flat  For Sale  In Kartar Bhavan Chsl In...        EastFacing   \n",
       "1  1 BHK Flat  For Sale  In Ashoka Apartment In C...  South-WestFacing   \n",
       "2    3 BHK Flat  For Sale  In Ruby Terrace In Colaba  Don't KnowFacing   \n",
       "3  2 BHK Flat  For Sale  In Sushil Apartment In C...        WestFacing   \n",
       "4  1 RK Flat  For Sale  In Shree Sadan Building I...        EastFacing   \n",
       "5  2 BHK Flat  For Sale  In Kismet Building In Co...       NorthFacing   \n",
       "6     2 BHK Flat  For Sale  In Undisclosed In Colaba        WestFacing   \n",
       "7    1 RK Flat  For Sale  In Moreshwar Sadan In Fort       SouthFacing   \n",
       "8    1 RK Flat  For Sale  In Vijaydeep Chs In Colaba       NorthFacing   \n",
       "9  1 RK Flat  For Sale  In Om Moreshwar Sadan Chs...       SouthFacing   \n",
       "\n",
       "                                                Area               EMI  \\\n",
       "0  Kartar Bhavan, Colaba Causeway, Apollo Bandar,...  ₹1.29 Lacs/Month   \n",
       "1                        B Block, Near Strand Cinema  ₹1.32 Lacs/Month   \n",
       "2         , Shahid Bhagat Singh Road, Near Dena Bank  ₹1.09 Lacs/Month   \n",
       "3  near The Bombay Presidency Radio Club Limited ...  ₹2.87 Lacs/Month   \n",
       "4                 Lala Nigam Road near Colaba Market     ₹37,254/Month   \n",
       "5            Azad Nagar, Near to Colaba Fire Station  ₹2.46 Lacs/Month   \n",
       "6  Undisclosed, Apollo Bandar Rd Apollo Bandar ne...  ₹1.86 Lacs/Month   \n",
       "7  Shahid Bhagat Singh Rd, Cusrow Baug Colony, Ap...     ₹34,388/Month   \n",
       "8                 Colaba Causeway Near Strand Cinema     ₹42,985/Month   \n",
       "9  25, Harmos Ji St, Apollo Bandar, Colaba, Mumba...     ₹34,388/Month   \n",
       "\n",
       "          Price  \n",
       "0  ₹2.25 Crores  \n",
       "1  ₹2.31 Crores  \n",
       "2   ₹1.9 Crores  \n",
       "3     ₹5 Crores  \n",
       "4      ₹65 Lacs  \n",
       "5   ₹4.3 Crores  \n",
       "6  ₹3.25 Crores  \n",
       "7      ₹60 Lacs  \n",
       "8      ₹75 Lacs  \n",
       "9      ₹60 Lacs  "
      ]
     },
     "execution_count": 290,
     "metadata": {},
     "output_type": "execute_result"
    }
   ],
   "source": [
    "df=pd.DataFrame({})\n",
    "df['House']=house\n",
    "df['Location']=loca\n",
    "df['Area']=ar\n",
    "df['EMI']=em\n",
    "df['Price']=pr\n",
    "df\n"
   ]
  },
  {
   "cell_type": "code",
   "execution_count": null,
   "metadata": {},
   "outputs": [],
   "source": []
  }
 ],
 "metadata": {
  "kernelspec": {
   "display_name": "Python 3",
   "language": "python",
   "name": "python3"
  },
  "language_info": {
   "codemirror_mode": {
    "name": "ipython",
    "version": 3
   },
   "file_extension": ".py",
   "mimetype": "text/x-python",
   "name": "python",
   "nbconvert_exporter": "python",
   "pygments_lexer": "ipython3",
   "version": "3.8.5"
  }
 },
 "nbformat": 4,
 "nbformat_minor": 4
}
